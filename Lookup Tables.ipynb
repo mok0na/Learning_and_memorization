{
 "cells": [
  {
   "cell_type": "markdown",
   "metadata": {},
   "source": [
    "# A Network of Lookup Tables"
   ]
  },
  {
   "cell_type": "code",
   "execution_count": 4,
   "metadata": {},
   "outputs": [],
   "source": [
    "import numpy as np\n",
    "import math\n",
    "import matplotlib\n",
    "import matplotlib.pyplot as plt\n",
    "from collections import Counter\n",
    "import pickle\n",
    "import pandas as pd\n",
    "from sklearn.metrics import accuracy_score\n",
    "import time\n",
    "\n",
    "%matplotlib inline"
   ]
  },
  {
   "cell_type": "markdown",
   "metadata": {},
   "source": [
    "## Example 2\n",
    "\n",
    "A network of k = 2 layers.\n",
    "The first layer has 2 luts.\n",
    "The second layer has 1 lut."
   ]
  },
  {
   "cell_type": "code",
   "execution_count": 2,
   "metadata": {},
   "outputs": [],
   "source": [
    "train_set = [([0,0,0],0),([0,0,0],1),([0,0,0],1),([0,0,1],1),([1,0,0],0),([1,1,0],0),([1,1,0],1)]\n",
    "X_train = np.array([[0,0,0],[0,0,0],[0,0,0],[0,0,1],[1,0,0],[1,1,0],[1,1,0]])\n",
    "y_train = np.array([0,1,1,1,0,0,1])"
   ]
  },
  {
   "cell_type": "markdown",
   "metadata": {},
   "source": [
    "\n"
   ]
  },
  {
   "cell_type": "code",
   "execution_count": 3,
   "metadata": {},
   "outputs": [],
   "source": [
    "class LUT:\n",
    "    def __init__(self, inputs, indexes_0, indexes_1, k , index = []):\n",
    "        # build lut\n",
    "        self.k = k\n",
    "        if (index == []):\n",
    "            self.index = np.sort(np.random.choice(len(inputs[0]),k,replace = False))\n",
    "        else:\n",
    "            self.index = index\n",
    "        self.inv = np.arange(k-1,-1,-1)\n",
    "        self.output = np.zeros((2**k), int)\n",
    "        self.count_0 = np.zeros((2**k), int)\n",
    "        self.count_1 = np.zeros((2**k), int)\n",
    "        self.count(inputs[:,self.index], indexes_0,indexes_1)\n",
    "        \n",
    "    def count(self, subset, indexes_0, indexes_1):\n",
    "        zeros = Counter(np.sort(self.get_index_vec_to_dec(subset[indexes_0])))\n",
    "        ones =  Counter(np.sort(self.get_index_vec_to_dec(subset[indexes_1])))\n",
    "        for key in zeros.keys():\n",
    "            self.count_0[key] = zeros[key]\n",
    "        for key in ones.keys():\n",
    "            self.count_1[key] = ones[key]\n",
    "        # compute lut\n",
    "        self.output[self.count_0 > self.count_1] = 0\n",
    "        self.output[self.count_0 < self.count_1] = 1\n",
    "        # picked uniformly at random\n",
    "        self.output[self.count_0 == self.count_1] = np.random.choice([0,1], len(self.output[self.count_0 == self.count_1]))\n",
    "        \n",
    "    def get_index_vec_to_dec(self, X , axis = 1):\n",
    "        dec_index = np.sum(X * np.power(2*np.ones(self.k,int),self.inv),axis= axis)\n",
    "        return dec_index\n",
    "    \n",
    "    def get_index_dec_to_vec(self, dec):\n",
    "        return \"{0:b}\".format(dec).zfill(self.k)\n",
    "    \n",
    "    def look(self, X):\n",
    "        # X is a numpy array\n",
    "        X = np.array(X)\n",
    "        return self.output[self.get_index_vec_to_dec(X[self.index], 0)]\n",
    "    \n",
    "    def look_array(self, dataset):\n",
    "        subdataset = dataset[:,self.index]\n",
    "        return self.output[self.get_index_vec_to_dec(subdataset)]\n",
    "        \n",
    "    def score(self, labels, dataset):\n",
    "        predicted = self.look_array(dataset)\n",
    "        return accuracy_score(labels,predicted)\n",
    "    \n",
    "    def show(self):\n",
    "        print(\"Look up table\")\n",
    "        print(\"Index = {}\".format(self.index))\n",
    "        print(\"  p    |  y0 |  y1 |  f   |\")\n",
    "        for i in range(len(self.output)):\n",
    "            if (self.count_0[i] == self.count_1[i]):\n",
    "                f = \"{}*\".format(self.output[i])\n",
    "            else:\n",
    "                f = \"{} \".format(self.output[i])\n",
    "            print(\"  {}   |  {}  |  {}  |  {}  |\".format(self.get_index_dec_to_vec(i), self.count_0[i], self.count_1[i], f))\n",
    "            \n",
    "    def clean(self):\n",
    "        self.count_0 = None\n",
    "        self.count_1 = None"
   ]
  },
  {
   "cell_type": "code",
   "execution_count": 4,
   "metadata": {},
   "outputs": [
    {
     "name": "stdout",
     "output_type": "stream",
     "text": [
      "Look up table\n",
      "Index = [0, 1]\n",
      "  p    |  y0 |  y1 |  f   |\n",
      "  00   |  1  |  3  |  1   |\n",
      "  01   |  0  |  0  |  1*  |\n",
      "  10   |  1  |  0  |  0   |\n",
      "  11   |  1  |  1  |  0*  |\n",
      "predict [0,0,0] : 1\n",
      "accuracy : 0.7142857142857143\n"
     ]
    }
   ],
   "source": [
    "#index = np.sort(np.random.choice(len(train_set[0][0]),k,replace = False))\n",
    "k = 2\n",
    "index = [0,1]\n",
    "lut = LUT(X_train,np.where(y_train == 0), np.where(y_train == 1), 2, index)\n",
    "lut.show()\n",
    "print(\"predict [0,0,0] : {}\".format(lut.look(np.array([0,0,0]))))\n",
    "print(\"accuracy : {}\".format(lut.score(y_train, X_train)))"
   ]
  },
  {
   "cell_type": "code",
   "execution_count": 5,
   "metadata": {},
   "outputs": [
    {
     "name": "stdout",
     "output_type": "stream",
     "text": [
      " ==== first layer === \n",
      "\n",
      "Look up table\n",
      "Index = [0 1]\n",
      "  p    |  y0 |  y1 |  f   |\n",
      "  00   |  1  |  3  |  1   |\n",
      "  01   |  0  |  0  |  0*  |\n",
      "  10   |  1  |  0  |  0   |\n",
      "  11   |  1  |  1  |  1*  |\n",
      "Look up table\n",
      "Index = [0 2]\n",
      "  p    |  y0 |  y1 |  f   |\n",
      "  00   |  1  |  2  |  1   |\n",
      "  01   |  0  |  1  |  1   |\n",
      "  10   |  2  |  1  |  0   |\n",
      "  11   |  0  |  0  |  0*  |\n",
      "\n",
      " ==== second layer === \n",
      "\n",
      "Look up table\n",
      "Index = [0 1]\n",
      "  p    |  y0 |  y1 |  f   |\n",
      "  00   |  1  |  0  |  0   |\n",
      "  01   |  0  |  0  |  1*  |\n",
      "  10   |  1  |  1  |  0*  |\n",
      "  11   |  1  |  3  |  1   |\n",
      "Time spent : 0.02s\n"
     ]
    }
   ],
   "source": [
    "n_luts = [2, 1] # number of luts per layer\n",
    "k = 2 # sampling input\n",
    "\n",
    "# make a Network of look up table\n",
    "layers = []\n",
    "\n",
    "indexes_0 = np.where(y_train == 0) \n",
    "indexes_1 = np.where(y_train == 1)\n",
    "outputs = np.zeros((len(X_train),n_luts[0]),int)\n",
    "\n",
    "start = time.time()\n",
    "\n",
    "# first layer\n",
    "print(\" ==== first layer === \\n\")\n",
    "layer = []\n",
    "for i in range(n_luts[0]):\n",
    "    # build lut\n",
    "    lut = LUT(X_train, indexes_0, indexes_1, k)\n",
    "    lut.show()\n",
    "    outputs[:,i] = lut.look_array(X_train)\n",
    "    lut.clean()\n",
    "    layer.append(lut)\n",
    "layers.append(layer)\n",
    "\n",
    "# second layer\n",
    "print(\"\\n ==== second layer === \\n\")\n",
    "layer = []\n",
    "inputs = outputs\n",
    "outputs = np.zeros((len(X_train),n_luts[1]),int)\n",
    "for i in range(n_luts[1]):\n",
    "    lut = LUT(inputs, indexes_0, indexes_1, k)\n",
    "    lut.show()\n",
    "    outputs[:,i] = lut.look_array(inputs)\n",
    "    lut.clean()\n",
    "    layer.append(lut)\n",
    "layers.append(layer) \n",
    "\n",
    "end = time.time() - start\n",
    "print(\"Time spent : {:.2f}s\".format(end))"
   ]
  },
  {
   "cell_type": "markdown",
   "metadata": {},
   "source": [
    "## Experiment 1\n",
    "\n",
    "A Network with 5 hidden layers of 1024 luts and 1 lut in the output layer. k = 9."
   ]
  },
  {
   "cell_type": "markdown",
   "metadata": {},
   "source": [
    "### Load MNIST"
   ]
  },
  {
   "cell_type": "code",
   "execution_count": 6,
   "metadata": {},
   "outputs": [
    {
     "data": {
      "text/plain": [
       "'\\ndef loadMNIST(prefix, folder):\\n    intType = np.dtype( \\'int32\\' ).newbyteorder( \\'>\\' )\\n    nMetaDataBytes = 4 * intType.itemsize\\n\\n    data = np.fromfile( folder + \"/\" + prefix + \\'-images.idx3-ubyte\\', dtype = \\'ubyte\\' )\\n    magicBytes, nImages, width, height = np.frombuffer( data[:nMetaDataBytes].tobytes(), intType )\\n    data = data[nMetaDataBytes:].astype( dtype = \\'float32\\' ).reshape( [ nImages, width, height ] )\\n\\n    labels = np.fromfile( folder + \"/\" + prefix + \\'-labels.idx1-ubyte\\',\\n                          dtype = \\'ubyte\\' )[2 * intType.itemsize:]\\n\\n    return data, labels\\n\\ntrainingImages, trainingLabels = loadMNIST( \"train\", \"./data/mnist\" )\\ntestImages, testLabels = loadMNIST( \"t10k\", \"./data/mnist\" )\\n\\nfrom ipywidgets import FloatProgress\\nfrom IPython.display import display\\n\\nX_train = np.zeros((60000,784), int)\\ny_train = np.zeros((60000),int)\\nthreshold=0.3 * 255\\nf = FloatProgress(min=0, max=trainingImages.shape[0])\\ndisplay(f)\\nfor i in range(trainingImages.shape[0]): \\n    f.value+=1\\n    X_train[i,:]= 1.0*(trainingImages[i].reshape(784)>threshold)\\ny_train[trainingLabels>4] = 1\\nprint(X_train.shape)\\n\\nX_test = np.zeros((10000,784), int)\\ny_test = np.zeros((10000),int)\\nthreshold=0.3 * 255\\nf = FloatProgress(min=0, max=testImages.shape[0])\\ndisplay(f)\\nfor i in range(testImages.shape[0]): \\n    f.value+=1\\n    X_test[i,:]= 1.0*(testImages[i].reshape(784)>threshold)\\ny_test[testLabels>4] = 1\\nprint(X_test.shape)\\n\\nwith open(\\'./data/mnist/mnist_X_train.p\\', \\'wb\\') as f:\\n    pickle.dump(X_train, f)\\nwith open(\\'./data/mnist/mnist_y_train.p\\', \\'wb\\') as f:\\n    pickle.dump(y_train, f)\\nwith open(\\'./data/mnist/mnist_X_test.p\\', \\'wb\\') as f:\\n    pickle.dump(X_test, f)\\nwith open(\\'./data/mnist/mnist_y_test.p\\', \\'wb\\') as f:\\n    pickle.dump(y_test, f)\\n'"
      ]
     },
     "execution_count": 6,
     "metadata": {},
     "output_type": "execute_result"
    }
   ],
   "source": [
    "\"\"\"\n",
    "def loadMNIST(prefix, folder):\n",
    "    intType = np.dtype( 'int32' ).newbyteorder( '>' )\n",
    "    nMetaDataBytes = 4 * intType.itemsize\n",
    "\n",
    "    data = np.fromfile( folder + \"/\" + prefix + '-images.idx3-ubyte', dtype = 'ubyte' )\n",
    "    magicBytes, nImages, width, height = np.frombuffer( data[:nMetaDataBytes].tobytes(), intType )\n",
    "    data = data[nMetaDataBytes:].astype( dtype = 'float32' ).reshape( [ nImages, width, height ] )\n",
    "\n",
    "    labels = np.fromfile( folder + \"/\" + prefix + '-labels.idx1-ubyte',\n",
    "                          dtype = 'ubyte' )[2 * intType.itemsize:]\n",
    "\n",
    "    return data, labels\n",
    "\n",
    "trainingImages, trainingLabels = loadMNIST( \"train\", \"./data/mnist\" )\n",
    "testImages, testLabels = loadMNIST( \"t10k\", \"./data/mnist\" )\n",
    "\n",
    "from ipywidgets import FloatProgress\n",
    "from IPython.display import display\n",
    "\n",
    "X_train = np.zeros((60000,784), int)\n",
    "y_train = np.zeros((60000),int)\n",
    "threshold=0.3 * 255\n",
    "f = FloatProgress(min=0, max=trainingImages.shape[0])\n",
    "display(f)\n",
    "for i in range(trainingImages.shape[0]): \n",
    "    f.value+=1\n",
    "    X_train[i,:]= 1.0*(trainingImages[i].reshape(784)>threshold)\n",
    "y_train[trainingLabels>4] = 1\n",
    "print(X_train.shape)\n",
    "\n",
    "X_test = np.zeros((10000,784), int)\n",
    "y_test = np.zeros((10000),int)\n",
    "threshold=0.3 * 255\n",
    "f = FloatProgress(min=0, max=testImages.shape[0])\n",
    "display(f)\n",
    "for i in range(testImages.shape[0]): \n",
    "    f.value+=1\n",
    "    X_test[i,:]= 1.0*(testImages[i].reshape(784)>threshold)\n",
    "y_test[testLabels>4] = 1\n",
    "print(X_test.shape)\n",
    "\n",
    "with open('./data/mnist/mnist_X_train.p', 'wb') as f:\n",
    "    pickle.dump(X_train, f)\n",
    "with open('./data/mnist/mnist_y_train.p', 'wb') as f:\n",
    "    pickle.dump(y_train, f)\n",
    "with open('./data/mnist/mnist_X_test.p', 'wb') as f:\n",
    "    pickle.dump(X_test, f)\n",
    "with open('./data/mnist/mnist_y_test.p', 'wb') as f:\n",
    "    pickle.dump(y_test, f)\n",
    "\"\"\""
   ]
  },
  {
   "cell_type": "code",
   "execution_count": 2,
   "metadata": {},
   "outputs": [],
   "source": [
    "with open('./data/mnist/mnist_X_train.p', 'rb') as f:\n",
    "    X_train = pickle.load(f)\n",
    "with open('./data/mnist/mnist_y_train.p', 'rb') as f:\n",
    "    y_train = pickle.load(f)\n",
    "with open('./data/mnist/mnist_X_test.p', 'rb') as f:\n",
    "    X_test = pickle.load(f)\n",
    "with open('./data/mnist/mnist_y_test.p', 'rb') as f:\n",
    "    y_test = pickle.load(f)"
   ]
  },
  {
   "cell_type": "code",
   "execution_count": 8,
   "metadata": {},
   "outputs": [
    {
     "data": {
      "text/plain": [
       "<matplotlib.image.AxesImage at 0x2523746ff60>"
      ]
     },
     "execution_count": 8,
     "metadata": {},
     "output_type": "execute_result"
    },
    {
     "data": {
      "image/png": "[encoded data removed]",
      "text/plain": [
       "<matplotlib.figure.Figure at 0x252373e73c8>"
      ]
     },
     "metadata": {},
     "output_type": "display_data"
    }
   ],
   "source": [
    "plt.imshow(X_train[0].reshape(28,28) , matplotlib.pyplot.cm.gray)"
   ]
  },
  {
   "cell_type": "markdown",
   "metadata": {},
   "source": [
    "### Build Network"
   ]
  },
  {
   "cell_type": "code",
   "execution_count": 9,
   "metadata": {},
   "outputs": [
    {
     "name": "stdout",
     "output_type": "stream",
     "text": [
      "layer 0 nb luts : 784\n"
     ]
    },
    {
     "name": "stderr",
     "output_type": "stream",
     "text": [
      "100%|████████████████████████████████████████████████████████████████████████████████| 784/784 [01:26<00:00, 10.29it/s]\n"
     ]
    },
    {
     "name": "stdout",
     "output_type": "stream",
     "text": [
      "layer 1 nb luts : 1024\n"
     ]
    },
    {
     "name": "stderr",
     "output_type": "stream",
     "text": [
      "100%|██████████████████████████████████████████████████████████████████████████████| 1024/1024 [01:51<00:00,  6.07it/s]\n"
     ]
    },
    {
     "name": "stdout",
     "output_type": "stream",
     "text": [
      "layer 2 nb luts : 1024\n"
     ]
    },
    {
     "name": "stderr",
     "output_type": "stream",
     "text": [
      "100%|██████████████████████████████████████████████████████████████████████████████| 1024/1024 [01:50<00:00, 10.96it/s]\n"
     ]
    },
    {
     "name": "stdout",
     "output_type": "stream",
     "text": [
      "layer 3 nb luts : 1024\n"
     ]
    },
    {
     "name": "stderr",
     "output_type": "stream",
     "text": [
      "100%|██████████████████████████████████████████████████████████████████████████████| 1024/1024 [01:44<00:00,  9.85it/s]\n"
     ]
    },
    {
     "name": "stdout",
     "output_type": "stream",
     "text": [
      "layer 4 nb luts : 1024\n"
     ]
    },
    {
     "name": "stderr",
     "output_type": "stream",
     "text": [
      "100%|██████████████████████████████████████████████████████████████████████████████| 1024/1024 [01:37<00:00, 10.69it/s]\n"
     ]
    },
    {
     "name": "stdout",
     "output_type": "stream",
     "text": [
      "layer 5 nb luts : 1024\n"
     ]
    },
    {
     "name": "stderr",
     "output_type": "stream",
     "text": [
      "100%|██████████████████████████████████████████████████████████████████████████████| 1024/1024 [01:44<00:00,  5.15it/s]\n"
     ]
    },
    {
     "name": "stdout",
     "output_type": "stream",
     "text": [
      "layer 6 nb luts : 1\n"
     ]
    },
    {
     "name": "stderr",
     "output_type": "stream",
     "text": [
      "100%|████████████████████████████████████████████████████████████████████████████████████| 1/1 [00:00<00:00,  3.99it/s]\n"
     ]
    },
    {
     "name": "stdout",
     "output_type": "stream",
     "text": [
      "Time spent : 615.35s\n"
     ]
    }
   ],
   "source": [
    "from tqdm import tqdm\n",
    "\n",
    "n_luts = [784, 1024,1024,1024,1024,1024,1] # number of luts per layer\n",
    "k = 8 # sampling input\n",
    "layers = []\n",
    "\n",
    "inputs = np.zeros((len(y_train),8),int)\n",
    "indexes_0 = np.where(y_train == 0) \n",
    "indexes_1 = np.where(y_train == 1)\n",
    "\n",
    "train_accuracy = []\n",
    "\n",
    "start = time.time()\n",
    "\n",
    "# input layer\n",
    "l = 0\n",
    "print(\"layer {} nb luts : {}\".format(l, n_luts[l]))\n",
    "layer = []\n",
    "accuracy = []\n",
    "inputs = X_train\n",
    "outputs = np.zeros((len(y_train),n_luts[l]),int)\n",
    "for i in tqdm(range(n_luts[0])):\n",
    "    # build lut\n",
    "    lut = LUT(inputs, indexes_0, indexes_1, k)\n",
    "    outputs[:,i] = lut.look_array(inputs)\n",
    "    layer.append(lut)\n",
    "    accuracy.append(accuracy_score(y_train, outputs[:,i]))\n",
    "layers.append(layer)\n",
    "train_accuracy.append(accuracy)\n",
    "\n",
    "# 5 hidden layers + 1 output layer\n",
    "for l in range(1,7):\n",
    "    print(\"layer {} nb luts : {}\".format(l, n_luts[l]))\n",
    "    layer = []\n",
    "    accuracy = []\n",
    "    inputs = outputs\n",
    "    outputs = np.zeros((len(y_train),n_luts[l]),int)\n",
    "    for i in tqdm(range(n_luts[l])):\n",
    "        lut = LUT(inputs, indexes_0, indexes_1, k)\n",
    "        outputs[:,i] = lut.look_array(inputs)\n",
    "        layer.append(lut)\n",
    "        accuracy.append(accuracy_score(y_train, outputs[:,i]))\n",
    "    layers.append(layer)\n",
    "    train_accuracy.append(accuracy)\n",
    "    \n",
    "end = time.time() - start\n",
    "print(\"Time spent : {:.2f}s\".format(end))"
   ]
  },
  {
   "cell_type": "code",
   "execution_count": 10,
   "metadata": {},
   "outputs": [
    {
     "name": "stdout",
     "output_type": "stream",
     "text": [
      "Experiment 1 : Training accuracy\n",
      "\n"
     ]
    },
    {
     "data": {
      "text/html": [
       "<div>\n",
       "<style scoped>\n",
       "    .dataframe tbody tr th:only-of-type {\n",
       "        vertical-align: middle;\n",
       "    }\n",
       "\n",
       "    .dataframe tbody tr th {\n",
       "        vertical-align: top;\n",
       "    }\n",
       "\n",
       "    .dataframe thead th {\n",
       "        text-align: right;\n",
       "    }\n",
       "</style>\n",
       "<table border=\"1\" class=\"dataframe\">\n",
       "  <thead>\n",
       "    <tr style=\"text-align: right;\">\n",
       "      <th></th>\n",
       "      <th>0</th>\n",
       "      <th>1</th>\n",
       "      <th>2</th>\n",
       "      <th>3</th>\n",
       "      <th>4</th>\n",
       "      <th>5</th>\n",
       "      <th>6</th>\n",
       "    </tr>\n",
       "  </thead>\n",
       "  <tbody>\n",
       "    <tr>\n",
       "      <th>count</th>\n",
       "      <td>784.000000</td>\n",
       "      <td>1024.000000</td>\n",
       "      <td>1024.000000</td>\n",
       "      <td>1024.000000</td>\n",
       "      <td>1024.000000</td>\n",
       "      <td>1024.000000</td>\n",
       "      <td>1.000000</td>\n",
       "    </tr>\n",
       "    <tr>\n",
       "      <th>mean</th>\n",
       "      <td>0.610645</td>\n",
       "      <td>0.754713</td>\n",
       "      <td>0.842633</td>\n",
       "      <td>0.877109</td>\n",
       "      <td>0.891229</td>\n",
       "      <td>0.899225</td>\n",
       "      <td>0.904383</td>\n",
       "    </tr>\n",
       "    <tr>\n",
       "      <th>std</th>\n",
       "      <td>0.044402</td>\n",
       "      <td>0.019719</td>\n",
       "      <td>0.006909</td>\n",
       "      <td>0.003001</td>\n",
       "      <td>0.001228</td>\n",
       "      <td>0.000564</td>\n",
       "      <td>NaN</td>\n",
       "    </tr>\n",
       "    <tr>\n",
       "      <th>min</th>\n",
       "      <td>0.511017</td>\n",
       "      <td>0.670267</td>\n",
       "      <td>0.819883</td>\n",
       "      <td>0.866267</td>\n",
       "      <td>0.887483</td>\n",
       "      <td>0.896983</td>\n",
       "      <td>0.904383</td>\n",
       "    </tr>\n",
       "    <tr>\n",
       "      <th>25%</th>\n",
       "      <td>0.580608</td>\n",
       "      <td>0.742179</td>\n",
       "      <td>0.837696</td>\n",
       "      <td>0.875142</td>\n",
       "      <td>0.890333</td>\n",
       "      <td>0.898850</td>\n",
       "      <td>0.904383</td>\n",
       "    </tr>\n",
       "    <tr>\n",
       "      <th>50%</th>\n",
       "      <td>0.608142</td>\n",
       "      <td>0.755833</td>\n",
       "      <td>0.842892</td>\n",
       "      <td>0.877175</td>\n",
       "      <td>0.891283</td>\n",
       "      <td>0.899233</td>\n",
       "      <td>0.904383</td>\n",
       "    </tr>\n",
       "    <tr>\n",
       "      <th>75%</th>\n",
       "      <td>0.639158</td>\n",
       "      <td>0.768221</td>\n",
       "      <td>0.847467</td>\n",
       "      <td>0.879237</td>\n",
       "      <td>0.892117</td>\n",
       "      <td>0.899600</td>\n",
       "      <td>0.904383</td>\n",
       "    </tr>\n",
       "    <tr>\n",
       "      <th>max</th>\n",
       "      <td>0.738200</td>\n",
       "      <td>0.805000</td>\n",
       "      <td>0.862433</td>\n",
       "      <td>0.886533</td>\n",
       "      <td>0.894917</td>\n",
       "      <td>0.901383</td>\n",
       "      <td>0.904383</td>\n",
       "    </tr>\n",
       "  </tbody>\n",
       "</table>\n",
       "</div>"
      ],
      "text/plain": [
       "                0            1            2            3            4  \\\n",
       "count  784.000000  1024.000000  1024.000000  1024.000000  1024.000000   \n",
       "mean     0.610645     0.754713     0.842633     0.877109     0.891229   \n",
       "std      0.044402     0.019719     0.006909     0.003001     0.001228   \n",
       "min      0.511017     0.670267     0.819883     0.866267     0.887483   \n",
       "25%      0.580608     0.742179     0.837696     0.875142     0.890333   \n",
       "50%      0.608142     0.755833     0.842892     0.877175     0.891283   \n",
       "75%      0.639158     0.768221     0.847467     0.879237     0.892117   \n",
       "max      0.738200     0.805000     0.862433     0.886533     0.894917   \n",
       "\n",
       "                 5         6  \n",
       "count  1024.000000  1.000000  \n",
       "mean      0.899225  0.904383  \n",
       "std       0.000564       NaN  \n",
       "min       0.896983  0.904383  \n",
       "25%       0.898850  0.904383  \n",
       "50%       0.899233  0.904383  \n",
       "75%       0.899600  0.904383  \n",
       "max       0.901383  0.904383  "
      ]
     },
     "execution_count": 10,
     "metadata": {},
     "output_type": "execute_result"
    }
   ],
   "source": [
    "print(\"Experiment 1 : Training accuracy\\n\")\n",
    "df = pd.DataFrame(train_accuracy).transpose()\n",
    "df.describe()"
   ]
  },
  {
   "cell_type": "code",
   "execution_count": 11,
   "metadata": {},
   "outputs": [
    {
     "name": "stderr",
     "output_type": "stream",
     "text": [
      "100%|████████████████████████████████████████████████████████████████████████████████| 784/784 [00:08<00:00, 95.27it/s]\n",
      "100%|██████████████████████████████████████████████████████████████████████████████| 1024/1024 [00:11<00:00, 91.80it/s]\n",
      "100%|█████████████████████████████████████████████████████████████████████████████| 1024/1024 [00:09<00:00, 106.34it/s]\n",
      "100%|█████████████████████████████████████████████████████████████████████████████| 1024/1024 [00:09<00:00, 112.80it/s]\n",
      "100%|█████████████████████████████████████████████████████████████████████████████| 1024/1024 [00:10<00:00, 101.25it/s]\n",
      "100%|█████████████████████████████████████████████████████████████████████████████| 1024/1024 [00:08<00:00, 127.32it/s]\n",
      "100%|████████████████████████████████████████████████████████████████████████████████████| 1/1 [00:00<00:00, 91.13it/s]\n"
     ]
    },
    {
     "name": "stdout",
     "output_type": "stream",
     "text": [
      "Time spent : 56.46s\n"
     ]
    }
   ],
   "source": [
    "# Compute test accuracy\n",
    "\n",
    "# input layer\n",
    "k = 8\n",
    "\n",
    "test_accuracy = []\n",
    "\n",
    "start = time.time()\n",
    "\n",
    "inputs = X_test\n",
    "outputs = np.zeros((len(X_test),len(layers[0])),int)\n",
    "accuracy = []\n",
    "for i in tqdm(range(len(layers[0]))):\n",
    "    score = layers[0][i].score(y_test, inputs)\n",
    "    outputs[:,i] = layers[0][i].look_array(inputs)\n",
    "    accuracy.append(score)\n",
    "test_accuracy.append(accuracy)\n",
    "    \n",
    "for layer in layers[1:]:\n",
    "    accuracy = []\n",
    "    inputs = outputs\n",
    "    outputs = np.zeros((len(X_test),len(layer)),int)\n",
    "    for i in tqdm(range(len(layer))):\n",
    "        score = layer[i].score(y_test, inputs)\n",
    "        outputs[:,i] = layer[i].look_array(inputs)\n",
    "        accuracy.append(score)\n",
    "    test_accuracy.append(accuracy)\n",
    "\n",
    "end = time.time() - start\n",
    "print(\"Time spent : {:.2f}s\".format(end))"
   ]
  },
  {
   "cell_type": "code",
   "execution_count": 12,
   "metadata": {},
   "outputs": [
    {
     "name": "stdout",
     "output_type": "stream",
     "text": [
      "Experiment 1 : Test accuracy\n",
      "\n"
     ]
    },
    {
     "data": {
      "text/html": [
       "<div>\n",
       "<style scoped>\n",
       "    .dataframe tbody tr th:only-of-type {\n",
       "        vertical-align: middle;\n",
       "    }\n",
       "\n",
       "    .dataframe tbody tr th {\n",
       "        vertical-align: top;\n",
       "    }\n",
       "\n",
       "    .dataframe thead th {\n",
       "        text-align: right;\n",
       "    }\n",
       "</style>\n",
       "<table border=\"1\" class=\"dataframe\">\n",
       "  <thead>\n",
       "    <tr style=\"text-align: right;\">\n",
       "      <th></th>\n",
       "      <th>0</th>\n",
       "      <th>1</th>\n",
       "      <th>2</th>\n",
       "      <th>3</th>\n",
       "      <th>4</th>\n",
       "      <th>5</th>\n",
       "      <th>6</th>\n",
       "    </tr>\n",
       "  </thead>\n",
       "  <tbody>\n",
       "    <tr>\n",
       "      <th>count</th>\n",
       "      <td>784.000000</td>\n",
       "      <td>1024.000000</td>\n",
       "      <td>1024.000000</td>\n",
       "      <td>1024.000000</td>\n",
       "      <td>1024.000000</td>\n",
       "      <td>1024.000000</td>\n",
       "      <td>1.0000</td>\n",
       "    </tr>\n",
       "    <tr>\n",
       "      <th>mean</th>\n",
       "      <td>0.613493</td>\n",
       "      <td>0.756990</td>\n",
       "      <td>0.840777</td>\n",
       "      <td>0.870485</td>\n",
       "      <td>0.879074</td>\n",
       "      <td>0.881552</td>\n",
       "      <td>0.8832</td>\n",
       "    </tr>\n",
       "    <tr>\n",
       "      <th>std</th>\n",
       "      <td>0.047596</td>\n",
       "      <td>0.020737</td>\n",
       "      <td>0.007555</td>\n",
       "      <td>0.003833</td>\n",
       "      <td>0.002099</td>\n",
       "      <td>0.001435</td>\n",
       "      <td>NaN</td>\n",
       "    </tr>\n",
       "    <tr>\n",
       "      <th>min</th>\n",
       "      <td>0.508400</td>\n",
       "      <td>0.673600</td>\n",
       "      <td>0.812500</td>\n",
       "      <td>0.858600</td>\n",
       "      <td>0.873000</td>\n",
       "      <td>0.876900</td>\n",
       "      <td>0.8832</td>\n",
       "    </tr>\n",
       "    <tr>\n",
       "      <th>25%</th>\n",
       "      <td>0.580550</td>\n",
       "      <td>0.744375</td>\n",
       "      <td>0.835800</td>\n",
       "      <td>0.868000</td>\n",
       "      <td>0.877600</td>\n",
       "      <td>0.880600</td>\n",
       "      <td>0.8832</td>\n",
       "    </tr>\n",
       "    <tr>\n",
       "      <th>50%</th>\n",
       "      <td>0.610550</td>\n",
       "      <td>0.758800</td>\n",
       "      <td>0.840700</td>\n",
       "      <td>0.870300</td>\n",
       "      <td>0.879100</td>\n",
       "      <td>0.881600</td>\n",
       "      <td>0.8832</td>\n",
       "    </tr>\n",
       "    <tr>\n",
       "      <th>75%</th>\n",
       "      <td>0.644775</td>\n",
       "      <td>0.771125</td>\n",
       "      <td>0.845825</td>\n",
       "      <td>0.873100</td>\n",
       "      <td>0.880500</td>\n",
       "      <td>0.882500</td>\n",
       "      <td>0.8832</td>\n",
       "    </tr>\n",
       "    <tr>\n",
       "      <th>max</th>\n",
       "      <td>0.744000</td>\n",
       "      <td>0.810100</td>\n",
       "      <td>0.861800</td>\n",
       "      <td>0.881100</td>\n",
       "      <td>0.885600</td>\n",
       "      <td>0.886400</td>\n",
       "      <td>0.8832</td>\n",
       "    </tr>\n",
       "  </tbody>\n",
       "</table>\n",
       "</div>"
      ],
      "text/plain": [
       "                0            1            2            3            4  \\\n",
       "count  784.000000  1024.000000  1024.000000  1024.000000  1024.000000   \n",
       "mean     0.613493     0.756990     0.840777     0.870485     0.879074   \n",
       "std      0.047596     0.020737     0.007555     0.003833     0.002099   \n",
       "min      0.508400     0.673600     0.812500     0.858600     0.873000   \n",
       "25%      0.580550     0.744375     0.835800     0.868000     0.877600   \n",
       "50%      0.610550     0.758800     0.840700     0.870300     0.879100   \n",
       "75%      0.644775     0.771125     0.845825     0.873100     0.880500   \n",
       "max      0.744000     0.810100     0.861800     0.881100     0.885600   \n",
       "\n",
       "                 5       6  \n",
       "count  1024.000000  1.0000  \n",
       "mean      0.881552  0.8832  \n",
       "std       0.001435     NaN  \n",
       "min       0.876900  0.8832  \n",
       "25%       0.880600  0.8832  \n",
       "50%       0.881600  0.8832  \n",
       "75%       0.882500  0.8832  \n",
       "max       0.886400  0.8832  "
      ]
     },
     "execution_count": 12,
     "metadata": {},
     "output_type": "execute_result"
    }
   ],
   "source": [
    "print(\"Experiment 1 : Test accuracy\\n\")\n",
    "df = pd.DataFrame(test_accuracy).transpose()\n",
    "df.describe()"
   ]
  },
  {
   "cell_type": "markdown",
   "metadata": {},
   "source": [
    "## Experiment 2\n",
    "\n",
    "k = 2,4,6,8,10,12,14,16"
   ]
  },
  {
   "cell_type": "code",
   "execution_count": 13,
   "metadata": {},
   "outputs": [
    {
     "name": "stdout",
     "output_type": "stream",
     "text": [
      " Memorization k = 2\n"
     ]
    },
    {
     "name": "stderr",
     "output_type": "stream",
     "text": [
      "100%|████████████████████████████████████████████████████████████████████████████████| 784/784 [00:44<00:00, 17.58it/s]\n",
      "100%|██████████████████████████████████████████████████████████████████████████████| 1024/1024 [00:56<00:00, 17.97it/s]\n",
      "100%|██████████████████████████████████████████████████████████████████████████████| 1024/1024 [01:02<00:00, 16.29it/s]\n",
      "100%|██████████████████████████████████████████████████████████████████████████████| 1024/1024 [00:57<00:00, 17.99it/s]\n",
      "100%|██████████████████████████████████████████████████████████████████████████████| 1024/1024 [00:50<00:00, 20.43it/s]\n",
      "100%|██████████████████████████████████████████████████████████████████████████████| 1024/1024 [00:46<00:00, 22.05it/s]\n",
      "100%|████████████████████████████████████████████████████████████████████████████████████| 1/1 [00:00<00:00, 18.23it/s]\n"
     ]
    },
    {
     "name": "stdout",
     "output_type": "stream",
     "text": [
      "accuracy :0.7228333333333333\n",
      "Time spent :319.49s\n",
      " Memorization k = 4\n"
     ]
    },
    {
     "name": "stderr",
     "output_type": "stream",
     "text": [
      "100%|████████████████████████████████████████████████████████████████████████████████| 784/784 [00:51<00:00, 15.32it/s]\n",
      "100%|██████████████████████████████████████████████████████████████████████████████| 1024/1024 [01:04<00:00, 15.98it/s]\n",
      "100%|██████████████████████████████████████████████████████████████████████████████| 1024/1024 [01:03<00:00, 16.87it/s]\n",
      "100%|██████████████████████████████████████████████████████████████████████████████| 1024/1024 [01:09<00:00, 16.64it/s]\n",
      "100%|██████████████████████████████████████████████████████████████████████████████| 1024/1024 [01:03<00:00, 16.06it/s]\n",
      "100%|██████████████████████████████████████████████████████████████████████████████| 1024/1024 [01:10<00:00, 16.84it/s]\n",
      "100%|████████████████████████████████████████████████████████████████████████████████████| 1/1 [00:00<00:00, 15.67it/s]\n"
     ]
    },
    {
     "name": "stdout",
     "output_type": "stream",
     "text": [
      "accuracy :0.8290833333333333\n",
      "Time spent :382.50s\n",
      " Memorization k = 6\n"
     ]
    },
    {
     "name": "stderr",
     "output_type": "stream",
     "text": [
      "100%|████████████████████████████████████████████████████████████████████████████████| 784/784 [00:56<00:00, 13.82it/s]\n",
      "100%|██████████████████████████████████████████████████████████████████████████████| 1024/1024 [01:15<00:00, 13.63it/s]\n",
      "100%|██████████████████████████████████████████████████████████████████████████████| 1024/1024 [01:13<00:00, 13.99it/s]\n",
      "100%|██████████████████████████████████████████████████████████████████████████████| 1024/1024 [01:12<00:00, 14.13it/s]\n",
      "100%|██████████████████████████████████████████████████████████████████████████████| 1024/1024 [01:12<00:00, 14.20it/s]\n",
      "100%|██████████████████████████████████████████████████████████████████████████████| 1024/1024 [01:11<00:00, 14.23it/s]\n",
      "100%|████████████████████████████████████████████████████████████████████████████████████| 1/1 [00:00<00:00, 13.93it/s]\n"
     ]
    },
    {
     "name": "stdout",
     "output_type": "stream",
     "text": [
      "accuracy :0.8602833333333333\n",
      "Time spent :422.10s\n",
      " Memorization k = 8\n"
     ]
    },
    {
     "name": "stderr",
     "output_type": "stream",
     "text": [
      "100%|████████████████████████████████████████████████████████████████████████████████| 784/784 [01:07<00:00, 11.93it/s]\n",
      "100%|██████████████████████████████████████████████████████████████████████████████| 1024/1024 [01:26<00:00, 11.82it/s]\n",
      "100%|██████████████████████████████████████████████████████████████████████████████| 1024/1024 [01:29<00:00, 12.23it/s]\n",
      "100%|██████████████████████████████████████████████████████████████████████████████| 1024/1024 [01:11<00:00, 14.41it/s]\n",
      "100%|██████████████████████████████████████████████████████████████████████████████| 1024/1024 [01:05<00:00, 15.60it/s]\n",
      "100%|██████████████████████████████████████████████████████████████████████████████| 1024/1024 [01:05<00:00, 15.66it/s]\n",
      "100%|████████████████████████████████████████████████████████████████████████████████████| 1/1 [00:00<00:00, 13.74it/s]\n"
     ]
    },
    {
     "name": "stdout",
     "output_type": "stream",
     "text": [
      "accuracy :0.90265\n",
      "Time spent :446.01s\n",
      " Memorization k = 10\n"
     ]
    },
    {
     "name": "stderr",
     "output_type": "stream",
     "text": [
      "100%|████████████████████████████████████████████████████████████████████████████████| 784/784 [01:02<00:00, 12.64it/s]\n",
      "100%|██████████████████████████████████████████████████████████████████████████████| 1024/1024 [01:21<00:00, 12.49it/s]\n",
      "100%|██████████████████████████████████████████████████████████████████████████████| 1024/1024 [01:22<00:00, 12.44it/s]\n",
      "100%|██████████████████████████████████████████████████████████████████████████████| 1024/1024 [01:19<00:00, 12.89it/s]\n",
      "100%|██████████████████████████████████████████████████████████████████████████████| 1024/1024 [01:18<00:00, 13.09it/s]\n",
      "100%|██████████████████████████████████████████████████████████████████████████████| 1024/1024 [01:18<00:00, 13.02it/s]\n",
      "100%|████████████████████████████████████████████████████████████████████████████████████| 1/1 [00:00<00:00, 12.77it/s]\n"
     ]
    },
    {
     "name": "stdout",
     "output_type": "stream",
     "text": [
      "accuracy :0.9546833333333333\n",
      "Time spent :463.16s\n",
      " Memorization k = 12\n"
     ]
    },
    {
     "name": "stderr",
     "output_type": "stream",
     "text": [
      "100%|████████████████████████████████████████████████████████████████████████████████| 784/784 [01:08<00:00, 11.42it/s]\n",
      "100%|██████████████████████████████████████████████████████████████████████████████| 1024/1024 [01:34<00:00, 11.04it/s]\n",
      "100%|██████████████████████████████████████████████████████████████████████████████| 1024/1024 [01:39<00:00,  9.10it/s]\n",
      "100%|██████████████████████████████████████████████████████████████████████████████| 1024/1024 [01:40<00:00, 10.21it/s]\n",
      "100%|██████████████████████████████████████████████████████████████████████████████| 1024/1024 [01:40<00:00, 10.20it/s]\n",
      "100%|██████████████████████████████████████████████████████████████████████████████| 1024/1024 [01:40<00:00, 10.22it/s]\n",
      "100%|████████████████████████████████████████████████████████████████████████████████████| 1/1 [00:00<00:00, 11.81it/s]\n"
     ]
    },
    {
     "name": "stdout",
     "output_type": "stream",
     "text": [
      "accuracy :0.9909\n",
      "Time spent :563.80s\n",
      " Memorization k = 14\n"
     ]
    },
    {
     "name": "stderr",
     "output_type": "stream",
     "text": [
      "100%|████████████████████████████████████████████████████████████████████████████████| 784/784 [01:14<00:00, 10.25it/s]\n",
      "100%|██████████████████████████████████████████████████████████████████████████████| 1024/1024 [01:58<00:00,  8.66it/s]\n",
      "100%|██████████████████████████████████████████████████████████████████████████████| 1024/1024 [01:48<00:00, 10.02it/s]\n",
      "100%|██████████████████████████████████████████████████████████████████████████████| 1024/1024 [01:37<00:00, 10.67it/s]\n",
      "100%|██████████████████████████████████████████████████████████████████████████████| 1024/1024 [01:37<00:00, 10.77it/s]\n",
      "100%|██████████████████████████████████████████████████████████████████████████████| 1024/1024 [01:37<00:00, 10.52it/s]\n",
      "100%|████████████████████████████████████████████████████████████████████████████████████| 1/1 [00:00<00:00, 10.84it/s]\n"
     ]
    },
    {
     "name": "stdout",
     "output_type": "stream",
     "text": [
      "accuracy :0.9994333333333333\n",
      "Time spent :593.58s\n",
      " Memorization k = 16\n"
     ]
    },
    {
     "name": "stderr",
     "output_type": "stream",
     "text": [
      "100%|████████████████████████████████████████████████████████████████████████████████| 784/784 [01:30<00:00,  8.68it/s]\n",
      "100%|██████████████████████████████████████████████████████████████████████████████| 1024/1024 [02:22<00:00,  6.38it/s]\n",
      "100%|██████████████████████████████████████████████████████████████████████████████| 1024/1024 [02:16<00:00,  6.72it/s]\n",
      "100%|██████████████████████████████████████████████████████████████████████████████| 1024/1024 [02:17<00:00,  7.45it/s]\n",
      "100%|██████████████████████████████████████████████████████████████████████████████| 1024/1024 [02:05<00:00,  8.30it/s]\n",
      "100%|██████████████████████████████████████████████████████████████████████████████| 1024/1024 [02:02<00:00,  8.64it/s]\n",
      "100%|████████████████████████████████████████████████████████████████████████████████████| 1/1 [00:00<00:00,  8.02it/s]\n"
     ]
    },
    {
     "name": "stdout",
     "output_type": "stream",
     "text": [
      "accuracy :0.9999833333333333\n",
      "Time spent :755.17s\n",
      "Total Time spent : 3946.30s\n"
     ]
    }
   ],
   "source": [
    "n_luts = [784, 1024,1024,1024,1024,1024,1] # number of luts per layer\n",
    "k_list = [2,4,6,8,10,12,14,16] # sampling input\n",
    "\n",
    "nn_list = []\n",
    "\n",
    "inputs = np.zeros((len(y_train),8),int)\n",
    "indexes_0 = np.where(y_train == 0) \n",
    "indexes_1 = np.where(y_train == 1)\n",
    "\n",
    "train_accuracy = []\n",
    "\n",
    "start = time.time()\n",
    "\n",
    "for k in k_list:\n",
    "    layers = []\n",
    "    print(\" Memorization k = {}\".format(k))\n",
    "    interm = time.time()\n",
    "    # input layer\n",
    "    l = 0\n",
    "    layer = []\n",
    "    inputs = X_train\n",
    "    outputs = np.zeros((len(y_train),n_luts[l]),int)\n",
    "    for i in tqdm(range(n_luts[0])):\n",
    "        # build lut\n",
    "        lut = LUT(inputs, indexes_0, indexes_1, k)\n",
    "        outputs[:,i] = lut.look_array(inputs)\n",
    "        layer.append(lut)\n",
    "    layers.append(layer)\n",
    "\n",
    "    # 5 hidden layers + 1 output layer\n",
    "    for l in range(1,7):\n",
    "        layer = []\n",
    "        inputs = outputs\n",
    "        outputs = np.zeros((len(y_train),n_luts[l]),int)\n",
    "        for i in tqdm(range(n_luts[l])):\n",
    "            lut = LUT(inputs, indexes_0, indexes_1, k)\n",
    "            outputs[:,i] = lut.look_array(inputs)\n",
    "            layer.append(lut)\n",
    "        layers.append(layer)\n",
    "    print(\"accuracy :{}\".format(accuracy_score(y_train, outputs)))\n",
    "    train_accuracy.append(accuracy_score(y_train, outputs))\n",
    "    \n",
    "    end = time.time() - interm\n",
    "    print(\"Time spent :{:.2f}s\".format(end))\n",
    "    nn_list.append(layers)\n",
    "    \n",
    "end = time.time() - start\n",
    "print(\"Total Time spent : {:.2f}s\".format(end))"
   ]
  },
  {
   "cell_type": "code",
   "execution_count": 17,
   "metadata": {},
   "outputs": [
    {
     "data": {
      "text/plain": [
       "784"
      ]
     },
     "execution_count": 17,
     "metadata": {},
     "output_type": "execute_result"
    }
   ],
   "source": [
    "len(nn_list[0][0])"
   ]
  },
  {
   "cell_type": "code",
   "execution_count": 25,
   "metadata": {},
   "outputs": [
    {
     "name": "stderr",
     "output_type": "stream",
     "text": [
      "100%|███████████████████████████████████████████████████████████████████████████████| 784/784 [00:00<00:00, 864.03it/s]\n",
      "100%|█████████████████████████████████████████████████████████████████████████████| 1024/1024 [00:01<00:00, 918.57it/s]\n",
      "100%|█████████████████████████████████████████████████████████████████████████████| 1024/1024 [00:01<00:00, 843.85it/s]\n",
      "100%|█████████████████████████████████████████████████████████████████████████████| 1024/1024 [00:01<00:00, 840.40it/s]\n",
      "100%|█████████████████████████████████████████████████████████████████████████████| 1024/1024 [00:01<00:00, 737.24it/s]\n",
      "100%|█████████████████████████████████████████████████████████████████████████████| 1024/1024 [00:01<00:00, 817.65it/s]\n",
      "100%|███████████████████████████████████████████████████████████████████████████████████| 1/1 [00:00<00:00, 334.23it/s]\n"
     ]
    },
    {
     "name": "stdout",
     "output_type": "stream",
     "text": [
      " Memorization k = 2\n",
      "accuracy :0.7271\n",
      "Time spent :7.26s\n"
     ]
    },
    {
     "name": "stderr",
     "output_type": "stream",
     "text": [
      "100%|███████████████████████████████████████████████████████████████████████████████| 784/784 [00:01<00:00, 563.64it/s]\n",
      "100%|█████████████████████████████████████████████████████████████████████████████| 1024/1024 [00:01<00:00, 549.58it/s]\n",
      "100%|█████████████████████████████████████████████████████████████████████████████| 1024/1024 [00:01<00:00, 595.33it/s]\n",
      "100%|█████████████████████████████████████████████████████████████████████████████| 1024/1024 [00:01<00:00, 546.62it/s]\n",
      "100%|█████████████████████████████████████████████████████████████████████████████| 1024/1024 [00:02<00:00, 507.65it/s]\n",
      "100%|█████████████████████████████████████████████████████████████████████████████| 1024/1024 [00:01<00:00, 597.07it/s]\n",
      "100%|███████████████████████████████████████████████████████████████████████████████████| 1/1 [00:00<00:00, 334.45it/s]\n"
     ]
    },
    {
     "name": "stdout",
     "output_type": "stream",
     "text": [
      " Memorization k = 4\n",
      "accuracy :0.8357\n",
      "Time spent :10.74s\n"
     ]
    },
    {
     "name": "stderr",
     "output_type": "stream",
     "text": [
      "100%|███████████████████████████████████████████████████████████████████████████████| 784/784 [00:01<00:00, 428.29it/s]\n",
      "100%|█████████████████████████████████████████████████████████████████████████████| 1024/1024 [00:02<00:00, 472.14it/s]\n",
      "100%|█████████████████████████████████████████████████████████████████████████████| 1024/1024 [00:02<00:00, 433.69it/s]\n",
      "100%|█████████████████████████████████████████████████████████████████████████████| 1024/1024 [00:02<00:00, 404.00it/s]\n",
      "100%|█████████████████████████████████████████████████████████████████████████████| 1024/1024 [00:02<00:00, 393.02it/s]\n",
      "100%|█████████████████████████████████████████████████████████████████████████████| 1024/1024 [00:03<00:00, 315.41it/s]\n",
      "100%|███████████████████████████████████████████████████████████████████████████████████| 1/1 [00:00<00:00, 334.07it/s]\n"
     ]
    },
    {
     "name": "stdout",
     "output_type": "stream",
     "text": [
      " Memorization k = 6\n",
      "accuracy :0.8587\n",
      "Time spent :14.89s\n"
     ]
    },
    {
     "name": "stderr",
     "output_type": "stream",
     "text": [
      "100%|███████████████████████████████████████████████████████████████████████████████| 784/784 [00:03<00:00, 230.51it/s]\n",
      "100%|█████████████████████████████████████████████████████████████████████████████| 1024/1024 [00:03<00:00, 310.54it/s]\n",
      "100%|█████████████████████████████████████████████████████████████████████████████| 1024/1024 [00:03<00:00, 307.20it/s]\n",
      "100%|█████████████████████████████████████████████████████████████████████████████| 1024/1024 [00:03<00:00, 310.64it/s]\n",
      "100%|█████████████████████████████████████████████████████████████████████████████| 1024/1024 [00:03<00:00, 289.37it/s]\n",
      "100%|█████████████████████████████████████████████████████████████████████████████| 1024/1024 [00:04<00:00, 228.18it/s]\n",
      "100%|███████████████████████████████████████████████████████████████████████████████████| 1/1 [00:00<00:00, 334.07it/s]\n"
     ]
    },
    {
     "name": "stdout",
     "output_type": "stream",
     "text": [
      " Memorization k = 8\n",
      "accuracy :0.8774\n",
      "Time spent :21.54s\n"
     ]
    },
    {
     "name": "stderr",
     "output_type": "stream",
     "text": [
      "100%|███████████████████████████████████████████████████████████████████████████████| 784/784 [00:04<00:00, 187.44it/s]\n",
      "100%|█████████████████████████████████████████████████████████████████████████████| 1024/1024 [00:04<00:00, 225.56it/s]\n",
      "100%|█████████████████████████████████████████████████████████████████████████████| 1024/1024 [00:04<00:00, 247.15it/s]\n",
      "100%|█████████████████████████████████████████████████████████████████████████████| 1024/1024 [00:03<00:00, 256.30it/s]\n",
      "100%|█████████████████████████████████████████████████████████████████████████████| 1024/1024 [00:04<00:00, 223.17it/s]\n",
      "100%|█████████████████████████████████████████████████████████████████████████████| 1024/1024 [00:05<00:00, 182.48it/s]\n",
      "100%|███████████████████████████████████████████████████████████████████████████████████| 1/1 [00:00<00:00, 200.48it/s]\n"
     ]
    },
    {
     "name": "stdout",
     "output_type": "stream",
     "text": [
      " Memorization k = 10\n",
      "accuracy :0.9005\n",
      "Time spent :27.28s\n"
     ]
    },
    {
     "name": "stderr",
     "output_type": "stream",
     "text": [
      "100%|███████████████████████████████████████████████████████████████████████████████| 784/784 [00:04<00:00, 181.65it/s]\n",
      "100%|█████████████████████████████████████████████████████████████████████████████| 1024/1024 [00:05<00:00, 189.04it/s]\n",
      "100%|█████████████████████████████████████████████████████████████████████████████| 1024/1024 [00:05<00:00, 191.39it/s]\n",
      "100%|█████████████████████████████████████████████████████████████████████████████| 1024/1024 [00:04<00:00, 207.90it/s]\n",
      "100%|█████████████████████████████████████████████████████████████████████████████| 1024/1024 [00:04<00:00, 215.10it/s]\n",
      "100%|█████████████████████████████████████████████████████████████████████████████| 1024/1024 [00:04<00:00, 209.31it/s]\n",
      "100%|████████████████████████████████████████████████████████████████████████████████████| 1/1 [00:00<00:00, 91.15it/s]\n"
     ]
    },
    {
     "name": "stdout",
     "output_type": "stream",
     "text": [
      " Memorization k = 12\n",
      "accuracy :0.8976\n",
      "Time spent :29.86s\n"
     ]
    },
    {
     "name": "stderr",
     "output_type": "stream",
     "text": [
      "100%|███████████████████████████████████████████████████████████████████████████████| 784/784 [00:04<00:00, 173.81it/s]\n",
      "100%|█████████████████████████████████████████████████████████████████████████████| 1024/1024 [00:05<00:00, 179.23it/s]\n",
      "100%|█████████████████████████████████████████████████████████████████████████████| 1024/1024 [00:05<00:00, 183.52it/s]\n",
      "100%|█████████████████████████████████████████████████████████████████████████████| 1024/1024 [00:05<00:00, 188.72it/s]\n",
      "100%|█████████████████████████████████████████████████████████████████████████████| 1024/1024 [00:06<00:00, 161.66it/s]\n",
      "100%|█████████████████████████████████████████████████████████████████████████████| 1024/1024 [00:06<00:00, 167.50it/s]\n",
      "100%|███████████████████████████████████████████████████████████████████████████████████| 1/1 [00:00<00:00, 100.29it/s]\n"
     ]
    },
    {
     "name": "stdout",
     "output_type": "stream",
     "text": [
      " Memorization k = 14\n",
      "accuracy :0.8202\n",
      "Time spent :33.86s\n"
     ]
    },
    {
     "name": "stderr",
     "output_type": "stream",
     "text": [
      "100%|███████████████████████████████████████████████████████████████████████████████| 784/784 [00:04<00:00, 170.34it/s]\n",
      "100%|█████████████████████████████████████████████████████████████████████████████| 1024/1024 [00:06<00:00, 166.68it/s]\n",
      "100%|█████████████████████████████████████████████████████████████████████████████| 1024/1024 [00:06<00:00, 168.67it/s]\n",
      "100%|█████████████████████████████████████████████████████████████████████████████| 1024/1024 [00:06<00:00, 170.30it/s]\n",
      "100%|█████████████████████████████████████████████████████████████████████████████| 1024/1024 [00:06<00:00, 170.26it/s]\n",
      "100%|█████████████████████████████████████████████████████████████████████████████| 1024/1024 [00:05<00:00, 171.21it/s]\n",
      "100%|███████████████████████████████████████████████████████████████████████████████████| 1/1 [00:00<00:00, 100.29it/s]\n"
     ]
    },
    {
     "name": "stdout",
     "output_type": "stream",
     "text": [
      " Memorization k = 16\n",
      "accuracy :0.6468\n",
      "Time spent :35.09s\n",
      "Time spent : 180.54s\n"
     ]
    }
   ],
   "source": [
    "# Compute test accuracy\n",
    "\n",
    "# input layer\n",
    "start = time.time()\n",
    "\n",
    "test_accuracy = []\n",
    "\n",
    "for n in range(len(nn_list)):\n",
    "    \n",
    "    layers = nn_list[n]\n",
    "    k = k_list[n]\n",
    "    interm = time.time()\n",
    "    \n",
    "    inputs = X_test\n",
    "    outputs = np.zeros((len(X_test),len(layers[0])),int)\n",
    "    for i in tqdm(range(len(layers[0]))):\n",
    "        outputs[:,i] = layers[0][i].look_array(inputs)\n",
    "        accuracy.append(score)\n",
    "\n",
    "    for layer in layers[1:]:\n",
    "        inputs = outputs\n",
    "        outputs = np.zeros((len(X_test),len(layer)),int)\n",
    "        for i in tqdm(range(len(layer))):\n",
    "            outputs[:,i] = layer[i].look_array(inputs)\n",
    "            \n",
    "    print(\" Memorization k = {}\".format(k))\n",
    "    print(\"accuracy :{}\".format(accuracy_score(y_test, outputs)))\n",
    "    test_accuracy.append(accuracy_score(y_test, outputs))\n",
    "    \n",
    "    end = time.time() - interm\n",
    "    print(\"Time spent :{:.2f}s\".format(end))   \n",
    "\n",
    "end = time.time() - start\n",
    "print(\"Time spent : {:.2f}s\".format(end))"
   ]
  },
  {
   "cell_type": "markdown",
   "metadata": {},
   "source": [
    "## Experiment 3\n",
    "\n",
    "Experiment 2 with randomly permuted labels"
   ]
  },
  {
   "cell_type": "code",
   "execution_count": 29,
   "metadata": {},
   "outputs": [],
   "source": [
    "y_test_random = np.random.permutation(y_test)\n",
    "y_train_random = np.random.permutation(y_train)"
   ]
  },
  {
   "cell_type": "code",
   "execution_count": 30,
   "metadata": {},
   "outputs": [
    {
     "name": "stdout",
     "output_type": "stream",
     "text": [
      " Memorization k = 2\n"
     ]
    },
    {
     "name": "stderr",
     "output_type": "stream",
     "text": [
      "100%|████████████████████████████████████████████████████████████████████████████████| 784/784 [00:38<00:00, 20.32it/s]\n",
      "100%|██████████████████████████████████████████████████████████████████████████████| 1024/1024 [00:53<00:00,  7.56it/s]\n",
      "100%|██████████████████████████████████████████████████████████████████████████████| 1024/1024 [01:05<00:00, 15.67it/s]\n",
      "100%|██████████████████████████████████████████████████████████████████████████████| 1024/1024 [00:55<00:00, 20.10it/s]\n",
      "100%|██████████████████████████████████████████████████████████████████████████████| 1024/1024 [00:48<00:00, 21.19it/s]\n",
      "100%|██████████████████████████████████████████████████████████████████████████████| 1024/1024 [00:48<00:00, 21.14it/s]\n",
      "100%|████████████████████████████████████████████████████████████████████████████████████| 1/1 [00:00<00:00, 18.23it/s]\n"
     ]
    },
    {
     "name": "stdout",
     "output_type": "stream",
     "text": [
      "accuracy :0.5125833333333333\n",
      "Time spent :310.50s\n",
      " Memorization k = 4\n"
     ]
    },
    {
     "name": "stderr",
     "output_type": "stream",
     "text": [
      "100%|████████████████████████████████████████████████████████████████████████████████| 784/784 [00:45<00:00, 17.32it/s]\n",
      "100%|██████████████████████████████████████████████████████████████████████████████| 1024/1024 [00:59<00:00, 17.24it/s]\n",
      "100%|██████████████████████████████████████████████████████████████████████████████| 1024/1024 [00:58<00:00, 17.43it/s]\n",
      "100%|██████████████████████████████████████████████████████████████████████████████| 1024/1024 [01:02<00:00, 16.43it/s]\n",
      "100%|██████████████████████████████████████████████████████████████████████████████| 1024/1024 [00:59<00:00, 17.20it/s]\n",
      "100%|██████████████████████████████████████████████████████████████████████████████| 1024/1024 [01:00<00:00, 16.93it/s]\n",
      "100%|████████████████████████████████████████████████████████████████████████████████████| 1/1 [00:00<00:00, 10.34it/s]\n"
     ]
    },
    {
     "name": "stdout",
     "output_type": "stream",
     "text": [
      "accuracy :0.5273\n",
      "Time spent :346.32s\n",
      " Memorization k = 6\n"
     ]
    },
    {
     "name": "stderr",
     "output_type": "stream",
     "text": [
      "100%|████████████████████████████████████████████████████████████████████████████████| 784/784 [00:55<00:00, 17.54it/s]\n",
      "100%|██████████████████████████████████████████████████████████████████████████████| 1024/1024 [01:05<00:00, 15.61it/s]\n",
      "100%|██████████████████████████████████████████████████████████████████████████████| 1024/1024 [01:17<00:00, 13.19it/s]\n",
      "100%|██████████████████████████████████████████████████████████████████████████████| 1024/1024 [01:09<00:00, 17.52it/s]\n",
      "100%|██████████████████████████████████████████████████████████████████████████████| 1024/1024 [01:11<00:00, 16.12it/s]\n",
      "100%|██████████████████████████████████████████████████████████████████████████████| 1024/1024 [01:10<00:00, 14.57it/s]\n",
      "100%|████████████████████████████████████████████████████████████████████████████████████| 1/1 [00:00<00:00, 19.06it/s]\n"
     ]
    },
    {
     "name": "stdout",
     "output_type": "stream",
     "text": [
      "accuracy :0.5575833333333333\n",
      "Time spent :410.73s\n",
      " Memorization k = 8\n"
     ]
    },
    {
     "name": "stderr",
     "output_type": "stream",
     "text": [
      "100%|████████████████████████████████████████████████████████████████████████████████| 784/784 [01:00<00:00, 13.02it/s]\n",
      "100%|██████████████████████████████████████████████████████████████████████████████| 1024/1024 [01:15<00:00, 13.87it/s]\n",
      "100%|██████████████████████████████████████████████████████████████████████████████| 1024/1024 [01:22<00:00, 12.41it/s]\n",
      "100%|██████████████████████████████████████████████████████████████████████████████| 1024/1024 [01:22<00:00, 12.42it/s]\n",
      "100%|██████████████████████████████████████████████████████████████████████████████| 1024/1024 [01:19<00:00, 12.81it/s]\n",
      "100%|██████████████████████████████████████████████████████████████████████████████| 1024/1024 [01:19<00:00, 12.94it/s]\n",
      "100%|████████████████████████████████████████████████████████████████████████████████████| 1/1 [00:00<00:00, 10.34it/s]\n"
     ]
    },
    {
     "name": "stdout",
     "output_type": "stream",
     "text": [
      "accuracy :0.6142333333333333\n",
      "Time spent :460.70s\n",
      " Memorization k = 10\n"
     ]
    },
    {
     "name": "stderr",
     "output_type": "stream",
     "text": [
      "100%|████████████████████████████████████████████████████████████████████████████████| 784/784 [01:02<00:00, 12.74it/s]\n",
      "100%|██████████████████████████████████████████████████████████████████████████████| 1024/1024 [01:28<00:00, 10.94it/s]\n",
      "100%|██████████████████████████████████████████████████████████████████████████████| 1024/1024 [01:34<00:00, 10.84it/s]\n",
      "100%|██████████████████████████████████████████████████████████████████████████████| 1024/1024 [01:35<00:00, 10.70it/s]\n",
      "100%|██████████████████████████████████████████████████████████████████████████████| 1024/1024 [01:34<00:00, 10.81it/s]\n",
      "100%|██████████████████████████████████████████████████████████████████████████████| 1024/1024 [01:34<00:00, 10.63it/s]\n",
      "100%|████████████████████████████████████████████████████████████████████████████████████| 1/1 [00:00<00:00, 10.44it/s]\n"
     ]
    },
    {
     "name": "stdout",
     "output_type": "stream",
     "text": [
      "accuracy :0.7129666666666666\n",
      "Time spent :530.63s\n",
      " Memorization k = 12\n"
     ]
    },
    {
     "name": "stderr",
     "output_type": "stream",
     "text": [
      "100%|████████████████████████████████████████████████████████████████████████████████| 784/784 [01:25<00:00,  9.35it/s]\n",
      "100%|██████████████████████████████████████████████████████████████████████████████| 1024/1024 [01:52<00:00,  9.29it/s]\n",
      "100%|██████████████████████████████████████████████████████████████████████████████| 1024/1024 [01:59<00:00,  9.15it/s]\n",
      "100%|██████████████████████████████████████████████████████████████████████████████| 1024/1024 [01:55<00:00,  9.15it/s]\n",
      "100%|██████████████████████████████████████████████████████████████████████████████| 1024/1024 [02:00<00:00, 10.18it/s]\n",
      "100%|██████████████████████████████████████████████████████████████████████████████| 1024/1024 [01:39<00:00,  7.96it/s]\n",
      "100%|████████████████████████████████████████████████████████████████████████████████████| 1/1 [00:00<00:00,  9.73it/s]\n"
     ]
    },
    {
     "name": "stdout",
     "output_type": "stream",
     "text": [
      "accuracy :0.86575\n",
      "Time spent :652.97s\n",
      " Memorization k = 14\n"
     ]
    },
    {
     "name": "stderr",
     "output_type": "stream",
     "text": [
      "100%|████████████████████████████████████████████████████████████████████████████████| 784/784 [02:06<00:00,  8.08it/s]\n",
      "100%|██████████████████████████████████████████████████████████████████████████████| 1024/1024 [02:20<00:00,  4.56it/s]\n",
      "100%|██████████████████████████████████████████████████████████████████████████████| 1024/1024 [02:41<00:00,  7.28it/s]\n",
      "100%|██████████████████████████████████████████████████████████████████████████████| 1024/1024 [02:15<00:00,  5.14it/s]\n",
      "100%|██████████████████████████████████████████████████████████████████████████████| 1024/1024 [02:15<00:00,  8.37it/s]\n",
      "100%|██████████████████████████████████████████████████████████████████████████████| 1024/1024 [02:07<00:00,  5.33it/s]\n",
      "100%|████████████████████████████████████████████████████████████████████████████████████| 1/1 [00:00<00:00,  4.90it/s]\n"
     ]
    },
    {
     "name": "stdout",
     "output_type": "stream",
     "text": [
      "accuracy :0.95495\n",
      "Time spent :828.00s\n",
      " Memorization k = 16\n"
     ]
    },
    {
     "name": "stderr",
     "output_type": "stream",
     "text": [
      "100%|████████████████████████████████████████████████████████████████████████████████| 784/784 [01:57<00:00,  7.64it/s]\n",
      "100%|██████████████████████████████████████████████████████████████████████████████| 1024/1024 [02:30<00:00,  6.42it/s]\n",
      "100%|██████████████████████████████████████████████████████████████████████████████| 1024/1024 [03:02<00:00,  6.31it/s]\n",
      "100%|██████████████████████████████████████████████████████████████████████████████| 1024/1024 [02:31<00:00,  5.80it/s]\n",
      "100%|██████████████████████████████████████████████████████████████████████████████| 1024/1024 [02:34<00:00,  6.99it/s]\n",
      "100%|██████████████████████████████████████████████████████████████████████████████| 1024/1024 [02:30<00:00,  7.40it/s]\n",
      "100%|████████████████████████████████████████████████████████████████████████████████████| 1/1 [00:00<00:00,  7.65it/s]\n"
     ]
    },
    {
     "name": "stdout",
     "output_type": "stream",
     "text": [
      "accuracy :0.9833\n",
      "Time spent :908.45s\n",
      "Total Time spent : 4449.32s\n"
     ]
    }
   ],
   "source": [
    "n_luts = [784, 1024,1024,1024,1024,1024,1] # number of luts per layer\n",
    "k_list = [2,4,6,8,10,12,14,16] # sampling input\n",
    "\n",
    "nn_list = []\n",
    "\n",
    "inputs = np.zeros((len(y_train),8),int)\n",
    "indexes_0 = np.where(y_train_random == 0) \n",
    "indexes_1 = np.where(y_train_random == 1)\n",
    "\n",
    "train_accuracy = []\n",
    "\n",
    "start = time.time()\n",
    "\n",
    "for k in k_list:\n",
    "    layers = []\n",
    "    interm = time.time()\n",
    "    # input layer\n",
    "    l = 0\n",
    "    layer = []\n",
    "    inputs = X_train\n",
    "    outputs = np.zeros((len(X_train),n_luts[l]),int)\n",
    "    for i in tqdm(range(n_luts[0])):\n",
    "        # build lut\n",
    "        lut = LUT(inputs, indexes_0, indexes_1, k)\n",
    "        outputs[:,i] = lut.look_array(inputs)\n",
    "        layer.append(lut)\n",
    "    layers.append(layer)\n",
    "\n",
    "    # 5 hidden layers + 1 output layer\n",
    "    for l in range(1,7):\n",
    "        layer = []\n",
    "        inputs = outputs\n",
    "        outputs = np.zeros((len(X_train),n_luts[l]),int)\n",
    "        for i in tqdm(range(n_luts[l])):\n",
    "            lut = LUT(inputs, indexes_0, indexes_1, k)\n",
    "            outputs[:,i] = lut.look_array(inputs)\n",
    "            layer.append(lut)\n",
    "        layers.append(layer)\n",
    "        \n",
    "    print(\"Memorization k = {}\".format(k))\n",
    "    print(\"accuracy :{}\".format(accuracy_score(y_train_random, outputs)))\n",
    "    train_accuracy.append(accuracy_score(y_train_random, outputs))\n",
    "    \n",
    "    end = time.time() - interm\n",
    "    print(\"Time spent :{:.2f}s\".format(end))\n",
    "    nn_list.append(layers)\n",
    "    \n",
    "end = time.time() - start\n",
    "print(\"Total Time spent : {:.2f}s\".format(end))"
   ]
  },
  {
   "cell_type": "code",
   "execution_count": 31,
   "metadata": {},
   "outputs": [
    {
     "name": "stderr",
     "output_type": "stream",
     "text": [
      "100%|███████████████████████████████████████████████████████████████████████████████| 784/784 [00:02<00:00, 294.27it/s]\n",
      "100%|█████████████████████████████████████████████████████████████████████████████| 1024/1024 [00:02<00:00, 493.74it/s]\n",
      "100%|█████████████████████████████████████████████████████████████████████████████| 1024/1024 [00:01<00:00, 542.37it/s]\n",
      "100%|█████████████████████████████████████████████████████████████████████████████| 1024/1024 [00:02<00:00, 368.08it/s]\n",
      "100%|█████████████████████████████████████████████████████████████████████████████| 1024/1024 [00:03<00:00, 305.84it/s]\n",
      "100%|█████████████████████████████████████████████████████████████████████████████| 1024/1024 [00:02<00:00, 399.50it/s]\n",
      "100%|████████████████████████████████████████████████████████████████████████████████████| 1/1 [00:00<00:00, 21.80it/s]\n"
     ]
    },
    {
     "name": "stdout",
     "output_type": "stream",
     "text": [
      "Memorization k = 2\n",
      "accuracy :0.5095\n",
      "Time spent :15.75s\n"
     ]
    },
    {
     "name": "stderr",
     "output_type": "stream",
     "text": [
      "100%|███████████████████████████████████████████████████████████████████████████████| 784/784 [00:02<00:00, 379.03it/s]\n",
      "100%|█████████████████████████████████████████████████████████████████████████████| 1024/1024 [00:03<00:00, 310.98it/s]\n",
      "100%|█████████████████████████████████████████████████████████████████████████████| 1024/1024 [00:02<00:00, 401.02it/s]\n",
      "100%|█████████████████████████████████████████████████████████████████████████████| 1024/1024 [00:02<00:00, 384.37it/s]\n",
      "100%|█████████████████████████████████████████████████████████████████████████████| 1024/1024 [00:02<00:00, 386.84it/s]\n",
      "100%|█████████████████████████████████████████████████████████████████████████████| 1024/1024 [00:02<00:00, 370.07it/s]\n",
      "100%|███████████████████████████████████████████████████████████████████████████████████| 1/1 [00:00<00:00, 334.13it/s]\n"
     ]
    },
    {
     "name": "stdout",
     "output_type": "stream",
     "text": [
      "Memorization k = 4\n",
      "accuracy :0.5052\n",
      "Time spent :16.17s\n"
     ]
    },
    {
     "name": "stderr",
     "output_type": "stream",
     "text": [
      "100%|███████████████████████████████████████████████████████████████████████████████| 784/784 [00:03<00:00, 239.30it/s]\n",
      "100%|█████████████████████████████████████████████████████████████████████████████| 1024/1024 [00:04<00:00, 243.73it/s]\n",
      "100%|█████████████████████████████████████████████████████████████████████████████| 1024/1024 [00:03<00:00, 305.22it/s]\n",
      "100%|█████████████████████████████████████████████████████████████████████████████| 1024/1024 [00:03<00:00, 322.11it/s]\n",
      "100%|█████████████████████████████████████████████████████████████████████████████| 1024/1024 [00:04<00:00, 244.98it/s]\n",
      "100%|█████████████████████████████████████████████████████████████████████████████| 1024/1024 [00:04<00:00, 243.69it/s]\n",
      "100%|███████████████████████████████████████████████████████████████████████████████████| 1/1 [00:00<00:00, 167.09it/s]\n"
     ]
    },
    {
     "name": "stdout",
     "output_type": "stream",
     "text": [
      "Memorization k = 6\n",
      "accuracy :0.5091\n",
      "Time spent :22.61s\n"
     ]
    },
    {
     "name": "stderr",
     "output_type": "stream",
     "text": [
      "100%|███████████████████████████████████████████████████████████████████████████████| 784/784 [00:04<00:00, 216.12it/s]\n",
      "100%|█████████████████████████████████████████████████████████████████████████████| 1024/1024 [00:04<00:00, 247.39it/s]\n",
      "100%|█████████████████████████████████████████████████████████████████████████████| 1024/1024 [00:03<00:00, 270.92it/s]\n",
      "100%|█████████████████████████████████████████████████████████████████████████████| 1024/1024 [00:04<00:00, 241.17it/s]\n",
      "100%|█████████████████████████████████████████████████████████████████████████████| 1024/1024 [00:03<00:00, 272.39it/s]\n",
      "100%|█████████████████████████████████████████████████████████████████████████████| 1024/1024 [00:03<00:00, 283.11it/s]\n",
      "100%|███████████████████████████████████████████████████████████████████████████████████| 1/1 [00:00<00:00, 250.75it/s]\n"
     ]
    },
    {
     "name": "stdout",
     "output_type": "stream",
     "text": [
      "Memorization k = 8\n",
      "accuracy :0.5086\n",
      "Time spent :23.74s\n"
     ]
    },
    {
     "name": "stderr",
     "output_type": "stream",
     "text": [
      "100%|███████████████████████████████████████████████████████████████████████████████| 784/784 [00:03<00:00, 214.72it/s]\n",
      "100%|█████████████████████████████████████████████████████████████████████████████| 1024/1024 [00:05<00:00, 199.15it/s]\n",
      "100%|█████████████████████████████████████████████████████████████████████████████| 1024/1024 [00:04<00:00, 217.68it/s]\n",
      "100%|█████████████████████████████████████████████████████████████████████████████| 1024/1024 [00:04<00:00, 209.11it/s]\n",
      "100%|█████████████████████████████████████████████████████████████████████████████| 1024/1024 [00:04<00:00, 208.54it/s]\n",
      "100%|█████████████████████████████████████████████████████████████████████████████| 1024/1024 [00:04<00:00, 231.65it/s]\n",
      "100%|███████████████████████████████████████████████████████████████████████████████████| 1/1 [00:00<00:00, 143.25it/s]\n"
     ]
    },
    {
     "name": "stdout",
     "output_type": "stream",
     "text": [
      "Memorization k = 10\n",
      "accuracy :0.5061\n",
      "Time spent :27.88s\n"
     ]
    },
    {
     "name": "stderr",
     "output_type": "stream",
     "text": [
      "100%|███████████████████████████████████████████████████████████████████████████████| 784/784 [00:04<00:00, 170.35it/s]\n",
      "100%|█████████████████████████████████████████████████████████████████████████████| 1024/1024 [00:05<00:00, 185.42it/s]\n",
      "100%|█████████████████████████████████████████████████████████████████████████████| 1024/1024 [00:05<00:00, 174.54it/s]\n",
      "100%|█████████████████████████████████████████████████████████████████████████████| 1024/1024 [00:05<00:00, 189.95it/s]\n",
      "100%|█████████████████████████████████████████████████████████████████████████████| 1024/1024 [00:05<00:00, 187.06it/s]\n",
      "100%|█████████████████████████████████████████████████████████████████████████████| 1024/1024 [00:05<00:00, 192.68it/s]\n",
      "100%|████████████████████████████████████████████████████████████████████████████████████| 1/1 [00:00<00:00, 50.13it/s]\n"
     ]
    },
    {
     "name": "stdout",
     "output_type": "stream",
     "text": [
      "Memorization k = 12\n",
      "accuracy :0.4986\n",
      "Time spent :32.39s\n"
     ]
    },
    {
     "name": "stderr",
     "output_type": "stream",
     "text": [
      "100%|███████████████████████████████████████████████████████████████████████████████| 784/784 [00:06<00:00, 124.78it/s]\n",
      "100%|█████████████████████████████████████████████████████████████████████████████| 1024/1024 [00:08<00:00, 119.06it/s]\n",
      "100%|█████████████████████████████████████████████████████████████████████████████| 1024/1024 [00:09<00:00, 103.91it/s]\n",
      "100%|█████████████████████████████████████████████████████████████████████████████| 1024/1024 [00:09<00:00, 104.23it/s]\n",
      "100%|██████████████████████████████████████████████████████████████████████████████| 1024/1024 [00:10<00:00, 96.47it/s]\n",
      "100%|█████████████████████████████████████████████████████████████████████████████| 1024/1024 [00:07<00:00, 133.01it/s]\n",
      "100%|████████████████████████████████████████████████████████████████████████████████████| 1/1 [00:00<00:00, 77.13it/s]\n"
     ]
    },
    {
     "name": "stdout",
     "output_type": "stream",
     "text": [
      "Memorization k = 14\n",
      "accuracy :0.5031\n",
      "Time spent :53.05s\n"
     ]
    },
    {
     "name": "stderr",
     "output_type": "stream",
     "text": [
      "100%|████████████████████████████████████████████████████████████████████████████████| 784/784 [00:08<00:00, 94.87it/s]\n",
      "100%|██████████████████████████████████████████████████████████████████████████████| 1024/1024 [00:11<00:00, 85.41it/s]\n",
      "100%|██████████████████████████████████████████████████████████████████████████████| 1024/1024 [00:10<00:00, 98.73it/s]\n",
      "100%|█████████████████████████████████████████████████████████████████████████████| 1024/1024 [00:08<00:00, 121.42it/s]\n",
      "100%|█████████████████████████████████████████████████████████████████████████████| 1024/1024 [00:06<00:00, 154.65it/s]\n",
      "100%|█████████████████████████████████████████████████████████████████████████████| 1024/1024 [00:07<00:00, 145.23it/s]\n",
      "100%|███████████████████████████████████████████████████████████████████████████████████| 1/1 [00:00<00:00, 111.45it/s]\n"
     ]
    },
    {
     "name": "stdout",
     "output_type": "stream",
     "text": [
      "Memorization k = 16\n",
      "accuracy :0.4993\n",
      "Time spent :52.89s\n",
      "Time spent : 244.55s\n"
     ]
    }
   ],
   "source": [
    "# Compute test accuracy\n",
    "\n",
    "# input layer\n",
    "start = time.time()\n",
    "\n",
    "test_accuracy = []\n",
    "\n",
    "for n in range(len(nn_list)):\n",
    "    \n",
    "    layers = nn_list[n]\n",
    "    k = k_list[n]\n",
    "    interm = time.time()\n",
    "    \n",
    "    inputs = X_test\n",
    "    outputs = np.zeros((len(X_test),len(layers[0])),int)\n",
    "    for i in tqdm(range(len(layers[0]))):\n",
    "        outputs[:,i] = layers[0][i].look_array(inputs)\n",
    "        accuracy.append(score)\n",
    "\n",
    "    for layer in layers[1:]:\n",
    "        inputs = outputs\n",
    "        outputs = np.zeros((len(X_test),len(layer)),int)\n",
    "        for i in tqdm(range(len(layer))):\n",
    "            outputs[:,i] = layer[i].look_array(inputs)\n",
    "            \n",
    "    print(\"Memorization k = {}\".format(k))\n",
    "    print(\"accuracy :{}\".format(accuracy_score(y_test_random, outputs)))\n",
    "    test_accuracy.append(accuracy_score(y_test_random, outputs))\n",
    "    \n",
    "    end = time.time() - interm\n",
    "    print(\"Time spent :{:.2f}s\".format(end))   \n",
    "\n",
    "end = time.time() - start\n",
    "print(\"Time spent : {:.2f}s\".format(end))"
   ]
  },
  {
   "cell_type": "code",
   "execution_count": 33,
   "metadata": {},
   "outputs": [
    {
     "name": "stdout",
     "output_type": "stream",
     "text": [
      "[0.5125833333333333, 0.5273, 0.5575833333333333, 0.6142333333333333, 0.7129666666666666, 0.86575, 0.95495, 0.9833]\n",
      "[0.5095, 0.5052, 0.5091, 0.5086, 0.5061, 0.4986, 0.5031, 0.4993]\n"
     ]
    }
   ],
   "source": [
    "print(train_accuracy)\n",
    "print(test_accuracy)"
   ]
  },
  {
   "cell_type": "markdown",
   "metadata": {},
   "source": [
    "## Experiment 4"
   ]
  },
  {
   "cell_type": "markdown",
   "metadata": {},
   "source": [
    "### Random guess"
   ]
  },
  {
   "cell_type": "code",
   "execution_count": 36,
   "metadata": {},
   "outputs": [
    {
     "name": "stdout",
     "output_type": "stream",
     "text": [
      "Training accuracy : 0.50145\n",
      "Test accuracy : 0.4979\n"
     ]
    }
   ],
   "source": [
    "y_predict = np.random.choice([0,1], len(y_train))\n",
    "print(\"Training accuracy : {}\".format(accuracy_score(y_train, y_predict)))\n",
    "\n",
    "y_predict = np.random.choice([0,1], len(y_test))\n",
    "print(\"Test accuracy : {}\".format(accuracy_score(y_test, y_predict)))"
   ]
  },
  {
   "cell_type": "markdown",
   "metadata": {},
   "source": [
    "### Naive Bayes"
   ]
  },
  {
   "cell_type": "code",
   "execution_count": 38,
   "metadata": {},
   "outputs": [
    {
     "name": "stdout",
     "output_type": "stream",
     "text": [
      "Training accuracy : 0.76545\n",
      "Test accuracy : 0.7683\n"
     ]
    }
   ],
   "source": [
    "from sklearn.naive_bayes import BernoulliNB\n",
    "\n",
    "start = time.time()\n",
    "\n",
    "clf = BernoulliNB()\n",
    "clf.fit(X_train, y_train)\n",
    "print(\"Training accuracy : {}\".format(clf.score(X_train, y_train)))\n",
    "print(\"Test accuracy : {}\".format(clf.score(X_test, y_test)))\n",
    "\n",
    "end = time.time() - start\n",
    "print(\"Time spent : {:.2f}s\".format(end))"
   ]
  },
  {
   "cell_type": "markdown",
   "metadata": {},
   "source": [
    "### Logistic regression"
   ]
  },
  {
   "cell_type": "code",
   "execution_count": 40,
   "metadata": {},
   "outputs": [
    {
     "name": "stderr",
     "output_type": "stream",
     "text": [
      "C:\\Users\\flore\\AppData\\Roaming\\Python\\Python36\\site-packages\\sklearn\\linear_model\\logistic.py:433: FutureWarning: Default solver will be changed to 'lbfgs' in 0.22. Specify a solver to silence this warning.\n",
      "  FutureWarning)\n"
     ]
    },
    {
     "name": "stdout",
     "output_type": "stream",
     "text": [
      "Training accuracy : 0.87005\n",
      "Test accuracy : 0.8665\n"
     ]
    }
   ],
   "source": [
    "from sklearn.linear_model import LogisticRegression\n",
    "\n",
    "start = time.time()\n",
    "\n",
    "clf = LogisticRegression()\n",
    "clf.fit(X_train, y_train)\n",
    "print(\"Training accuracy : {}\".format(clf.score(X_train, y_train)))\n",
    "print(\"Test accuracy : {}\".format(clf.score(X_test, y_test)))\n",
    "\n",
    "end = time.time() - start\n",
    "print(\"Time spent : {:.2f}s\".format(end))"
   ]
  },
  {
   "cell_type": "code",
   "execution_count": 42,
   "metadata": {},
   "outputs": [
    {
     "name": "stdout",
     "output_type": "stream",
     "text": [
      "Training accuracy : 0.9988666666666667\n",
      "Test accuracy : 0.9656\n",
      "Time spent : 7.87s\n"
     ]
    }
   ],
   "source": [
    "from sklearn.ensemble import RandomForestClassifier\n",
    "\n",
    "start = time.time()\n",
    "\n",
    "clf = RandomForestClassifier(n_estimators=10)\n",
    "clf.fit(X_train, y_train)\n",
    "print(\"Training accuracy : {}\".format(clf.score(X_train, y_train)))\n",
    "print(\"Test accuracy : {}\".format(clf.score(X_test, y_test)))\n",
    "\n",
    "end = time.time() - start\n",
    "print(\"Time spent : {:.2f}s\".format(end))"
   ]
  },
  {
   "cell_type": "markdown",
   "metadata": {},
   "source": [
    "### 1-Nearest neighbor"
   ]
  },
  {
   "cell_type": "code",
   "execution_count": 3,
   "metadata": {},
   "outputs": [
    {
     "name": "stdout",
     "output_type": "stream",
     "text": [
      "Training accuracy : 0.9699666666666666\n",
      "Test accuracy : 0.9614\n",
      "Time spent : 2213.41s\n"
     ]
    }
   ],
   "source": [
    "from sklearn.neighbors import KNeighborsClassifier\n",
    "\n",
    "start = time.time()\n",
    "\n",
    "clf = KNeighborsClassifier(n_neighbors=1)\n",
    "clf.fit(X_train[:10000], y_train[:10000])\n",
    "print(\"Training accuracy : {}\".format(clf.score(X_train, y_train)))\n",
    "print(\"Test accuracy : {}\".format(clf.score(X_test, y_test)))\n",
    "\n",
    "end = time.time() - start\n",
    "print(\"Time spent : {:.2f}s\".format(end))"
   ]
  },
  {
   "cell_type": "markdown",
   "metadata": {},
   "source": [
    "### 5-Nearest neighbor"
   ]
  },
  {
   "cell_type": "code",
   "execution_count": 5,
   "metadata": {},
   "outputs": [
    {
     "name": "stdout",
     "output_type": "stream",
     "text": [
      "Training accuracy : 0.9673333333333334\n",
      "Test accuracy : 0.9617\n",
      "Time spent : 2383.75s\n"
     ]
    }
   ],
   "source": [
    "from sklearn.neighbors import KNeighborsClassifier\n",
    "\n",
    "start = time.time()\n",
    "\n",
    "clf = KNeighborsClassifier(n_neighbors=5)\n",
    "clf.fit(X_train[:10000], y_train[:10000])\n",
    "print(\"Training accuracy : {}\".format(clf.score(X_train, y_train)))\n",
    "print(\"Test accuracy : {}\".format(clf.score(X_test, y_test)))\n",
    "\n",
    "end = time.time() - start\n",
    "print(\"Time spent : {:.2f}s\".format(end))"
   ]
  },
  {
   "cell_type": "markdown",
   "metadata": {},
   "source": [
    "### Conv net"
   ]
  },
  {
   "cell_type": "code",
   "execution_count": null,
   "metadata": {},
   "outputs": [],
   "source": []
  },
  {
   "cell_type": "code",
   "execution_count": null,
   "metadata": {},
   "outputs": [],
   "source": []
  }
 ],
 "metadata": {
  "kernelspec": {
   "display_name": "Python 3",
   "language": "python",
   "name": "python3"
  },
  "language_info": {
   "codemirror_mode": {
    "name": "ipython",
    "version": 3
   },
   "file_extension": ".py",
   "mimetype": "text/x-python",
   "name": "python",
   "nbconvert_exporter": "python",
   "pygments_lexer": "ipython3",
   "version": "3.6.4"
  }
 },
 "nbformat": 4,
 "nbformat_minor": 2
}
