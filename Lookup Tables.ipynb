{
 "cells": [
  {
   "cell_type": "markdown",
   "metadata": {},
   "source": [
    "# A Network of Lookup Tables"
   ]
  },
  {
   "cell_type": "code",
   "execution_count": 1,
   "metadata": {},
   "outputs": [],
   "source": [
    "import numpy as np\n",
    "import math\n",
    "import matplotlib\n",
    "import matplotlib.pyplot as plt\n",
    "from collections import Counter\n",
    "import pickle\n",
    "import pandas as pd\n",
    "from sklearn.metrics import accuracy_score\n",
    "import time\n",
    "from tqdm import tqdm\n",
    "\n",
    "%matplotlib inline"
   ]
  },
  {
   "cell_type": "markdown",
   "metadata": {},
   "source": [
    "## Example 2\n",
    "\n",
    "A network of k = 2 layers.\n",
    "The first layer has 2 luts.\n",
    "The second layer has 1 lut."
   ]
  },
  {
   "cell_type": "code",
   "execution_count": 2,
   "metadata": {},
   "outputs": [],
   "source": [
    "train_set = [([0,0,0],0),([0,0,0],1),([0,0,0],1),([0,0,1],1),([1,0,0],0),([1,1,0],0),([1,1,0],1)]\n",
    "X_train = np.array([[0,0,0],[0,0,0],[0,0,0],[0,0,1],[1,0,0],[1,1,0],[1,1,0]])\n",
    "y_train = np.array([0,1,1,1,0,0,1])"
   ]
  },
  {
   "cell_type": "markdown",
   "metadata": {},
   "source": [
    "\n"
   ]
  },
  {
   "cell_type": "code",
   "execution_count": 2,
   "metadata": {},
   "outputs": [],
   "source": [
    "class LUT:\n",
    "    def __init__(self, inputs, indexes_0, indexes_1, k , index = []):\n",
    "        # build lut\n",
    "        self.k = k\n",
    "        if (index == []):\n",
    "            self.index = np.sort(np.random.choice(len(inputs[0]),k,replace = False))\n",
    "        else:\n",
    "            self.index = index\n",
    "        self.inv = np.arange(k-1,-1,-1)\n",
    "        self.output = np.zeros((2**k), int)\n",
    "        self.count_0 = np.zeros((2**k), int)\n",
    "        self.count_1 = np.zeros((2**k), int)\n",
    "        self.count(inputs[:,self.index], indexes_0,indexes_1)\n",
    "        \n",
    "    def count(self, subset, indexes_0, indexes_1):\n",
    "        zeros = Counter(np.sort(self.get_index_vec_to_dec(subset[indexes_0])))\n",
    "        ones =  Counter(np.sort(self.get_index_vec_to_dec(subset[indexes_1])))\n",
    "        for key in zeros.keys():\n",
    "            self.count_0[key] = zeros[key]\n",
    "        for key in ones.keys():\n",
    "            self.count_1[key] = ones[key]\n",
    "        # compute lut\n",
    "        self.output[self.count_0 > self.count_1] = 0\n",
    "        self.output[self.count_0 < self.count_1] = 1\n",
    "        # picked uniformly at random\n",
    "        self.output[self.count_0 == self.count_1] = np.random.choice([0,1], len(self.output[self.count_0 == self.count_1]))\n",
    "        \n",
    "    def get_index_vec_to_dec(self, X , axis = 1):\n",
    "        dec_index = np.sum(X * np.power(2*np.ones(self.k,int),self.inv),axis= axis)\n",
    "        return dec_index\n",
    "    \n",
    "    def get_index_dec_to_vec(self, dec):\n",
    "        return \"{0:b}\".format(dec).zfill(self.k)\n",
    "    \n",
    "    def look(self, X):\n",
    "        # X is a numpy array\n",
    "        X = np.array(X)\n",
    "        return self.output[self.get_index_vec_to_dec(X[self.index], 0)]\n",
    "    \n",
    "    def look_array(self, dataset):\n",
    "        subdataset = dataset[:,self.index]\n",
    "        return self.output[self.get_index_vec_to_dec(subdataset)]\n",
    "        \n",
    "    def score(self, labels, dataset):\n",
    "        predicted = self.look_array(dataset)\n",
    "        return accuracy_score(labels,predicted)\n",
    "    \n",
    "    def show(self):\n",
    "        print(\"Look up table\")\n",
    "        print(\"Index = {}\".format(self.index))\n",
    "        print(\"  p    |  y0 |  y1 |  f   |\")\n",
    "        for i in range(len(self.output)):\n",
    "            if (self.count_0[i] == self.count_1[i]):\n",
    "                f = \"{}*\".format(self.output[i])\n",
    "            else:\n",
    "                f = \"{} \".format(self.output[i])\n",
    "            print(\"  {}   |  {}  |  {}  |  {}  |\".format(self.get_index_dec_to_vec(i), self.count_0[i], self.count_1[i], f))\n",
    "            \n",
    "    def clean(self):\n",
    "        self.count_0 = None\n",
    "        self.count_1 = None"
   ]
  },
  {
   "cell_type": "code",
   "execution_count": 3,
   "metadata": {},
   "outputs": [],
   "source": [
    "class NLUTS :\n",
    "    def __init__(self,k,n_luts = [1024,512,512,256,16,1], n_layer = 6):\n",
    "        self.layers = []\n",
    "        self.k = k\n",
    "        self.n_layer = n_layer\n",
    "        self.n_luts = n_luts\n",
    "    \n",
    "    def train(self,X_train,y_train, indexes_0, indexes_1):\n",
    "\n",
    "        inputs = X_train\n",
    "        outputs = inputs\n",
    "        # hidden layers + 1 output layer\n",
    "        for l in range(self.n_layer):\n",
    "            layer = []\n",
    "            inputs = outputs\n",
    "            outputs = np.zeros((len(X_train),self.n_luts[l]),int)\n",
    "            for i in range(n_luts[l]):\n",
    "                lut = LUT(inputs, indexes_0, indexes_1, self.k)\n",
    "                outputs[:,i] = lut.look_array(inputs)\n",
    "                layer.append(lut)\n",
    "            self.layers.append(layer)\n",
    "        return outputs\n",
    "    \n",
    "    def predict(self,X,y):\n",
    "        inputs = X\n",
    "        outputs = inputs\n",
    "        for layer in self.layers:\n",
    "            inputs = outputs\n",
    "            outputs = np.zeros((len(X),len(layer)),int)\n",
    "            for i in range(len(layer)):\n",
    "                outputs[:,i] = layer[i].look_array(inputs)\n",
    "        return outputs\n",
    "    \n",
    "    def score(self,X,y):\n",
    "        return accuracy_score(y, self.predict(X,y))"
   ]
  },
  {
   "cell_type": "code",
   "execution_count": 5,
   "metadata": {},
   "outputs": [
    {
     "name": "stdout",
     "output_type": "stream",
     "text": [
      "Look up table\n",
      "Index = [0, 1]\n",
      "  p    |  y0 |  y1 |  f   |\n",
      "  00   |  1  |  3  |  1   |\n",
      "  01   |  0  |  0  |  0*  |\n",
      "  10   |  1  |  0  |  0   |\n",
      "  11   |  1  |  1  |  1*  |\n",
      "predict [0,0,0] : 1\n",
      "accuracy : 0.7142857142857143\n"
     ]
    }
   ],
   "source": [
    "#index = np.sort(np.random.choice(len(train_set[0][0]),k,replace = False))\n",
    "k = 2\n",
    "index = [0,1]\n",
    "lut = LUT(X_train,np.where(y_train == 0), np.where(y_train == 1), 2, index)\n",
    "lut.show()\n",
    "print(\"predict [0,0,0] : {}\".format(lut.look(np.array([0,0,0]))))\n",
    "print(\"accuracy : {}\".format(lut.score(y_train, X_train)))"
   ]
  },
  {
   "cell_type": "code",
   "execution_count": 6,
   "metadata": {},
   "outputs": [
    {
     "name": "stdout",
     "output_type": "stream",
     "text": [
      " ==== first layer === \n",
      "\n",
      "Look up table\n",
      "Index = [1 2]\n",
      "  p    |  y0 |  y1 |  f   |\n",
      "  00   |  2  |  2  |  0*  |\n",
      "  01   |  0  |  1  |  1   |\n",
      "  10   |  1  |  1  |  0*  |\n",
      "  11   |  0  |  0  |  1*  |\n",
      "Look up table\n",
      "Index = [0 1]\n",
      "  p    |  y0 |  y1 |  f   |\n",
      "  00   |  1  |  3  |  1   |\n",
      "  01   |  0  |  0  |  0*  |\n",
      "  10   |  1  |  0  |  0   |\n",
      "  11   |  1  |  1  |  0*  |\n",
      "\n",
      " ==== second layer === \n",
      "\n",
      "Look up table\n",
      "Index = [0 1]\n",
      "  p    |  y0 |  y1 |  f   |\n",
      "  00   |  2  |  1  |  0   |\n",
      "  01   |  1  |  2  |  1   |\n",
      "  10   |  0  |  0  |  0*  |\n",
      "  11   |  0  |  1  |  1   |\n",
      "Time spent : 0.10s\n"
     ]
    }
   ],
   "source": [
    "n_luts = [2, 1] # number of luts per layer\n",
    "k = 2 # sampling input\n",
    "\n",
    "# make a Network of look up table\n",
    "layers = []\n",
    "\n",
    "indexes_0 = np.where(y_train == 0) \n",
    "indexes_1 = np.where(y_train == 1)\n",
    "outputs = np.zeros((len(X_train),n_luts[0]),int)\n",
    "\n",
    "start = time.time()\n",
    "\n",
    "# first layer\n",
    "print(\" ==== first layer === \\n\")\n",
    "layer = []\n",
    "for i in range(n_luts[0]):\n",
    "    # build lut\n",
    "    lut = LUT(X_train, indexes_0, indexes_1, k)\n",
    "    lut.show()\n",
    "    outputs[:,i] = lut.look_array(X_train)\n",
    "    lut.clean()\n",
    "    layer.append(lut)\n",
    "layers.append(layer)\n",
    "\n",
    "# second layer\n",
    "print(\"\\n ==== second layer === \\n\")\n",
    "layer = []\n",
    "inputs = outputs\n",
    "outputs = np.zeros((len(X_train),n_luts[1]),int)\n",
    "for i in range(n_luts[1]):\n",
    "    lut = LUT(inputs, indexes_0, indexes_1, k)\n",
    "    lut.show()\n",
    "    outputs[:,i] = lut.look_array(inputs)\n",
    "    lut.clean()\n",
    "    layer.append(lut)\n",
    "layers.append(layer) \n",
    "\n",
    "end = time.time() - start\n",
    "print(\"Time spent : {:.2f}s\".format(end))"
   ]
  },
  {
   "cell_type": "markdown",
   "metadata": {},
   "source": [
    "## Experiment 1\n",
    "\n",
    "A Network with 5 hidden layers of 1024 luts and 1 lut in the output layer. k = 9."
   ]
  },
  {
   "cell_type": "markdown",
   "metadata": {},
   "source": [
    "### Load MNIST"
   ]
  },
  {
   "cell_type": "code",
   "execution_count": 6,
   "metadata": {},
   "outputs": [
    {
     "data": {
      "text/plain": [
       "'\\ndef loadMNIST(prefix, folder):\\n    intType = np.dtype( \\'int32\\' ).newbyteorder( \\'>\\' )\\n    nMetaDataBytes = 4 * intType.itemsize\\n\\n    data = np.fromfile( folder + \"/\" + prefix + \\'-images.idx3-ubyte\\', dtype = \\'ubyte\\' )\\n    magicBytes, nImages, width, height = np.frombuffer( data[:nMetaDataBytes].tobytes(), intType )\\n    data = data[nMetaDataBytes:].astype( dtype = \\'float32\\' ).reshape( [ nImages, width, height ] )\\n\\n    labels = np.fromfile( folder + \"/\" + prefix + \\'-labels.idx1-ubyte\\',\\n                          dtype = \\'ubyte\\' )[2 * intType.itemsize:]\\n\\n    return data, labels\\n\\ntrainingImages, trainingLabels = loadMNIST( \"train\", \"./data/mnist\" )\\ntestImages, testLabels = loadMNIST( \"t10k\", \"./data/mnist\" )\\n\\nfrom ipywidgets import FloatProgress\\nfrom IPython.display import display\\n\\nX_train = np.zeros((60000,784), int)\\ny_train = np.zeros((60000),int)\\nthreshold=0.3 * 255\\nf = FloatProgress(min=0, max=trainingImages.shape[0])\\ndisplay(f)\\nfor i in range(trainingImages.shape[0]): \\n    f.value+=1\\n    X_train[i,:]= 1.0*(trainingImages[i].reshape(784)>threshold)\\ny_train[trainingLabels>4] = 1\\nprint(X_train.shape)\\n\\nX_test = np.zeros((10000,784), int)\\ny_test = np.zeros((10000),int)\\nthreshold=0.3 * 255\\nf = FloatProgress(min=0, max=testImages.shape[0])\\ndisplay(f)\\nfor i in range(testImages.shape[0]): \\n    f.value+=1\\n    X_test[i,:]= 1.0*(testImages[i].reshape(784)>threshold)\\ny_test[testLabels>4] = 1\\nprint(X_test.shape)\\n\\nwith open(\\'./data/mnist/mnist_X_train.p\\', \\'wb\\') as f:\\n    pickle.dump(X_train, f)\\nwith open(\\'./data/mnist/mnist_y_train.p\\', \\'wb\\') as f:\\n    pickle.dump(y_train, f)\\nwith open(\\'./data/mnist/mnist_X_test.p\\', \\'wb\\') as f:\\n    pickle.dump(X_test, f)\\nwith open(\\'./data/mnist/mnist_y_test.p\\', \\'wb\\') as f:\\n    pickle.dump(y_test, f)\\n'"
      ]
     },
     "execution_count": 6,
     "metadata": {},
     "output_type": "execute_result"
    }
   ],
   "source": [
    "\"\"\"\n",
    "def loadMNIST(prefix, folder):\n",
    "    intType = np.dtype( 'int32' ).newbyteorder( '>' )\n",
    "    nMetaDataBytes = 4 * intType.itemsize\n",
    "\n",
    "    data = np.fromfile( folder + \"/\" + prefix + '-images.idx3-ubyte', dtype = 'ubyte' )\n",
    "    magicBytes, nImages, width, height = np.frombuffer( data[:nMetaDataBytes].tobytes(), intType )\n",
    "    data = data[nMetaDataBytes:].astype( dtype = 'float32' ).reshape( [ nImages, width, height ] )\n",
    "\n",
    "    labels = np.fromfile( folder + \"/\" + prefix + '-labels.idx1-ubyte',\n",
    "                          dtype = 'ubyte' )[2 * intType.itemsize:]\n",
    "\n",
    "    return data, labels\n",
    "\n",
    "trainingImages, trainingLabels = loadMNIST( \"train\", \"./data/mnist\" )\n",
    "testImages, testLabels = loadMNIST( \"t10k\", \"./data/mnist\" )\n",
    "\n",
    "from ipywidgets import FloatProgress\n",
    "from IPython.display import display\n",
    "\n",
    "X_train = np.zeros((60000,784), int)\n",
    "y_train = np.zeros((60000),int)\n",
    "threshold=0.3 * 255\n",
    "f = FloatProgress(min=0, max=trainingImages.shape[0])\n",
    "display(f)\n",
    "for i in range(trainingImages.shape[0]): \n",
    "    f.value+=1\n",
    "    X_train[i,:]= 1.0*(trainingImages[i].reshape(784)>threshold)\n",
    "    \n",
    "y_train[trainingLabels>4] = 1\n",
    "print(X_train.shape)\n",
    "\n",
    "X_test = np.zeros((10000,784), int)\n",
    "y_test = np.zeros((10000),int)\n",
    "threshold=0.3 * 255\n",
    "f = FloatProgress(min=0, max=testImages.shape[0])\n",
    "display(f)\n",
    "for i in range(testImages.shape[0]): \n",
    "    f.value+=1\n",
    "    X_test[i,:]= 1.0*(testImages[i].reshape(784)>threshold)\n",
    "\n",
    "y_test[testLabels>4] = 1\n",
    "print(X_test.shape)\n",
    "\n",
    "# dump data into pickle file\n",
    "with open('./data/mnist/mnist_X_train.p', 'wb') as f:\n",
    "    pickle.dump(X_train, f)\n",
    "with open('./data/mnist/mnist_y_train.p', 'wb') as f:\n",
    "    pickle.dump(trainingLabels, f)\n",
    "with open('./data/mnist/mnist_X_test.p', 'wb') as f:\n",
    "    pickle.dump(X_test, f)\n",
    "with open('./data/mnist/mnist_y_test.p', 'wb') as f:\n",
    "    pickle.dump(testLabels, f)\n",
    "\n",
    "# dump binarized labels\n",
    "with open('./data/mnist/binarized_mnist_y_train.p', 'wb') as f:\n",
    "    pickle.dump(y_train, f)\n",
    "with open('./data/mnist/binarized_mnist_y_test.p', 'wb') as f:\n",
    "    pickle.dump(y_test, f)\n",
    "\"\"\""
   ]
  },
  {
   "cell_type": "code",
   "execution_count": 4,
   "metadata": {},
   "outputs": [],
   "source": [
    "with open('./data/mnist/mnist_X_train.p', 'rb') as f:\n",
    "    X_train = pickle.load(f)\n",
    "with open('./data/mnist/binarized_mnist_y_train.p', 'rb') as f:\n",
    "    y_train = pickle.load(f)\n",
    "with open('./data/mnist/mnist_X_test.p', 'rb') as f:\n",
    "    X_test = pickle.load(f)\n",
    "with open('./data/mnist/binarized_mnist_y_test.p', 'rb') as f:\n",
    "    y_test = pickle.load(f)"
   ]
  },
  {
   "cell_type": "code",
   "execution_count": 5,
   "metadata": {},
   "outputs": [
    {
     "data": {
      "text/plain": [
       "<matplotlib.image.AxesImage at 0x1ff56543978>"
      ]
     },
     "execution_count": 5,
     "metadata": {},
     "output_type": "execute_result"
    },
    {
     "data": {
      "image/png": "[encoded data removed]",
      "text/plain": [
       "<matplotlib.figure.Figure at 0x1ff564ff320>"
      ]
     },
     "metadata": {},
     "output_type": "display_data"
    }
   ],
   "source": [
    "plt.imshow(X_train[0].reshape(28,28) , matplotlib.pyplot.cm.gray)"
   ]
  },
  {
   "cell_type": "markdown",
   "metadata": {},
   "source": [
    "### Build Network"
   ]
  },
  {
   "cell_type": "code",
   "execution_count": 9,
   "metadata": {},
   "outputs": [
    {
     "name": "stdout",
     "output_type": "stream",
     "text": [
      "layer 0 nb luts : 784\n"
     ]
    },
    {
     "name": "stderr",
     "output_type": "stream",
     "text": [
      "100%|████████████████████████████████████████████████████████████████████████████████| 784/784 [00:14<00:00, 53.35it/s]\n"
     ]
    },
    {
     "name": "stdout",
     "output_type": "stream",
     "text": [
      "layer 1 nb luts : 1024\n"
     ]
    },
    {
     "name": "stderr",
     "output_type": "stream",
     "text": [
      "100%|██████████████████████████████████████████████████████████████████████████████| 1024/1024 [01:46<00:00,  9.60it/s]\n"
     ]
    },
    {
     "name": "stdout",
     "output_type": "stream",
     "text": [
      "layer 2 nb luts : 1024\n"
     ]
    },
    {
     "name": "stderr",
     "output_type": "stream",
     "text": [
      "100%|██████████████████████████████████████████████████████████████████████████████| 1024/1024 [01:56<00:00,  8.62it/s]\n"
     ]
    },
    {
     "name": "stdout",
     "output_type": "stream",
     "text": [
      "layer 3 nb luts : 1024\n"
     ]
    },
    {
     "name": "stderr",
     "output_type": "stream",
     "text": [
      "100%|██████████████████████████████████████████████████████████████████████████████| 1024/1024 [01:35<00:00, 13.24it/s]\n"
     ]
    },
    {
     "name": "stdout",
     "output_type": "stream",
     "text": [
      "layer 4 nb luts : 1024\n"
     ]
    },
    {
     "name": "stderr",
     "output_type": "stream",
     "text": [
      "100%|██████████████████████████████████████████████████████████████████████████████| 1024/1024 [01:20<00:00, 12.66it/s]\n"
     ]
    },
    {
     "name": "stdout",
     "output_type": "stream",
     "text": [
      "layer 5 nb luts : 1024\n"
     ]
    },
    {
     "name": "stderr",
     "output_type": "stream",
     "text": [
      "100%|██████████████████████████████████████████████████████████████████████████████| 1024/1024 [01:19<00:00, 12.82it/s]\n"
     ]
    },
    {
     "name": "stdout",
     "output_type": "stream",
     "text": [
      "layer 6 nb luts : 1\n"
     ]
    },
    {
     "name": "stderr",
     "output_type": "stream",
     "text": [
      "100%|████████████████████████████████████████████████████████████████████████████████████| 1/1 [00:00<00:00, 12.01it/s]\n"
     ]
    },
    {
     "name": "stdout",
     "output_type": "stream",
     "text": [
      "Time spent : 494.30s\n"
     ]
    }
   ],
   "source": [
    "n_luts = [784,1024,1024,1024,1024,1024,1] # number of luts per layer\n",
    "k = 8 # sampling input\n",
    "layers = []\n",
    "\n",
    "inputs = np.zeros((len(y_train),8),int)\n",
    "indexes_0 = np.where(y_train == 0) \n",
    "indexes_1 = np.where(y_train == 1)\n",
    "\n",
    "train_accuracy = []\n",
    "\n",
    "start = time.time()\n",
    "\n",
    "# input layer\n",
    "l = 0\n",
    "print(\"layer {} nb luts : {}\".format(l, n_luts[l]))\n",
    "layer = []\n",
    "accuracy = []\n",
    "inputs = X_train\n",
    "outputs = np.zeros((len(y_train),n_luts[l]),int)\n",
    "for i in tqdm(range(n_luts[0])):\n",
    "    # build lut\n",
    "    #lut = LUT(inputs, indexes_0, indexes_1, 1, index = [i])\n",
    "    outputs[:,i] = inputs[:,i]\n",
    "    #layer.append(lut)\n",
    "    accuracy.append(accuracy_score(y_train, outputs[:,i]))\n",
    "layers.append(layer)\n",
    "train_accuracy.append(accuracy)\n",
    "\n",
    "# 5 hidden layers + 1 output layer\n",
    "for l in range(1,len(n_luts)):\n",
    "    print(\"layer {} nb luts : {}\".format(l, n_luts[l]))\n",
    "    layer = []\n",
    "    accuracy = []\n",
    "    inputs = outputs\n",
    "    outputs = np.zeros((len(y_train),n_luts[l]),int)\n",
    "    for i in tqdm(range(n_luts[l])):\n",
    "        lut = LUT(inputs, indexes_0, indexes_1, k)\n",
    "        outputs[:,i] = lut.look_array(inputs)\n",
    "        layer.append(lut)\n",
    "        accuracy.append(accuracy_score(y_train, outputs[:,i]))\n",
    "    layers.append(layer)\n",
    "    train_accuracy.append(accuracy)\n",
    "    \n",
    "end = time.time() - start\n",
    "print(\"Time spent : {:.2f}s\".format(end))"
   ]
  },
  {
   "cell_type": "code",
   "execution_count": 10,
   "metadata": {},
   "outputs": [
    {
     "name": "stdout",
     "output_type": "stream",
     "text": [
      "Experiment 1 : Training accuracy\n",
      "\n"
     ]
    },
    {
     "data": {
      "text/html": [
       "<div>\n",
       "<style scoped>\n",
       "    .dataframe tbody tr th:only-of-type {\n",
       "        vertical-align: middle;\n",
       "    }\n",
       "\n",
       "    .dataframe tbody tr th {\n",
       "        vertical-align: top;\n",
       "    }\n",
       "\n",
       "    .dataframe thead th {\n",
       "        text-align: right;\n",
       "    }\n",
       "</style>\n",
       "<table border=\"1\" class=\"dataframe\">\n",
       "  <thead>\n",
       "    <tr style=\"text-align: right;\">\n",
       "      <th></th>\n",
       "      <th>0</th>\n",
       "      <th>1</th>\n",
       "      <th>2</th>\n",
       "      <th>3</th>\n",
       "      <th>4</th>\n",
       "      <th>5</th>\n",
       "      <th>6</th>\n",
       "    </tr>\n",
       "  </thead>\n",
       "  <tbody>\n",
       "    <tr>\n",
       "      <th>count</th>\n",
       "      <td>784.000000</td>\n",
       "      <td>1024.000000</td>\n",
       "      <td>1024.000000</td>\n",
       "      <td>1024.000000</td>\n",
       "      <td>1024.000000</td>\n",
       "      <td>1024.000000</td>\n",
       "      <td>1.000000</td>\n",
       "    </tr>\n",
       "    <tr>\n",
       "      <th>mean</th>\n",
       "      <td>0.507220</td>\n",
       "      <td>0.611930</td>\n",
       "      <td>0.755167</td>\n",
       "      <td>0.843027</td>\n",
       "      <td>0.878318</td>\n",
       "      <td>0.892538</td>\n",
       "      <td>0.901167</td>\n",
       "    </tr>\n",
       "    <tr>\n",
       "      <th>std</th>\n",
       "      <td>0.036831</td>\n",
       "      <td>0.044454</td>\n",
       "      <td>0.019664</td>\n",
       "      <td>0.006983</td>\n",
       "      <td>0.003049</td>\n",
       "      <td>0.001253</td>\n",
       "      <td>NaN</td>\n",
       "    </tr>\n",
       "    <tr>\n",
       "      <th>min</th>\n",
       "      <td>0.402167</td>\n",
       "      <td>0.512433</td>\n",
       "      <td>0.666083</td>\n",
       "      <td>0.817333</td>\n",
       "      <td>0.868800</td>\n",
       "      <td>0.888633</td>\n",
       "      <td>0.901167</td>\n",
       "    </tr>\n",
       "    <tr>\n",
       "      <th>25%</th>\n",
       "      <td>0.495071</td>\n",
       "      <td>0.580229</td>\n",
       "      <td>0.742867</td>\n",
       "      <td>0.838279</td>\n",
       "      <td>0.876258</td>\n",
       "      <td>0.891683</td>\n",
       "      <td>0.901167</td>\n",
       "    </tr>\n",
       "    <tr>\n",
       "      <th>50%</th>\n",
       "      <td>0.509933</td>\n",
       "      <td>0.609592</td>\n",
       "      <td>0.757017</td>\n",
       "      <td>0.843017</td>\n",
       "      <td>0.878450</td>\n",
       "      <td>0.892550</td>\n",
       "      <td>0.901167</td>\n",
       "    </tr>\n",
       "    <tr>\n",
       "      <th>75%</th>\n",
       "      <td>0.513792</td>\n",
       "      <td>0.643104</td>\n",
       "      <td>0.768813</td>\n",
       "      <td>0.847692</td>\n",
       "      <td>0.880354</td>\n",
       "      <td>0.893367</td>\n",
       "      <td>0.901167</td>\n",
       "    </tr>\n",
       "    <tr>\n",
       "      <th>max</th>\n",
       "      <td>0.668500</td>\n",
       "      <td>0.739583</td>\n",
       "      <td>0.808800</td>\n",
       "      <td>0.862750</td>\n",
       "      <td>0.887567</td>\n",
       "      <td>0.897000</td>\n",
       "      <td>0.901167</td>\n",
       "    </tr>\n",
       "  </tbody>\n",
       "</table>\n",
       "</div>"
      ],
      "text/plain": [
       "                0            1            2            3            4  \\\n",
       "count  784.000000  1024.000000  1024.000000  1024.000000  1024.000000   \n",
       "mean     0.507220     0.611930     0.755167     0.843027     0.878318   \n",
       "std      0.036831     0.044454     0.019664     0.006983     0.003049   \n",
       "min      0.402167     0.512433     0.666083     0.817333     0.868800   \n",
       "25%      0.495071     0.580229     0.742867     0.838279     0.876258   \n",
       "50%      0.509933     0.609592     0.757017     0.843017     0.878450   \n",
       "75%      0.513792     0.643104     0.768813     0.847692     0.880354   \n",
       "max      0.668500     0.739583     0.808800     0.862750     0.887567   \n",
       "\n",
       "                 5         6  \n",
       "count  1024.000000  1.000000  \n",
       "mean      0.892538  0.901167  \n",
       "std       0.001253       NaN  \n",
       "min       0.888633  0.901167  \n",
       "25%       0.891683  0.901167  \n",
       "50%       0.892550  0.901167  \n",
       "75%       0.893367  0.901167  \n",
       "max       0.897000  0.901167  "
      ]
     },
     "execution_count": 10,
     "metadata": {},
     "output_type": "execute_result"
    }
   ],
   "source": [
    "print(\"Experiment 1 : Training accuracy\\n\")\n",
    "df = pd.DataFrame(train_accuracy).transpose()\n",
    "df.describe()"
   ]
  },
  {
   "cell_type": "code",
   "execution_count": 14,
   "metadata": {},
   "outputs": [
    {
     "name": "stderr",
     "output_type": "stream",
     "text": [
      "100%|███████████████████████████████████████████████████████████████████████████████| 784/784 [00:02<00:00, 383.45it/s]\n",
      "100%|█████████████████████████████████████████████████████████████████████████████| 1024/1024 [00:06<00:00, 149.56it/s]\n",
      "100%|█████████████████████████████████████████████████████████████████████████████| 1024/1024 [00:06<00:00, 150.24it/s]\n",
      "100%|█████████████████████████████████████████████████████████████████████████████| 1024/1024 [00:06<00:00, 149.89it/s]\n",
      "100%|█████████████████████████████████████████████████████████████████████████████| 1024/1024 [00:06<00:00, 149.05it/s]\n",
      "100%|█████████████████████████████████████████████████████████████████████████████| 1024/1024 [00:06<00:00, 148.94it/s]\n",
      "100%|███████████████████████████████████████████████████████████████████████████████████| 1/1 [00:00<00:00, 125.33it/s]\n"
     ]
    },
    {
     "name": "stdout",
     "output_type": "stream",
     "text": [
      "Time spent : 36.43s\n"
     ]
    }
   ],
   "source": [
    "# Compute test accuracy\n",
    "\n",
    "# input layer\n",
    "k = 8\n",
    "\n",
    "test_accuracy = []\n",
    "\n",
    "start = time.time()\n",
    "\n",
    "inputs = X_test\n",
    "outputs = np.zeros((len(X_test),n_luts[0]),int)\n",
    "accuracy = []\n",
    "for i in tqdm(range(n_luts[0])):\n",
    "    outputs[:,i] = inputs[:,i]\n",
    "    accuracy.append(accuracy_score(y_test, outputs[:,i]))\n",
    "test_accuracy.append(accuracy)\n",
    "    \n",
    "for layer in layers[1:]:\n",
    "    accuracy = []\n",
    "    inputs = outputs\n",
    "    outputs = np.zeros((len(X_test),len(layer)),int)\n",
    "    for i in tqdm(range(len(layer))):\n",
    "        score = layer[i].score(y_test, inputs)\n",
    "        outputs[:,i] = layer[i].look_array(inputs)\n",
    "        accuracy.append(score)\n",
    "    test_accuracy.append(accuracy)\n",
    "\n",
    "end = time.time() - start\n",
    "print(\"Time spent : {:.2f}s\".format(end))"
   ]
  },
  {
   "cell_type": "code",
   "execution_count": 15,
   "metadata": {},
   "outputs": [
    {
     "name": "stdout",
     "output_type": "stream",
     "text": [
      "Experiment 1 : Test accuracy\n",
      "\n"
     ]
    },
    {
     "data": {
      "text/html": [
       "<div>\n",
       "<style scoped>\n",
       "    .dataframe tbody tr th:only-of-type {\n",
       "        vertical-align: middle;\n",
       "    }\n",
       "\n",
       "    .dataframe tbody tr th {\n",
       "        vertical-align: top;\n",
       "    }\n",
       "\n",
       "    .dataframe thead th {\n",
       "        text-align: right;\n",
       "    }\n",
       "</style>\n",
       "<table border=\"1\" class=\"dataframe\">\n",
       "  <thead>\n",
       "    <tr style=\"text-align: right;\">\n",
       "      <th></th>\n",
       "      <th>0</th>\n",
       "      <th>1</th>\n",
       "      <th>2</th>\n",
       "      <th>3</th>\n",
       "      <th>4</th>\n",
       "      <th>5</th>\n",
       "      <th>6</th>\n",
       "    </tr>\n",
       "  </thead>\n",
       "  <tbody>\n",
       "    <tr>\n",
       "      <th>count</th>\n",
       "      <td>784.000000</td>\n",
       "      <td>1024.000000</td>\n",
       "      <td>1024.000000</td>\n",
       "      <td>1024.000000</td>\n",
       "      <td>1024.000000</td>\n",
       "      <td>1024.000000</td>\n",
       "      <td>1.0000</td>\n",
       "    </tr>\n",
       "    <tr>\n",
       "      <th>mean</th>\n",
       "      <td>0.511235</td>\n",
       "      <td>0.615052</td>\n",
       "      <td>0.758190</td>\n",
       "      <td>0.842122</td>\n",
       "      <td>0.872814</td>\n",
       "      <td>0.881674</td>\n",
       "      <td>0.8842</td>\n",
       "    </tr>\n",
       "    <tr>\n",
       "      <th>std</th>\n",
       "      <td>0.038818</td>\n",
       "      <td>0.047724</td>\n",
       "      <td>0.020960</td>\n",
       "      <td>0.007557</td>\n",
       "      <td>0.003647</td>\n",
       "      <td>0.002053</td>\n",
       "      <td>NaN</td>\n",
       "    </tr>\n",
       "    <tr>\n",
       "      <th>min</th>\n",
       "      <td>0.391300</td>\n",
       "      <td>0.502400</td>\n",
       "      <td>0.657700</td>\n",
       "      <td>0.814300</td>\n",
       "      <td>0.861300</td>\n",
       "      <td>0.875500</td>\n",
       "      <td>0.8842</td>\n",
       "    </tr>\n",
       "    <tr>\n",
       "      <th>25%</th>\n",
       "      <td>0.497475</td>\n",
       "      <td>0.580900</td>\n",
       "      <td>0.745575</td>\n",
       "      <td>0.837475</td>\n",
       "      <td>0.870400</td>\n",
       "      <td>0.880375</td>\n",
       "      <td>0.8842</td>\n",
       "    </tr>\n",
       "    <tr>\n",
       "      <th>50%</th>\n",
       "      <td>0.513900</td>\n",
       "      <td>0.613200</td>\n",
       "      <td>0.760700</td>\n",
       "      <td>0.842300</td>\n",
       "      <td>0.873000</td>\n",
       "      <td>0.881600</td>\n",
       "      <td>0.8842</td>\n",
       "    </tr>\n",
       "    <tr>\n",
       "      <th>75%</th>\n",
       "      <td>0.517125</td>\n",
       "      <td>0.648450</td>\n",
       "      <td>0.772500</td>\n",
       "      <td>0.847300</td>\n",
       "      <td>0.875400</td>\n",
       "      <td>0.883100</td>\n",
       "      <td>0.8842</td>\n",
       "    </tr>\n",
       "    <tr>\n",
       "      <th>max</th>\n",
       "      <td>0.684600</td>\n",
       "      <td>0.749500</td>\n",
       "      <td>0.811500</td>\n",
       "      <td>0.864300</td>\n",
       "      <td>0.884100</td>\n",
       "      <td>0.888100</td>\n",
       "      <td>0.8842</td>\n",
       "    </tr>\n",
       "  </tbody>\n",
       "</table>\n",
       "</div>"
      ],
      "text/plain": [
       "                0            1            2            3            4  \\\n",
       "count  784.000000  1024.000000  1024.000000  1024.000000  1024.000000   \n",
       "mean     0.511235     0.615052     0.758190     0.842122     0.872814   \n",
       "std      0.038818     0.047724     0.020960     0.007557     0.003647   \n",
       "min      0.391300     0.502400     0.657700     0.814300     0.861300   \n",
       "25%      0.497475     0.580900     0.745575     0.837475     0.870400   \n",
       "50%      0.513900     0.613200     0.760700     0.842300     0.873000   \n",
       "75%      0.517125     0.648450     0.772500     0.847300     0.875400   \n",
       "max      0.684600     0.749500     0.811500     0.864300     0.884100   \n",
       "\n",
       "                 5       6  \n",
       "count  1024.000000  1.0000  \n",
       "mean      0.881674  0.8842  \n",
       "std       0.002053     NaN  \n",
       "min       0.875500  0.8842  \n",
       "25%       0.880375  0.8842  \n",
       "50%       0.881600  0.8842  \n",
       "75%       0.883100  0.8842  \n",
       "max       0.888100  0.8842  "
      ]
     },
     "execution_count": 15,
     "metadata": {},
     "output_type": "execute_result"
    }
   ],
   "source": [
    "print(\"Experiment 1 : Test accuracy\\n\")\n",
    "df = pd.DataFrame(test_accuracy).transpose()\n",
    "df.describe()"
   ]
  },
  {
   "cell_type": "markdown",
   "metadata": {},
   "source": [
    "## Experiment 2\n",
    "\n",
    "k = 2,4,6,8,10,12,14,16"
   ]
  },
  {
   "cell_type": "code",
   "execution_count": 17,
   "metadata": {},
   "outputs": [
    {
     "name": "stdout",
     "output_type": "stream",
     "text": [
      " Memorization k = 2\n"
     ]
    },
    {
     "name": "stderr",
     "output_type": "stream",
     "text": [
      "100%|███████████████████████████████████████████████████████████████████████████████| 784/784 [00:02<00:00, 379.77it/s]\n",
      "100%|████████████████████████████████████████████████████████████████████████████████| 784/784 [00:34<00:00, 22.99it/s]\n",
      "100%|██████████████████████████████████████████████████████████████████████████████| 1024/1024 [00:48<00:00, 16.60it/s]\n",
      "100%|██████████████████████████████████████████████████████████████████████████████| 1024/1024 [00:47<00:00, 21.72it/s]\n",
      "100%|██████████████████████████████████████████████████████████████████████████████| 1024/1024 [00:48<00:00, 26.70it/s]\n",
      "100%|██████████████████████████████████████████████████████████████████████████████| 1024/1024 [00:38<00:00, 26.42it/s]\n",
      "100%|██████████████████████████████████████████████████████████████████████████████| 1024/1024 [00:39<00:00, 25.81it/s]\n",
      "100%|████████████████████████████████████████████████████████████████████████████████████| 1/1 [00:00<00:00, 21.78it/s]\n"
     ]
    },
    {
     "name": "stdout",
     "output_type": "stream",
     "text": [
      "accuracy :0.6928833333333333\n",
      "Time spent :258.89s\n",
      " Memorization k = 4\n"
     ]
    },
    {
     "name": "stderr",
     "output_type": "stream",
     "text": [
      "100%|███████████████████████████████████████████████████████████████████████████████| 784/784 [00:01<00:00, 448.06it/s]\n",
      "100%|████████████████████████████████████████████████████████████████████████████████| 784/784 [00:38<00:00, 20.51it/s]\n",
      "100%|██████████████████████████████████████████████████████████████████████████████| 1024/1024 [01:02<00:00, 16.48it/s]\n",
      "100%|██████████████████████████████████████████████████████████████████████████████| 1024/1024 [01:07<00:00, 12.03it/s]\n",
      "100%|██████████████████████████████████████████████████████████████████████████████| 1024/1024 [01:05<00:00, 15.56it/s]\n",
      "100%|██████████████████████████████████████████████████████████████████████████████| 1024/1024 [01:09<00:00, 16.62it/s]\n",
      "100%|██████████████████████████████████████████████████████████████████████████████| 1024/1024 [01:07<00:00, 15.90it/s]\n",
      "100%|████████████████████████████████████████████████████████████████████████████████████| 1/1 [00:00<00:00, 13.02it/s]\n"
     ]
    },
    {
     "name": "stdout",
     "output_type": "stream",
     "text": [
      "accuracy :0.8231833333333334\n",
      "Time spent :373.63s\n",
      " Memorization k = 6\n"
     ]
    },
    {
     "name": "stderr",
     "output_type": "stream",
     "text": [
      "100%|███████████████████████████████████████████████████████████████████████████████| 784/784 [00:02<00:00, 280.15it/s]\n",
      "100%|████████████████████████████████████████████████████████████████████████████████| 784/784 [00:59<00:00, 13.25it/s]\n",
      "100%|██████████████████████████████████████████████████████████████████████████████| 1024/1024 [01:15<00:00, 13.48it/s]\n",
      "100%|██████████████████████████████████████████████████████████████████████████████| 1024/1024 [01:10<00:00, 16.87it/s]\n",
      "100%|██████████████████████████████████████████████████████████████████████████████| 1024/1024 [01:00<00:00, 16.83it/s]\n",
      "100%|██████████████████████████████████████████████████████████████████████████████| 1024/1024 [01:00<00:00, 16.37it/s]\n",
      "100%|██████████████████████████████████████████████████████████████████████████████| 1024/1024 [01:00<00:00, 17.01it/s]\n",
      "100%|████████████████████████████████████████████████████████████████████████████████████| 1/1 [00:00<00:00, 14.52it/s]\n"
     ]
    },
    {
     "name": "stdout",
     "output_type": "stream",
     "text": [
      "accuracy :0.86595\n",
      "Time spent :391.11s\n",
      " Memorization k = 8\n"
     ]
    },
    {
     "name": "stderr",
     "output_type": "stream",
     "text": [
      "100%|███████████████████████████████████████████████████████████████████████████████| 784/784 [00:01<00:00, 454.41it/s]\n",
      "100%|████████████████████████████████████████████████████████████████████████████████| 784/784 [00:55<00:00, 14.12it/s]\n",
      "100%|██████████████████████████████████████████████████████████████████████████████| 1024/1024 [01:13<00:00, 13.98it/s]\n",
      "100%|██████████████████████████████████████████████████████████████████████████████| 1024/1024 [01:10<00:00, 14.62it/s]\n",
      "100%|██████████████████████████████████████████████████████████████████████████████| 1024/1024 [01:11<00:00, 14.32it/s]\n",
      "100%|██████████████████████████████████████████████████████████████████████████████| 1024/1024 [01:08<00:00, 14.94it/s]\n",
      "100%|██████████████████████████████████████████████████████████████████████████████| 1024/1024 [01:23<00:00, 11.26it/s]\n",
      "100%|████████████████████████████████████████████████████████████████████████████████████| 1/1 [00:00<00:00, 10.90it/s]\n"
     ]
    },
    {
     "name": "stdout",
     "output_type": "stream",
     "text": [
      "accuracy :0.9038833333333334\n",
      "Time spent :424.57s\n",
      " Memorization k = 10\n"
     ]
    },
    {
     "name": "stderr",
     "output_type": "stream",
     "text": [
      "100%|███████████████████████████████████████████████████████████████████████████████| 784/784 [00:02<00:00, 297.78it/s]\n",
      "100%|████████████████████████████████████████████████████████████████████████████████| 784/784 [01:13<00:00, 12.45it/s]\n",
      "100%|██████████████████████████████████████████████████████████████████████████████| 1024/1024 [01:28<00:00, 11.62it/s]\n",
      "100%|██████████████████████████████████████████████████████████████████████████████| 1024/1024 [01:22<00:00, 12.88it/s]\n",
      "100%|██████████████████████████████████████████████████████████████████████████████| 1024/1024 [01:21<00:00, 12.55it/s]\n",
      "100%|██████████████████████████████████████████████████████████████████████████████| 1024/1024 [01:23<00:00, 12.26it/s]\n",
      "100%|██████████████████████████████████████████████████████████████████████████████| 1024/1024 [01:22<00:00, 11.76it/s]\n",
      "100%|████████████████████████████████████████████████████████████████████████████████████| 1/1 [00:00<00:00, 11.43it/s]\n"
     ]
    },
    {
     "name": "stdout",
     "output_type": "stream",
     "text": [
      "accuracy :0.95345\n",
      "Time spent :494.97s\n",
      " Memorization k = 12\n"
     ]
    },
    {
     "name": "stderr",
     "output_type": "stream",
     "text": [
      "100%|███████████████████████████████████████████████████████████████████████████████| 784/784 [00:01<00:00, 450.85it/s]\n",
      "100%|████████████████████████████████████████████████████████████████████████████████| 784/784 [01:11<00:00, 11.26it/s]\n",
      "100%|██████████████████████████████████████████████████████████████████████████████| 1024/1024 [01:45<00:00, 10.67it/s]\n",
      "100%|██████████████████████████████████████████████████████████████████████████████| 1024/1024 [01:36<00:00, 10.84it/s]\n",
      "100%|██████████████████████████████████████████████████████████████████████████████| 1024/1024 [01:31<00:00, 11.36it/s]\n",
      "100%|██████████████████████████████████████████████████████████████████████████████| 1024/1024 [01:37<00:00,  7.25it/s]\n",
      "100%|██████████████████████████████████████████████████████████████████████████████| 1024/1024 [02:02<00:00,  8.60it/s]\n",
      "100%|████████████████████████████████████████████████████████████████████████████████████| 1/1 [00:00<00:00,  7.77it/s]\n"
     ]
    },
    {
     "name": "stdout",
     "output_type": "stream",
     "text": [
      "accuracy :0.9919333333333333\n",
      "Time spent :587.89s\n",
      " Memorization k = 14\n"
     ]
    },
    {
     "name": "stderr",
     "output_type": "stream",
     "text": [
      "100%|███████████████████████████████████████████████████████████████████████████████| 784/784 [00:02<00:00, 334.23it/s]\n",
      "100%|████████████████████████████████████████████████████████████████████████████████| 784/784 [01:33<00:00,  8.38it/s]\n",
      "100%|██████████████████████████████████████████████████████████████████████████████| 1024/1024 [02:07<00:00,  6.86it/s]\n",
      "100%|██████████████████████████████████████████████████████████████████████████████| 1024/1024 [02:15<00:00,  7.73it/s]\n",
      "100%|██████████████████████████████████████████████████████████████████████████████| 1024/1024 [02:00<00:00,  8.51it/s]\n",
      "100%|██████████████████████████████████████████████████████████████████████████████| 1024/1024 [02:03<00:00,  7.58it/s]\n",
      "100%|██████████████████████████████████████████████████████████████████████████████| 1024/1024 [02:02<00:00,  6.66it/s]\n",
      "100%|████████████████████████████████████████████████████████████████████████████████████| 1/1 [00:00<00:00,  5.76it/s]\n"
     ]
    },
    {
     "name": "stdout",
     "output_type": "stream",
     "text": [
      "accuracy :0.99935\n",
      "Time spent :725.62s\n",
      " Memorization k = 16\n"
     ]
    },
    {
     "name": "stderr",
     "output_type": "stream",
     "text": [
      "100%|███████████████████████████████████████████████████████████████████████████████| 784/784 [00:02<00:00, 361.11it/s]\n",
      "100%|████████████████████████████████████████████████████████████████████████████████| 784/784 [01:37<00:00,  8.18it/s]\n",
      "100%|██████████████████████████████████████████████████████████████████████████████| 1024/1024 [02:19<00:00,  7.01it/s]\n",
      "100%|██████████████████████████████████████████████████████████████████████████████| 1024/1024 [02:03<00:00,  8.83it/s]\n",
      "100%|██████████████████████████████████████████████████████████████████████████████| 1024/1024 [02:12<00:00,  8.15it/s]\n",
      "100%|██████████████████████████████████████████████████████████████████████████████| 1024/1024 [01:54<00:00,  8.42it/s]\n",
      "100%|██████████████████████████████████████████████████████████████████████████████| 1024/1024 [04:20<00:00,  6.64it/s]\n",
      "100%|████████████████████████████████████████████████████████████████████████████████████| 1/1 [00:00<00:00,  8.00it/s]\n"
     ]
    },
    {
     "name": "stdout",
     "output_type": "stream",
     "text": [
      "accuracy :0.99995\n",
      "Time spent :872.19s\n",
      "Total Time spent : 4129.05s\n"
     ]
    }
   ],
   "source": [
    "n_luts = [784,1024,1024,1024,1024,1024,1] # number of luts per layer\n",
    "k_list = [2,4,6,8,10,12,14,16] # sampling input\n",
    "\n",
    "nn_list = []\n",
    "\n",
    "inputs = np.zeros((len(y_train),8),int)\n",
    "indexes_0 = np.where(y_train == 0) \n",
    "indexes_1 = np.where(y_train == 1)\n",
    "\n",
    "train_accuracy = []\n",
    "\n",
    "start = time.time()\n",
    "\n",
    "for k in k_list:\n",
    "    layers = []\n",
    "    interm = time.time()\n",
    "    # input layer\n",
    "    l = 0\n",
    "    layer = []\n",
    "    inputs = X_train\n",
    "    outputs = np.zeros((len(y_train),n_luts[l]),int)\n",
    "    outputs = inputs\n",
    "    layers.append(layer)\n",
    "\n",
    "    # 5 hidden layers + 1 output layer\n",
    "    outputs = X_train\n",
    "    for l in range(0,len(n_luts)):\n",
    "        layer = []\n",
    "        inputs = outputs\n",
    "        outputs = np.zeros((len(y_train),n_luts[l]),int)\n",
    "        for i in tqdm(range(n_luts[l])):\n",
    "            lut = LUT(inputs, indexes_0, indexes_1, k)\n",
    "            outputs[:,i] = lut.look_array(inputs)\n",
    "            layer.append(lut)\n",
    "        layers.append(layer)\n",
    "    print(\" Memorization k = {}\".format(k))\n",
    "    print(\"accuracy :{}\".format(accuracy_score(y_train, outputs)))\n",
    "    train_accuracy.append(accuracy_score(y_train, outputs))\n",
    "    \n",
    "    end = time.time() - interm\n",
    "    print(\"Time spent :{:.2f}s\".format(end))\n",
    "    nn_list.append(layers)\n",
    "    \n",
    "end = time.time() - start\n",
    "print(\"Total Time spent : {:.2f}s\".format(end))"
   ]
  },
  {
   "cell_type": "code",
   "execution_count": 19,
   "metadata": {},
   "outputs": [
    {
     "data": {
      "text/plain": [
       "0"
      ]
     },
     "execution_count": 19,
     "metadata": {},
     "output_type": "execute_result"
    }
   ],
   "source": [
    "len(nn_list[0][0])"
   ]
  },
  {
   "cell_type": "code",
   "execution_count": 18,
   "metadata": {},
   "outputs": [
    {
     "name": "stderr",
     "output_type": "stream",
     "text": [
      "100%|███████████████████████████████████████████████████████████████████████████████| 784/784 [00:03<00:00, 247.25it/s]\n",
      "100%|███████████████████████████████████████████████████████████████████████████████| 784/784 [00:04<00:00, 185.40it/s]\n",
      "100%|█████████████████████████████████████████████████████████████████████████████| 1024/1024 [00:02<00:00, 468.69it/s]\n",
      "100%|█████████████████████████████████████████████████████████████████████████████| 1024/1024 [00:01<00:00, 684.21it/s]\n",
      "100%|█████████████████████████████████████████████████████████████████████████████| 1024/1024 [00:01<00:00, 674.68it/s]\n",
      "100%|█████████████████████████████████████████████████████████████████████████████| 1024/1024 [00:01<00:00, 726.57it/s]\n",
      "100%|█████████████████████████████████████████████████████████████████████████████| 1024/1024 [00:01<00:00, 636.83it/s]\n",
      "100%|████████████████████████████████████████████████████████████████████████████████████████████| 1/1 [00:00<?, ?it/s]\n"
     ]
    },
    {
     "name": "stdout",
     "output_type": "stream",
     "text": [
      " Memorization k = 2\n",
      "accuracy :0.6965\n",
      "Time spent :15.84s\n"
     ]
    },
    {
     "name": "stderr",
     "output_type": "stream",
     "text": [
      "100%|███████████████████████████████████████████████████████████████████████████████| 784/784 [00:02<00:00, 301.27it/s]\n",
      "100%|███████████████████████████████████████████████████████████████████████████████| 784/784 [00:02<00:00, 390.29it/s]\n",
      "100%|█████████████████████████████████████████████████████████████████████████████| 1024/1024 [00:02<00:00, 380.86it/s]\n",
      "100%|█████████████████████████████████████████████████████████████████████████████| 1024/1024 [00:02<00:00, 448.53it/s]\n",
      "100%|█████████████████████████████████████████████████████████████████████████████| 1024/1024 [00:02<00:00, 400.44it/s]\n",
      "100%|█████████████████████████████████████████████████████████████████████████████| 1024/1024 [00:02<00:00, 403.97it/s]\n",
      "100%|█████████████████████████████████████████████████████████████████████████████| 1024/1024 [00:02<00:00, 403.82it/s]\n",
      "100%|████████████████████████████████████████████████████████████████████████████████████████████| 1/1 [00:00<?, ?it/s]\n"
     ]
    },
    {
     "name": "stdout",
     "output_type": "stream",
     "text": [
      " Memorization k = 4\n",
      "accuracy :0.8262\n",
      "Time spent :17.40s\n"
     ]
    },
    {
     "name": "stderr",
     "output_type": "stream",
     "text": [
      "100%|███████████████████████████████████████████████████████████████████████████████| 784/784 [00:03<00:00, 251.61it/s]\n",
      "100%|███████████████████████████████████████████████████████████████████████████████| 784/784 [00:03<00:00, 253.49it/s]\n",
      "100%|█████████████████████████████████████████████████████████████████████████████| 1024/1024 [00:03<00:00, 313.97it/s]\n",
      "100%|█████████████████████████████████████████████████████████████████████████████| 1024/1024 [00:03<00:00, 302.18it/s]\n",
      "100%|█████████████████████████████████████████████████████████████████████████████| 1024/1024 [00:02<00:00, 360.92it/s]\n",
      "100%|█████████████████████████████████████████████████████████████████████████████| 1024/1024 [00:02<00:00, 348.97it/s]\n",
      "100%|█████████████████████████████████████████████████████████████████████████████| 1024/1024 [00:02<00:00, 341.63it/s]\n",
      "100%|████████████████████████████████████████████████████████████████████████████████████████████| 1/1 [00:00<?, ?it/s]\n"
     ]
    },
    {
     "name": "stdout",
     "output_type": "stream",
     "text": [
      " Memorization k = 6\n",
      "accuracy :0.8657\n",
      "Time spent :21.82s\n"
     ]
    },
    {
     "name": "stderr",
     "output_type": "stream",
     "text": [
      "100%|███████████████████████████████████████████████████████████████████████████████| 784/784 [00:02<00:00, 286.76it/s]\n",
      "100%|███████████████████████████████████████████████████████████████████████████████| 784/784 [00:03<00:00, 261.19it/s]\n",
      "100%|█████████████████████████████████████████████████████████████████████████████| 1024/1024 [00:05<00:00, 201.51it/s]\n",
      "100%|█████████████████████████████████████████████████████████████████████████████| 1024/1024 [00:04<00:00, 238.71it/s]\n",
      "100%|█████████████████████████████████████████████████████████████████████████████| 1024/1024 [00:04<00:00, 247.49it/s]\n",
      "100%|█████████████████████████████████████████████████████████████████████████████| 1024/1024 [00:03<00:00, 283.91it/s]\n",
      "100%|█████████████████████████████████████████████████████████████████████████████| 1024/1024 [00:03<00:00, 287.25it/s]\n",
      "100%|████████████████████████████████████████████████████████████████████████████████████| 1/1 [00:00<00:00, 64.02it/s]\n"
     ]
    },
    {
     "name": "stdout",
     "output_type": "stream",
     "text": [
      " Memorization k = 8\n",
      "accuracy :0.8803\n",
      "Time spent :26.61s\n"
     ]
    },
    {
     "name": "stderr",
     "output_type": "stream",
     "text": [
      "100%|███████████████████████████████████████████████████████████████████████████████| 784/784 [00:02<00:00, 290.39it/s]\n",
      "100%|███████████████████████████████████████████████████████████████████████████████| 784/784 [00:03<00:00, 213.60it/s]\n",
      "100%|█████████████████████████████████████████████████████████████████████████████| 1024/1024 [00:04<00:00, 217.49it/s]\n",
      "100%|█████████████████████████████████████████████████████████████████████████████| 1024/1024 [00:04<00:00, 225.56it/s]\n",
      "100%|█████████████████████████████████████████████████████████████████████████████| 1024/1024 [00:04<00:00, 228.31it/s]\n",
      "100%|█████████████████████████████████████████████████████████████████████████████| 1024/1024 [00:04<00:00, 237.07it/s]\n",
      "100%|█████████████████████████████████████████████████████████████████████████████| 1024/1024 [00:04<00:00, 224.80it/s]\n",
      "100%|████████████████████████████████████████████████████████████████████████████████████████████| 1/1 [00:00<?, ?it/s]\n"
     ]
    },
    {
     "name": "stdout",
     "output_type": "stream",
     "text": [
      " Memorization k = 10\n",
      "accuracy :0.8975\n",
      "Time spent :29.15s\n"
     ]
    },
    {
     "name": "stderr",
     "output_type": "stream",
     "text": [
      "100%|███████████████████████████████████████████████████████████████████████████████| 784/784 [00:02<00:00, 313.28it/s]\n",
      "100%|███████████████████████████████████████████████████████████████████████████████| 784/784 [00:04<00:00, 186.83it/s]\n",
      "100%|█████████████████████████████████████████████████████████████████████████████| 1024/1024 [00:06<00:00, 163.49it/s]\n",
      "100%|█████████████████████████████████████████████████████████████████████████████| 1024/1024 [00:06<00:00, 155.72it/s]\n",
      "100%|█████████████████████████████████████████████████████████████████████████████| 1024/1024 [00:05<00:00, 176.28it/s]\n",
      "100%|█████████████████████████████████████████████████████████████████████████████| 1024/1024 [00:05<00:00, 187.56it/s]\n",
      "100%|█████████████████████████████████████████████████████████████████████████████| 1024/1024 [00:05<00:00, 174.43it/s]\n",
      "100%|████████████████████████████████████████████████████████████████████████████████████| 1/1 [00:00<00:00, 64.03it/s]\n"
     ]
    },
    {
     "name": "stdout",
     "output_type": "stream",
     "text": [
      " Memorization k = 12\n",
      "accuracy :0.9021\n",
      "Time spent :36.89s\n"
     ]
    },
    {
     "name": "stderr",
     "output_type": "stream",
     "text": [
      "100%|███████████████████████████████████████████████████████████████████████████████| 784/784 [00:02<00:00, 268.01it/s]\n",
      "100%|████████████████████████████████████████████████████████████████████████████████| 784/784 [00:08<00:00, 90.23it/s]\n",
      "100%|██████████████████████████████████████████████████████████████████████████████| 1024/1024 [00:11<00:00, 89.35it/s]\n",
      "100%|█████████████████████████████████████████████████████████████████████████████| 1024/1024 [00:09<00:00, 113.13it/s]\n",
      "100%|█████████████████████████████████████████████████████████████████████████████| 1024/1024 [00:09<00:00, 109.70it/s]\n",
      "100%|█████████████████████████████████████████████████████████████████████████████| 1024/1024 [00:06<00:00, 153.48it/s]\n",
      "100%|█████████████████████████████████████████████████████████████████████████████| 1024/1024 [00:06<00:00, 163.74it/s]\n",
      "100%|████████████████████████████████████████████████████████████████████████████████████| 1/1 [00:00<00:00, 64.02it/s]\n"
     ]
    },
    {
     "name": "stdout",
     "output_type": "stream",
     "text": [
      " Memorization k = 14\n",
      "accuracy :0.8147\n",
      "Time spent :54.57s\n"
     ]
    },
    {
     "name": "stderr",
     "output_type": "stream",
     "text": [
      "100%|███████████████████████████████████████████████████████████████████████████████| 784/784 [00:02<00:00, 338.94it/s]\n",
      "100%|████████████████████████████████████████████████████████████████████████████████| 784/784 [00:09<00:00, 82.34it/s]\n",
      "100%|█████████████████████████████████████████████████████████████████████████████| 1024/1024 [00:08<00:00, 116.56it/s]\n",
      "100%|█████████████████████████████████████████████████████████████████████████████| 1024/1024 [00:07<00:00, 137.02it/s]\n",
      "100%|█████████████████████████████████████████████████████████████████████████████| 1024/1024 [00:07<00:00, 138.95it/s]\n",
      "100%|█████████████████████████████████████████████████████████████████████████████| 1024/1024 [00:05<00:00, 186.00it/s]\n",
      "100%|█████████████████████████████████████████████████████████████████████████████| 1024/1024 [00:05<00:00, 192.96it/s]\n",
      "100%|████████████████████████████████████████████████████████████████████████████████████| 1/1 [00:00<00:00, 64.03it/s]\n"
     ]
    },
    {
     "name": "stdout",
     "output_type": "stream",
     "text": [
      " Memorization k = 16\n",
      "accuracy :0.6662\n",
      "Time spent :46.42s\n",
      "Time spent : 248.85s\n"
     ]
    }
   ],
   "source": [
    "# Compute test accuracy\n",
    "\n",
    "# input layer\n",
    "start = time.time()\n",
    "\n",
    "test_accuracy = []\n",
    "\n",
    "for n in range(len(nn_list)):\n",
    "    \n",
    "    layers = nn_list[n]\n",
    "    k = k_list[n]\n",
    "    interm = time.time()\n",
    "    \n",
    "    inputs = X_test\n",
    "    outputs = np.zeros((len(X_test),n_luts[0]),int)\n",
    "    for i in tqdm(range(n_luts[0])):\n",
    "        outputs[:,i] = inputs[:,i]\n",
    "\n",
    "    for layer in layers[1:]:\n",
    "        inputs = outputs\n",
    "        outputs = np.zeros((len(X_test),len(layer)),int)\n",
    "        for i in tqdm(range(len(layer))):\n",
    "            outputs[:,i] = layer[i].look_array(inputs)\n",
    "            \n",
    "    print(\" Memorization k = {}\".format(k))\n",
    "    print(\"accuracy :{}\".format(accuracy_score(y_test, outputs)))\n",
    "    test_accuracy.append(accuracy_score(y_test, outputs))\n",
    "    \n",
    "    end = time.time() - interm\n",
    "    print(\"Time spent :{:.2f}s\".format(end))   \n",
    "\n",
    "end = time.time() - start\n",
    "print(\"Time spent : {:.2f}s\".format(end))"
   ]
  },
  {
   "cell_type": "markdown",
   "metadata": {},
   "source": [
    "## Experiment 3\n",
    "\n",
    "Experiment 2 with randomly permuted labels"
   ]
  },
  {
   "cell_type": "code",
   "execution_count": 6,
   "metadata": {},
   "outputs": [],
   "source": [
    "y_test_random = np.random.permutation(y_test)\n",
    "y_train_random = np.random.permutation(y_train)"
   ]
  },
  {
   "cell_type": "code",
   "execution_count": 7,
   "metadata": {},
   "outputs": [
    {
     "name": "stderr",
     "output_type": "stream",
     "text": [
      "100%|███████████████████████████████████████████████████████████████████████████████| 784/784 [00:01<00:00, 400.05it/s]\n",
      "100%|██████████████████████████████████████████████████████████████████████████████| 1024/1024 [00:48<00:00, 21.04it/s]\n",
      "100%|██████████████████████████████████████████████████████████████████████████████| 1024/1024 [00:42<00:00, 22.43it/s]\n",
      "100%|██████████████████████████████████████████████████████████████████████████████| 1024/1024 [00:49<00:00, 20.65it/s]\n",
      "100%|██████████████████████████████████████████████████████████████████████████████| 1024/1024 [00:44<00:00, 22.92it/s]\n",
      "100%|██████████████████████████████████████████████████████████████████████████████| 1024/1024 [00:43<00:00, 26.48it/s]\n",
      "100%|████████████████████████████████████████████████████████████████████████████████████| 1/1 [00:00<00:00, 18.98it/s]\n"
     ]
    },
    {
     "name": "stdout",
     "output_type": "stream",
     "text": [
      "Memorization k = 2\n",
      "accuracy :0.5111333333333333\n",
      "Time spent :231.93s\n"
     ]
    },
    {
     "name": "stderr",
     "output_type": "stream",
     "text": [
      "100%|███████████████████████████████████████████████████████████████████████████████| 784/784 [00:01<00:00, 471.84it/s]\n",
      "100%|██████████████████████████████████████████████████████████████████████████████| 1024/1024 [00:51<00:00, 19.81it/s]\n",
      "100%|██████████████████████████████████████████████████████████████████████████████| 1024/1024 [00:48<00:00, 23.26it/s]\n",
      "100%|██████████████████████████████████████████████████████████████████████████████| 1024/1024 [00:45<00:00, 22.57it/s]\n",
      "100%|██████████████████████████████████████████████████████████████████████████████| 1024/1024 [00:45<00:00, 22.35it/s]\n",
      "100%|██████████████████████████████████████████████████████████████████████████████| 1024/1024 [00:46<00:00, 22.19it/s]\n",
      "100%|████████████████████████████████████████████████████████████████████████████████████| 1/1 [00:00<00:00, 17.17it/s]\n"
     ]
    },
    {
     "name": "stdout",
     "output_type": "stream",
     "text": [
      "Memorization k = 4\n",
      "accuracy :0.5265666666666666\n",
      "Time spent :239.17s\n"
     ]
    },
    {
     "name": "stderr",
     "output_type": "stream",
     "text": [
      "100%|███████████████████████████████████████████████████████████████████████████████| 784/784 [00:01<00:00, 455.09it/s]\n",
      "100%|██████████████████████████████████████████████████████████████████████████████| 1024/1024 [00:59<00:00, 17.26it/s]\n",
      "100%|██████████████████████████████████████████████████████████████████████████████| 1024/1024 [00:58<00:00, 15.76it/s]\n",
      "100%|██████████████████████████████████████████████████████████████████████████████| 1024/1024 [01:14<00:00, 13.23it/s]\n",
      "100%|██████████████████████████████████████████████████████████████████████████████| 1024/1024 [01:16<00:00, 13.40it/s]\n",
      "100%|██████████████████████████████████████████████████████████████████████████████| 1024/1024 [01:07<00:00, 15.08it/s]\n",
      "100%|████████████████████████████████████████████████████████████████████████████████████| 1/1 [00:00<00:00, 13.37it/s]\n"
     ]
    },
    {
     "name": "stdout",
     "output_type": "stream",
     "text": [
      "Memorization k = 6\n",
      "accuracy :0.5500666666666667\n",
      "Time spent :338.38s\n"
     ]
    },
    {
     "name": "stderr",
     "output_type": "stream",
     "text": [
      "100%|███████████████████████████████████████████████████████████████████████████████| 784/784 [00:01<00:00, 424.69it/s]\n",
      "100%|██████████████████████████████████████████████████████████████████████████████| 1024/1024 [01:16<00:00, 13.42it/s]\n",
      "100%|██████████████████████████████████████████████████████████████████████████████| 1024/1024 [01:15<00:00, 13.61it/s]\n",
      "100%|██████████████████████████████████████████████████████████████████████████████| 1024/1024 [01:17<00:00, 13.28it/s]\n",
      "100%|██████████████████████████████████████████████████████████████████████████████| 1024/1024 [01:16<00:00, 13.37it/s]\n",
      "100%|██████████████████████████████████████████████████████████████████████████████| 1024/1024 [01:16<00:00, 13.40it/s]\n",
      "100%|████████████████████████████████████████████████████████████████████████████████████| 1/1 [00:00<00:00, 12.53it/s]\n"
     ]
    },
    {
     "name": "stdout",
     "output_type": "stream",
     "text": [
      "Memorization k = 8\n",
      "accuracy :0.5964333333333334\n",
      "Time spent :383.99s\n"
     ]
    },
    {
     "name": "stderr",
     "output_type": "stream",
     "text": [
      "100%|███████████████████████████████████████████████████████████████████████████████| 784/784 [00:01<00:00, 417.36it/s]\n",
      "100%|██████████████████████████████████████████████████████████████████████████████| 1024/1024 [01:31<00:00, 12.14it/s]\n",
      "100%|██████████████████████████████████████████████████████████████████████████████| 1024/1024 [01:25<00:00, 11.94it/s]\n",
      "100%|██████████████████████████████████████████████████████████████████████████████| 1024/1024 [01:26<00:00, 11.78it/s]\n",
      "100%|██████████████████████████████████████████████████████████████████████████████| 1024/1024 [01:28<00:00, 11.54it/s]\n",
      "100%|██████████████████████████████████████████████████████████████████████████████| 1024/1024 [01:26<00:00, 11.81it/s]\n",
      "100%|████████████████████████████████████████████████████████████████████████████████████| 1/1 [00:00<00:00, 10.34it/s]\n"
     ]
    },
    {
     "name": "stdout",
     "output_type": "stream",
     "text": [
      "Memorization k = 10\n",
      "accuracy :0.68775\n",
      "Time spent :441.77s\n"
     ]
    },
    {
     "name": "stderr",
     "output_type": "stream",
     "text": [
      "100%|███████████████████████████████████████████████████████████████████████████████| 784/784 [00:01<00:00, 421.95it/s]\n",
      "100%|██████████████████████████████████████████████████████████████████████████████| 1024/1024 [01:41<00:00,  9.03it/s]\n",
      "100%|██████████████████████████████████████████████████████████████████████████████| 1024/1024 [01:51<00:00, 11.55it/s]\n",
      "100%|██████████████████████████████████████████████████████████████████████████████| 1024/1024 [01:33<00:00, 10.99it/s]\n",
      "100%|██████████████████████████████████████████████████████████████████████████████| 1024/1024 [01:32<00:00, 11.30it/s]\n",
      "100%|██████████████████████████████████████████████████████████████████████████████| 1024/1024 [01:31<00:00, 11.24it/s]\n",
      "100%|████████████████████████████████████████████████████████████████████████████████████| 1/1 [00:00<00:00,  9.96it/s]\n"
     ]
    },
    {
     "name": "stdout",
     "output_type": "stream",
     "text": [
      "Memorization k = 12\n",
      "accuracy :0.8302333333333334\n",
      "Time spent :492.20s\n"
     ]
    },
    {
     "name": "stderr",
     "output_type": "stream",
     "text": [
      "100%|███████████████████████████████████████████████████████████████████████████████| 784/784 [00:01<00:00, 470.11it/s]\n",
      "100%|██████████████████████████████████████████████████████████████████████████████| 1024/1024 [01:40<00:00, 10.13it/s]\n",
      "100%|██████████████████████████████████████████████████████████████████████████████| 1024/1024 [01:47<00:00,  7.53it/s]\n",
      "100%|██████████████████████████████████████████████████████████████████████████████| 1024/1024 [02:26<00:00,  7.17it/s]\n",
      "100%|██████████████████████████████████████████████████████████████████████████████| 1024/1024 [02:16<00:00,  7.78it/s]\n",
      "100%|██████████████████████████████████████████████████████████████████████████████| 1024/1024 [02:04<00:00,  8.31it/s]\n",
      "100%|████████████████████████████████████████████████████████████████████████████████████| 1/1 [00:00<00:00,  8.64it/s]\n"
     ]
    },
    {
     "name": "stdout",
     "output_type": "stream",
     "text": [
      "Memorization k = 14\n",
      "accuracy :0.9327666666666666\n",
      "Time spent :618.71s\n"
     ]
    },
    {
     "name": "stderr",
     "output_type": "stream",
     "text": [
      "100%|███████████████████████████████████████████████████████████████████████████████| 784/784 [00:01<00:00, 403.54it/s]\n",
      "100%|██████████████████████████████████████████████████████████████████████████████| 1024/1024 [02:24<00:00,  7.16it/s]\n",
      "100%|██████████████████████████████████████████████████████████████████████████████| 1024/1024 [02:42<00:00,  5.77it/s]\n",
      "100%|██████████████████████████████████████████████████████████████████████████████| 1024/1024 [02:28<00:00,  7.20it/s]\n",
      "100%|██████████████████████████████████████████████████████████████████████████████| 1024/1024 [02:20<00:00,  8.51it/s]\n",
      "100%|██████████████████████████████████████████████████████████████████████████████| 1024/1024 [02:13<00:00,  8.54it/s]\n",
      "100%|████████████████████████████████████████████████████████████████████████████████████| 1/1 [00:00<00:00,  8.09it/s]\n"
     ]
    },
    {
     "name": "stdout",
     "output_type": "stream",
     "text": [
      "Memorization k = 16\n",
      "accuracy :0.9731166666666666\n",
      "Time spent :732.56s\n",
      "Total Time spent : 3479.14s\n"
     ]
    }
   ],
   "source": [
    "n_luts = [784, 1024,1024,1024,1024,1024,1] # number of luts per layer\n",
    "k_list = [2,4,6,8,10,12,14,16] # sampling input\n",
    "\n",
    "nn_list = []\n",
    "\n",
    "inputs = np.zeros((len(y_train),8),int)\n",
    "indexes_0 = np.where(y_train_random == 0) \n",
    "indexes_1 = np.where(y_train_random == 1)\n",
    "\n",
    "train_accuracy = []\n",
    "\n",
    "start = time.time()\n",
    "\n",
    "for k in k_list:\n",
    "    layers = []\n",
    "    interm = time.time()\n",
    "    # input layer\n",
    "    l = 0\n",
    "    layer = []\n",
    "    inputs = X_train\n",
    "    outputs = np.zeros((len(X_train),n_luts[l]),int)\n",
    "    for i in tqdm(range(n_luts[0])):\n",
    "        # build lut\n",
    "        outputs[:,i] = inputs[:,i]\n",
    "    layers.append(layer)\n",
    "\n",
    "    # 5 hidden layers + 1 output layer\n",
    "    for l in range(1,7):\n",
    "        layer = []\n",
    "        inputs = outputs\n",
    "        outputs = np.zeros((len(X_train),n_luts[l]),int)\n",
    "        for i in tqdm(range(n_luts[l])):\n",
    "            lut = LUT(inputs, indexes_0, indexes_1, k)\n",
    "            outputs[:,i] = lut.look_array(inputs)\n",
    "            layer.append(lut)\n",
    "        layers.append(layer)\n",
    "        \n",
    "    print(\"Memorization k = {}\".format(k))\n",
    "    print(\"accuracy :{}\".format(accuracy_score(y_train_random, outputs)))\n",
    "    train_accuracy.append(accuracy_score(y_train_random, outputs))\n",
    "    \n",
    "    end = time.time() - interm\n",
    "    print(\"Time spent :{:.2f}s\".format(end))\n",
    "    nn_list.append(layers)\n",
    "    \n",
    "end = time.time() - start\n",
    "print(\"Total Time spent : {:.2f}s\".format(end))"
   ]
  },
  {
   "cell_type": "code",
   "execution_count": 9,
   "metadata": {},
   "outputs": [
    {
     "name": "stderr",
     "output_type": "stream",
     "text": [
      "100%|██████████████████████████████████████████████████████████████████████████████| 784/784 [00:00<00:00, 3253.67it/s]\n",
      "100%|█████████████████████████████████████████████████████████████████████████████| 1024/1024 [00:01<00:00, 855.61it/s]\n",
      "100%|█████████████████████████████████████████████████████████████████████████████| 1024/1024 [00:01<00:00, 927.36it/s]\n",
      "100%|█████████████████████████████████████████████████████████████████████████████| 1024/1024 [00:01<00:00, 958.78it/s]\n",
      "100%|█████████████████████████████████████████████████████████████████████████████| 1024/1024 [00:01<00:00, 975.56it/s]\n",
      "100%|████████████████████████████████████████████████████████████████████████████| 1024/1024 [00:01<00:00, 1010.92it/s]\n",
      "100%|███████████████████████████████████████████████████████████████████████████████████| 1/1 [00:00<00:00, 334.10it/s]\n"
     ]
    },
    {
     "name": "stdout",
     "output_type": "stream",
     "text": [
      "Memorization k = 2\n",
      "accuracy :0.5153\n",
      "Time spent :5.92s\n"
     ]
    },
    {
     "name": "stderr",
     "output_type": "stream",
     "text": [
      "100%|██████████████████████████████████████████████████████████████████████████████| 784/784 [00:00<00:00, 3302.99it/s]\n",
      "100%|█████████████████████████████████████████████████████████████████████████████| 1024/1024 [00:01<00:00, 533.41it/s]\n",
      "100%|█████████████████████████████████████████████████████████████████████████████| 1024/1024 [00:01<00:00, 611.88it/s]\n",
      "100%|█████████████████████████████████████████████████████████████████████████████| 1024/1024 [00:01<00:00, 629.62it/s]\n",
      "100%|█████████████████████████████████████████████████████████████████████████████| 1024/1024 [00:01<00:00, 624.42it/s]\n",
      "100%|█████████████████████████████████████████████████████████████████████████████| 1024/1024 [00:01<00:00, 632.45it/s]\n",
      "100%|███████████████████████████████████████████████████████████████████████████████████| 1/1 [00:00<00:00, 334.29it/s]\n"
     ]
    },
    {
     "name": "stdout",
     "output_type": "stream",
     "text": [
      "Memorization k = 4\n",
      "accuracy :0.5092\n",
      "Time spent :8.85s\n"
     ]
    },
    {
     "name": "stderr",
     "output_type": "stream",
     "text": [
      "100%|██████████████████████████████████████████████████████████████████████████████| 784/784 [00:00<00:00, 3352.56it/s]\n",
      "100%|█████████████████████████████████████████████████████████████████████████████| 1024/1024 [00:02<00:00, 447.75it/s]\n",
      "100%|█████████████████████████████████████████████████████████████████████████████| 1024/1024 [00:02<00:00, 477.02it/s]\n",
      "100%|█████████████████████████████████████████████████████████████████████████████| 1024/1024 [00:02<00:00, 500.89it/s]\n",
      "100%|█████████████████████████████████████████████████████████████████████████████| 1024/1024 [00:02<00:00, 490.16it/s]\n",
      "100%|█████████████████████████████████████████████████████████████████████████████| 1024/1024 [00:02<00:00, 437.54it/s]\n",
      "100%|███████████████████████████████████████████████████████████████████████████████████| 1/1 [00:00<00:00, 501.11it/s]\n"
     ]
    },
    {
     "name": "stdout",
     "output_type": "stream",
     "text": [
      "Memorization k = 6\n",
      "accuracy :0.5086\n",
      "Time spent :11.53s\n"
     ]
    },
    {
     "name": "stderr",
     "output_type": "stream",
     "text": [
      "100%|██████████████████████████████████████████████████████████████████████████████| 784/784 [00:00<00:00, 3366.08it/s]\n",
      "100%|█████████████████████████████████████████████████████████████████████████████| 1024/1024 [00:03<00:00, 332.24it/s]\n",
      "100%|█████████████████████████████████████████████████████████████████████████████| 1024/1024 [00:03<00:00, 322.27it/s]\n",
      "100%|█████████████████████████████████████████████████████████████████████████████| 1024/1024 [00:02<00:00, 359.32it/s]\n",
      "100%|█████████████████████████████████████████████████████████████████████████████| 1024/1024 [00:02<00:00, 382.03it/s]\n",
      "100%|█████████████████████████████████████████████████████████████████████████████| 1024/1024 [00:02<00:00, 376.60it/s]\n",
      "100%|███████████████████████████████████████████████████████████████████████████████████| 1/1 [00:00<00:00, 334.18it/s]\n"
     ]
    },
    {
     "name": "stdout",
     "output_type": "stream",
     "text": [
      "Memorization k = 8\n",
      "accuracy :0.5052\n",
      "Time spent :14.90s\n"
     ]
    },
    {
     "name": "stderr",
     "output_type": "stream",
     "text": [
      "100%|██████████████████████████████████████████████████████████████████████████████| 784/784 [00:00<00:00, 3085.08it/s]\n",
      "100%|█████████████████████████████████████████████████████████████████████████████| 1024/1024 [00:03<00:00, 310.12it/s]\n",
      "100%|█████████████████████████████████████████████████████████████████████████████| 1024/1024 [00:03<00:00, 299.33it/s]\n",
      "100%|█████████████████████████████████████████████████████████████████████████████| 1024/1024 [00:04<00:00, 217.22it/s]\n",
      "100%|█████████████████████████████████████████████████████████████████████████████| 1024/1024 [00:03<00:00, 275.97it/s]\n",
      "100%|█████████████████████████████████████████████████████████████████████████████| 1024/1024 [00:03<00:00, 267.66it/s]\n",
      "100%|███████████████████████████████████████████████████████████████████████████████████| 1/1 [00:00<00:00, 250.62it/s]\n"
     ]
    },
    {
     "name": "stdout",
     "output_type": "stream",
     "text": [
      "Memorization k = 10\n",
      "accuracy :0.5069\n",
      "Time spent :19.41s\n"
     ]
    },
    {
     "name": "stderr",
     "output_type": "stream",
     "text": [
      "100%|██████████████████████████████████████████████████████████████████████████████| 784/784 [00:00<00:00, 3729.26it/s]\n",
      "100%|█████████████████████████████████████████████████████████████████████████████| 1024/1024 [00:04<00:00, 233.76it/s]\n",
      "100%|█████████████████████████████████████████████████████████████████████████████| 1024/1024 [00:04<00:00, 212.45it/s]\n",
      "100%|█████████████████████████████████████████████████████████████████████████████| 1024/1024 [00:04<00:00, 243.11it/s]\n",
      "100%|█████████████████████████████████████████████████████████████████████████████| 1024/1024 [00:04<00:00, 229.92it/s]\n",
      "100%|█████████████████████████████████████████████████████████████████████████████| 1024/1024 [00:04<00:00, 234.44it/s]\n",
      "100%|███████████████████████████████████████████████████████████████████████████████████| 1/1 [00:00<00:00, 167.12it/s]\n"
     ]
    },
    {
     "name": "stdout",
     "output_type": "stream",
     "text": [
      "Memorization k = 12\n",
      "accuracy :0.5089\n",
      "Time spent :22.62s\n"
     ]
    },
    {
     "name": "stderr",
     "output_type": "stream",
     "text": [
      "100%|██████████████████████████████████████████████████████████████████████████████| 784/784 [00:00<00:00, 3144.40it/s]\n",
      "100%|█████████████████████████████████████████████████████████████████████████████| 1024/1024 [00:06<00:00, 169.49it/s]\n",
      "100%|█████████████████████████████████████████████████████████████████████████████| 1024/1024 [00:07<00:00, 142.62it/s]\n",
      "100%|█████████████████████████████████████████████████████████████████████████████| 1024/1024 [00:09<00:00, 111.78it/s]\n",
      "100%|█████████████████████████████████████████████████████████████████████████████| 1024/1024 [00:06<00:00, 133.42it/s]\n",
      "100%|█████████████████████████████████████████████████████████████████████████████| 1024/1024 [00:07<00:00, 143.83it/s]\n",
      "100%|███████████████████████████████████████████████████████████████████████████████████| 1/1 [00:00<00:00, 143.38it/s]\n"
     ]
    },
    {
     "name": "stdout",
     "output_type": "stream",
     "text": [
      "Memorization k = 14\n",
      "accuracy :0.4948\n",
      "Time spent :36.42s\n"
     ]
    },
    {
     "name": "stderr",
     "output_type": "stream",
     "text": [
      "100%|██████████████████████████████████████████████████████████████████████████████| 784/784 [00:00<00:00, 2629.10it/s]\n",
      "100%|█████████████████████████████████████████████████████████████████████████████| 1024/1024 [00:07<00:00, 128.42it/s]\n",
      "100%|█████████████████████████████████████████████████████████████████████████████| 1024/1024 [00:07<00:00, 139.93it/s]\n",
      "100%|█████████████████████████████████████████████████████████████████████████████| 1024/1024 [00:06<00:00, 150.15it/s]\n",
      "100%|█████████████████████████████████████████████████████████████████████████████| 1024/1024 [00:06<00:00, 168.96it/s]\n",
      "100%|█████████████████████████████████████████████████████████████████████████████| 1024/1024 [00:06<00:00, 166.11it/s]\n",
      "100%|███████████████████████████████████████████████████████████████████████████████████| 1/1 [00:00<00:00, 125.34it/s]\n"
     ]
    },
    {
     "name": "stdout",
     "output_type": "stream",
     "text": [
      "Memorization k = 16\n",
      "accuracy :0.4996\n",
      "Time spent :34.79s\n",
      "Time spent : 154.48s\n"
     ]
    }
   ],
   "source": [
    "# Compute test accuracy\n",
    "\n",
    "# input layer\n",
    "start = time.time()\n",
    "\n",
    "test_accuracy = []\n",
    "\n",
    "for n in range(len(nn_list)):\n",
    "    \n",
    "    layers = nn_list[n]\n",
    "    k = k_list[n]\n",
    "    interm = time.time()\n",
    "    \n",
    "    inputs = X_test\n",
    "    outputs = np.zeros((len(X_test),n_luts[0]),int)\n",
    "    for i in tqdm(range(n_luts[0])):\n",
    "        outputs[:,i] = inputs[:,i]\n",
    "\n",
    "    for layer in layers[1:]:\n",
    "        inputs = outputs\n",
    "        outputs = np.zeros((len(X_test),len(layer)),int)\n",
    "        for i in tqdm(range(len(layer))):\n",
    "            outputs[:,i] = layer[i].look_array(inputs)\n",
    "            \n",
    "    print(\"Memorization k = {}\".format(k))\n",
    "    print(\"accuracy :{}\".format(accuracy_score(y_test_random, outputs)))\n",
    "    test_accuracy.append(accuracy_score(y_test_random, outputs))\n",
    "    \n",
    "    end = time.time() - interm\n",
    "    print(\"Time spent :{:.2f}s\".format(end))   \n",
    "\n",
    "end = time.time() - start\n",
    "print(\"Time spent : {:.2f}s\".format(end))"
   ]
  },
  {
   "cell_type": "code",
   "execution_count": 10,
   "metadata": {},
   "outputs": [
    {
     "name": "stdout",
     "output_type": "stream",
     "text": [
      "[0.5111333333333333, 0.5265666666666666, 0.5500666666666667, 0.5964333333333334, 0.68775, 0.8302333333333334, 0.9327666666666666, 0.9731166666666666]\n",
      "[0.5153, 0.5092, 0.5086, 0.5052, 0.5069, 0.5089, 0.4948, 0.4996]\n"
     ]
    }
   ],
   "source": [
    "print(train_accuracy)\n",
    "print(test_accuracy)"
   ]
  },
  {
   "cell_type": "markdown",
   "metadata": {},
   "source": [
    "## Experiment 4"
   ]
  },
  {
   "cell_type": "markdown",
   "metadata": {},
   "source": [
    "### Random guess"
   ]
  },
  {
   "cell_type": "code",
   "execution_count": 36,
   "metadata": {},
   "outputs": [
    {
     "name": "stdout",
     "output_type": "stream",
     "text": [
      "Training accuracy : 0.50145\n",
      "Test accuracy : 0.4979\n"
     ]
    }
   ],
   "source": [
    "y_predict = np.random.choice([0,1], len(y_train))\n",
    "print(\"Training accuracy : {}\".format(accuracy_score(y_train, y_predict)))\n",
    "\n",
    "y_predict = np.random.choice([0,1], len(y_test))\n",
    "print(\"Test accuracy : {}\".format(accuracy_score(y_test, y_predict)))"
   ]
  },
  {
   "cell_type": "markdown",
   "metadata": {},
   "source": [
    "### Naive Bayes"
   ]
  },
  {
   "cell_type": "code",
   "execution_count": 38,
   "metadata": {},
   "outputs": [
    {
     "name": "stdout",
     "output_type": "stream",
     "text": [
      "Training accuracy : 0.76545\n",
      "Test accuracy : 0.7683\n"
     ]
    }
   ],
   "source": [
    "from sklearn.naive_bayes import BernoulliNB\n",
    "\n",
    "start = time.time()\n",
    "\n",
    "clf = BernoulliNB()\n",
    "clf.fit(X_train, y_train)\n",
    "print(\"Training accuracy : {}\".format(clf.score(X_train, y_train)))\n",
    "print(\"Test accuracy : {}\".format(clf.score(X_test, y_test)))\n",
    "\n",
    "end = time.time() - start\n",
    "print(\"Time spent : {:.2f}s\".format(end))"
   ]
  },
  {
   "cell_type": "markdown",
   "metadata": {},
   "source": [
    "### Logistic regression"
   ]
  },
  {
   "cell_type": "code",
   "execution_count": 40,
   "metadata": {},
   "outputs": [
    {
     "name": "stderr",
     "output_type": "stream",
     "text": [
      "C:\\Users\\flore\\AppData\\Roaming\\Python\\Python36\\site-packages\\sklearn\\linear_model\\logistic.py:433: FutureWarning: Default solver will be changed to 'lbfgs' in 0.22. Specify a solver to silence this warning.\n",
      "  FutureWarning)\n"
     ]
    },
    {
     "name": "stdout",
     "output_type": "stream",
     "text": [
      "Training accuracy : 0.87005\n",
      "Test accuracy : 0.8665\n"
     ]
    }
   ],
   "source": [
    "from sklearn.linear_model import LogisticRegression\n",
    "\n",
    "start = time.time()\n",
    "\n",
    "clf = LogisticRegression()\n",
    "clf.fit(X_train, y_train)\n",
    "print(\"Training accuracy : {}\".format(clf.score(X_train, y_train)))\n",
    "print(\"Test accuracy : {}\".format(clf.score(X_test, y_test)))\n",
    "\n",
    "end = time.time() - start\n",
    "print(\"Time spent : {:.2f}s\".format(end))"
   ]
  },
  {
   "cell_type": "markdown",
   "metadata": {},
   "source": [
    "### Random Forest"
   ]
  },
  {
   "cell_type": "code",
   "execution_count": 42,
   "metadata": {},
   "outputs": [
    {
     "name": "stdout",
     "output_type": "stream",
     "text": [
      "Training accuracy : 0.9988666666666667\n",
      "Test accuracy : 0.9656\n",
      "Time spent : 7.87s\n"
     ]
    }
   ],
   "source": [
    "from sklearn.ensemble import RandomForestClassifier\n",
    "\n",
    "start = time.time()\n",
    "\n",
    "clf = RandomForestClassifier(n_estimators=10)\n",
    "clf.fit(X_train, y_train)\n",
    "print(\"Training accuracy : {}\".format(clf.score(X_train, y_train)))\n",
    "print(\"Test accuracy : {}\".format(clf.score(X_test, y_test)))\n",
    "\n",
    "end = time.time() - start\n",
    "print(\"Time spent : {:.2f}s\".format(end))"
   ]
  },
  {
   "cell_type": "markdown",
   "metadata": {},
   "source": [
    "### 1-Nearest neighbor"
   ]
  },
  {
   "cell_type": "code",
   "execution_count": 3,
   "metadata": {},
   "outputs": [
    {
     "name": "stdout",
     "output_type": "stream",
     "text": [
      "Training accuracy : 0.9699666666666666\n",
      "Test accuracy : 0.9614\n",
      "Time spent : 2213.41s\n"
     ]
    }
   ],
   "source": [
    "from sklearn.neighbors import KNeighborsClassifier\n",
    "\n",
    "start = time.time()\n",
    "\n",
    "clf = KNeighborsClassifier(n_neighbors=1)\n",
    "clf.fit(X_train[:10000], y_train[:10000])\n",
    "print(\"Training accuracy : {}\".format(clf.score(X_train, y_train)))\n",
    "print(\"Test accuracy : {}\".format(clf.score(X_test, y_test)))\n",
    "\n",
    "end = time.time() - start\n",
    "print(\"Time spent : {:.2f}s\".format(end))"
   ]
  },
  {
   "cell_type": "markdown",
   "metadata": {},
   "source": [
    "### 5-Nearest neighbor"
   ]
  },
  {
   "cell_type": "code",
   "execution_count": 5,
   "metadata": {},
   "outputs": [
    {
     "name": "stdout",
     "output_type": "stream",
     "text": [
      "Training accuracy : 0.9673333333333334\n",
      "Test accuracy : 0.9617\n",
      "Time spent : 2383.75s\n"
     ]
    }
   ],
   "source": [
    "from sklearn.neighbors import KNeighborsClassifier\n",
    "\n",
    "start = time.time()\n",
    "\n",
    "clf = KNeighborsClassifier(n_neighbors=5)\n",
    "clf.fit(X_train[:10000], y_train[:10000])\n",
    "print(\"Training accuracy : {}\".format(clf.score(X_train, y_train)))\n",
    "print(\"Test accuracy : {}\".format(clf.score(X_test, y_test)))\n",
    "\n",
    "end = time.time() - start\n",
    "print(\"Time spent : {:.2f}s\".format(end))"
   ]
  },
  {
   "cell_type": "markdown",
   "metadata": {},
   "source": [
    "## Experiment 5"
   ]
  },
  {
   "cell_type": "code",
   "execution_count": 4,
   "metadata": {},
   "outputs": [],
   "source": [
    "with open('./data/mnist/mnist_X_train.p', 'rb') as f:\n",
    "    X_train = pickle.load(f)\n",
    "with open('./data/mnist/mnist_y_train.p', 'rb') as f:\n",
    "    y_train = pickle.load(f)\n",
    "with open('./data/mnist/mnist_X_test.p', 'rb') as f:\n",
    "    X_test = pickle.load(f)\n",
    "with open('./data/mnist/mnist_y_test.p', 'rb') as f:\n",
    "    y_test = pickle.load(f)"
   ]
  },
  {
   "cell_type": "code",
   "execution_count": 13,
   "metadata": {},
   "outputs": [
    {
     "data": {
      "text/plain": [
       "array([7, 2, 1, ..., 4, 5, 6], dtype=uint8)"
      ]
     },
     "execution_count": 13,
     "metadata": {},
     "output_type": "execute_result"
    }
   ],
   "source": [
    "y_test"
   ]
  },
  {
   "cell_type": "code",
   "execution_count": 6,
   "metadata": {},
   "outputs": [],
   "source": [
    "def get_pairwise(X,y,i,j):\n",
    "    subsampling = np.where(np.logical_or(y == i,y == j))\n",
    "    sub_y = y[subsampling]\n",
    "    sub_y[sub_y==i] = 0\n",
    "    sub_y[sub_y==j] = 1\n",
    "    return X[subsampling],sub_y"
   ]
  },
  {
   "cell_type": "code",
   "execution_count": 7,
   "metadata": {},
   "outputs": [
    {
     "name": "stdout",
     "output_type": "stream",
     "text": [
      "Memorization training (0, 1)\n"
     ]
    },
    {
     "name": "stderr",
     "output_type": "stream",
     "text": [
      "100%|████████████████████████████████████████████████████████████████████████████████████| 8/8 [05:02<00:00, 45.37s/it]\n"
     ]
    },
    {
     "name": "stdout",
     "output_type": "stream",
     "text": [
      "Memorization training (0, 2)\n"
     ]
    },
    {
     "name": "stderr",
     "output_type": "stream",
     "text": [
      "100%|████████████████████████████████████████████████████████████████████████████████████| 8/8 [04:58<00:00, 44.91s/it]\n"
     ]
    },
    {
     "name": "stdout",
     "output_type": "stream",
     "text": [
      "Memorization training (0, 3)\n"
     ]
    },
    {
     "name": "stderr",
     "output_type": "stream",
     "text": [
      "100%|████████████████████████████████████████████████████████████████████████████████████| 8/8 [04:52<00:00, 43.23s/it]\n"
     ]
    },
    {
     "name": "stdout",
     "output_type": "stream",
     "text": [
      "Memorization training (0, 4)\n"
     ]
    },
    {
     "name": "stderr",
     "output_type": "stream",
     "text": [
      "100%|████████████████████████████████████████████████████████████████████████████████████| 8/8 [05:06<00:00, 46.42s/it]\n"
     ]
    },
    {
     "name": "stdout",
     "output_type": "stream",
     "text": [
      "Memorization training (0, 5)\n"
     ]
    },
    {
     "name": "stderr",
     "output_type": "stream",
     "text": [
      "100%|████████████████████████████████████████████████████████████████████████████████████| 8/8 [04:33<00:00, 41.73s/it]\n"
     ]
    },
    {
     "name": "stdout",
     "output_type": "stream",
     "text": [
      "Memorization training (0, 6)\n"
     ]
    },
    {
     "name": "stderr",
     "output_type": "stream",
     "text": [
      "100%|████████████████████████████████████████████████████████████████████████████████████| 8/8 [04:13<00:00, 39.29s/it]\n"
     ]
    },
    {
     "name": "stdout",
     "output_type": "stream",
     "text": [
      "Memorization training (0, 7)\n"
     ]
    },
    {
     "name": "stderr",
     "output_type": "stream",
     "text": [
      "100%|████████████████████████████████████████████████████████████████████████████████████| 8/8 [04:19<00:00, 40.36s/it]\n"
     ]
    },
    {
     "name": "stdout",
     "output_type": "stream",
     "text": [
      "Memorization training (0, 8)\n"
     ]
    },
    {
     "name": "stderr",
     "output_type": "stream",
     "text": [
      "100%|████████████████████████████████████████████████████████████████████████████████████| 8/8 [04:14<00:00, 38.70s/it]\n"
     ]
    },
    {
     "name": "stdout",
     "output_type": "stream",
     "text": [
      "Memorization training (0, 9)\n"
     ]
    },
    {
     "name": "stderr",
     "output_type": "stream",
     "text": [
      "100%|████████████████████████████████████████████████████████████████████████████████████| 8/8 [04:24<00:00, 40.25s/it]\n"
     ]
    },
    {
     "name": "stdout",
     "output_type": "stream",
     "text": [
      "Memorization training (1, 2)\n"
     ]
    },
    {
     "name": "stderr",
     "output_type": "stream",
     "text": [
      "100%|████████████████████████████████████████████████████████████████████████████████████| 8/8 [04:58<00:00, 44.19s/it]\n"
     ]
    },
    {
     "name": "stdout",
     "output_type": "stream",
     "text": [
      "Memorization training (1, 3)\n"
     ]
    },
    {
     "name": "stderr",
     "output_type": "stream",
     "text": [
      "100%|████████████████████████████████████████████████████████████████████████████████████| 8/8 [04:41<00:00, 42.65s/it]\n"
     ]
    },
    {
     "name": "stdout",
     "output_type": "stream",
     "text": [
      "Memorization training (1, 4)\n"
     ]
    },
    {
     "name": "stderr",
     "output_type": "stream",
     "text": [
      "100%|███████████████████████████████████████████████████████████████████████████████████| 8/8 [41:01<00:00, 696.71s/it]\n"
     ]
    },
    {
     "name": "stdout",
     "output_type": "stream",
     "text": [
      "Memorization training (1, 5)\n"
     ]
    },
    {
     "name": "stderr",
     "output_type": "stream",
     "text": [
      "100%|████████████████████████████████████████████████████████████████████████████████████| 8/8 [05:39<00:00, 52.18s/it]\n"
     ]
    },
    {
     "name": "stdout",
     "output_type": "stream",
     "text": [
      "Memorization training (1, 6)\n"
     ]
    },
    {
     "name": "stderr",
     "output_type": "stream",
     "text": [
      "100%|████████████████████████████████████████████████████████████████████████████████████| 8/8 [05:06<00:00, 46.39s/it]\n"
     ]
    },
    {
     "name": "stdout",
     "output_type": "stream",
     "text": [
      "Memorization training (1, 7)\n"
     ]
    },
    {
     "name": "stderr",
     "output_type": "stream",
     "text": [
      "100%|████████████████████████████████████████████████████████████████████████████████████| 8/8 [04:56<00:00, 45.96s/it]\n"
     ]
    },
    {
     "name": "stdout",
     "output_type": "stream",
     "text": [
      "Memorization training (1, 8)\n"
     ]
    },
    {
     "name": "stderr",
     "output_type": "stream",
     "text": [
      "100%|████████████████████████████████████████████████████████████████████████████████████| 8/8 [05:04<00:00, 46.04s/it]\n"
     ]
    },
    {
     "name": "stdout",
     "output_type": "stream",
     "text": [
      "Memorization training (1, 9)\n"
     ]
    },
    {
     "name": "stderr",
     "output_type": "stream",
     "text": [
      "100%|████████████████████████████████████████████████████████████████████████████████████| 8/8 [04:43<00:00, 43.65s/it]\n"
     ]
    },
    {
     "name": "stdout",
     "output_type": "stream",
     "text": [
      "Memorization training (2, 3)\n"
     ]
    },
    {
     "name": "stderr",
     "output_type": "stream",
     "text": [
      "100%|████████████████████████████████████████████████████████████████████████████████████| 8/8 [05:42<00:00, 55.93s/it]\n"
     ]
    },
    {
     "name": "stdout",
     "output_type": "stream",
     "text": [
      "Memorization training (2, 4)\n"
     ]
    },
    {
     "name": "stderr",
     "output_type": "stream",
     "text": [
      "100%|████████████████████████████████████████████████████████████████████████████████████| 8/8 [05:02<00:00, 44.44s/it]\n"
     ]
    },
    {
     "name": "stdout",
     "output_type": "stream",
     "text": [
      "Memorization training (2, 5)\n"
     ]
    },
    {
     "name": "stderr",
     "output_type": "stream",
     "text": [
      "100%|████████████████████████████████████████████████████████████████████████████████████| 8/8 [04:48<00:00, 45.73s/it]\n"
     ]
    },
    {
     "name": "stdout",
     "output_type": "stream",
     "text": [
      "Memorization training (2, 6)\n"
     ]
    },
    {
     "name": "stderr",
     "output_type": "stream",
     "text": [
      "100%|████████████████████████████████████████████████████████████████████████████████████| 8/8 [05:01<00:00, 46.57s/it]\n"
     ]
    },
    {
     "name": "stdout",
     "output_type": "stream",
     "text": [
      "Memorization training (2, 7)\n"
     ]
    },
    {
     "name": "stderr",
     "output_type": "stream",
     "text": [
      "100%|████████████████████████████████████████████████████████████████████████████████████| 8/8 [04:58<00:00, 46.50s/it]\n"
     ]
    },
    {
     "name": "stdout",
     "output_type": "stream",
     "text": [
      "Memorization training (2, 8)\n"
     ]
    },
    {
     "name": "stderr",
     "output_type": "stream",
     "text": [
      "100%|████████████████████████████████████████████████████████████████████████████████████| 8/8 [05:07<00:00, 50.67s/it]\n"
     ]
    },
    {
     "name": "stdout",
     "output_type": "stream",
     "text": [
      "Memorization training (2, 9)\n"
     ]
    },
    {
     "name": "stderr",
     "output_type": "stream",
     "text": [
      "100%|████████████████████████████████████████████████████████████████████████████████████| 8/8 [05:42<00:00, 52.61s/it]\n"
     ]
    },
    {
     "name": "stdout",
     "output_type": "stream",
     "text": [
      "Memorization training (3, 4)\n"
     ]
    },
    {
     "name": "stderr",
     "output_type": "stream",
     "text": [
      "100%|████████████████████████████████████████████████████████████████████████████████████| 8/8 [05:50<00:00, 54.92s/it]\n"
     ]
    },
    {
     "name": "stdout",
     "output_type": "stream",
     "text": [
      "Memorization training (3, 5)\n"
     ]
    },
    {
     "name": "stderr",
     "output_type": "stream",
     "text": [
      "100%|████████████████████████████████████████████████████████████████████████████████████| 8/8 [05:45<00:00, 52.81s/it]\n"
     ]
    },
    {
     "name": "stdout",
     "output_type": "stream",
     "text": [
      "Memorization training (3, 6)\n"
     ]
    },
    {
     "name": "stderr",
     "output_type": "stream",
     "text": [
      "100%|████████████████████████████████████████████████████████████████████████████████████| 8/8 [05:47<00:00, 51.23s/it]\n"
     ]
    },
    {
     "name": "stdout",
     "output_type": "stream",
     "text": [
      "Memorization training (3, 7)\n"
     ]
    },
    {
     "name": "stderr",
     "output_type": "stream",
     "text": [
      "100%|████████████████████████████████████████████████████████████████████████████████████| 8/8 [05:35<00:00, 50.53s/it]\n"
     ]
    },
    {
     "name": "stdout",
     "output_type": "stream",
     "text": [
      "Memorization training (3, 8)\n"
     ]
    },
    {
     "name": "stderr",
     "output_type": "stream",
     "text": [
      "100%|████████████████████████████████████████████████████████████████████████████████████| 8/8 [05:49<00:00, 51.71s/it]\n"
     ]
    },
    {
     "name": "stdout",
     "output_type": "stream",
     "text": [
      "Memorization training (3, 9)\n"
     ]
    },
    {
     "name": "stderr",
     "output_type": "stream",
     "text": [
      "100%|████████████████████████████████████████████████████████████████████████████████████| 8/8 [06:05<00:00, 54.93s/it]\n"
     ]
    },
    {
     "name": "stdout",
     "output_type": "stream",
     "text": [
      "Memorization training (4, 5)\n"
     ]
    },
    {
     "name": "stderr",
     "output_type": "stream",
     "text": [
      "100%|████████████████████████████████████████████████████████████████████████████████████| 8/8 [05:42<00:00, 53.08s/it]\n"
     ]
    },
    {
     "name": "stdout",
     "output_type": "stream",
     "text": [
      "Memorization training (4, 6)\n"
     ]
    },
    {
     "name": "stderr",
     "output_type": "stream",
     "text": [
      "100%|████████████████████████████████████████████████████████████████████████████████████| 8/8 [05:55<00:00, 53.43s/it]\n"
     ]
    },
    {
     "name": "stdout",
     "output_type": "stream",
     "text": [
      "Memorization training (4, 7)\n"
     ]
    },
    {
     "name": "stderr",
     "output_type": "stream",
     "text": [
      "100%|████████████████████████████████████████████████████████████████████████████████████| 8/8 [06:04<00:00, 55.98s/it]\n"
     ]
    },
    {
     "name": "stdout",
     "output_type": "stream",
     "text": [
      "Memorization training (4, 8)\n"
     ]
    },
    {
     "name": "stderr",
     "output_type": "stream",
     "text": [
      "100%|████████████████████████████████████████████████████████████████████████████████████| 8/8 [05:58<00:00, 53.48s/it]\n"
     ]
    },
    {
     "name": "stdout",
     "output_type": "stream",
     "text": [
      "Memorization training (4, 9)\n"
     ]
    },
    {
     "name": "stderr",
     "output_type": "stream",
     "text": [
      "100%|████████████████████████████████████████████████████████████████████████████████████| 8/8 [06:12<00:00, 57.08s/it]\n"
     ]
    },
    {
     "name": "stdout",
     "output_type": "stream",
     "text": [
      "Memorization training (5, 6)\n"
     ]
    },
    {
     "name": "stderr",
     "output_type": "stream",
     "text": [
      "100%|████████████████████████████████████████████████████████████████████████████████████| 8/8 [06:01<00:00, 55.36s/it]\n"
     ]
    },
    {
     "name": "stdout",
     "output_type": "stream",
     "text": [
      "Memorization training (5, 7)\n"
     ]
    },
    {
     "name": "stderr",
     "output_type": "stream",
     "text": [
      "100%|████████████████████████████████████████████████████████████████████████████████████| 8/8 [06:02<00:00, 56.15s/it]\n"
     ]
    },
    {
     "name": "stdout",
     "output_type": "stream",
     "text": [
      "Memorization training (5, 8)\n"
     ]
    },
    {
     "name": "stderr",
     "output_type": "stream",
     "text": [
      "100%|████████████████████████████████████████████████████████████████████████████████████| 8/8 [06:12<00:00, 58.61s/it]\n"
     ]
    },
    {
     "name": "stdout",
     "output_type": "stream",
     "text": [
      "Memorization training (5, 9)\n"
     ]
    },
    {
     "name": "stderr",
     "output_type": "stream",
     "text": [
      "100%|████████████████████████████████████████████████████████████████████████████████████| 8/8 [05:07<00:00, 47.14s/it]\n"
     ]
    },
    {
     "name": "stdout",
     "output_type": "stream",
     "text": [
      "Memorization training (6, 7)\n"
     ]
    },
    {
     "name": "stderr",
     "output_type": "stream",
     "text": [
      "100%|████████████████████████████████████████████████████████████████████████████████████| 8/8 [05:23<00:00, 48.85s/it]\n"
     ]
    },
    {
     "name": "stdout",
     "output_type": "stream",
     "text": [
      "Memorization training (6, 8)\n"
     ]
    },
    {
     "name": "stderr",
     "output_type": "stream",
     "text": [
      "100%|████████████████████████████████████████████████████████████████████████████████████| 8/8 [05:13<00:00, 47.99s/it]\n"
     ]
    },
    {
     "name": "stdout",
     "output_type": "stream",
     "text": [
      "Memorization training (6, 9)\n"
     ]
    },
    {
     "name": "stderr",
     "output_type": "stream",
     "text": [
      "100%|████████████████████████████████████████████████████████████████████████████████████| 8/8 [05:23<00:00, 48.81s/it]\n"
     ]
    },
    {
     "name": "stdout",
     "output_type": "stream",
     "text": [
      "Memorization training (7, 8)\n"
     ]
    },
    {
     "name": "stderr",
     "output_type": "stream",
     "text": [
      "100%|████████████████████████████████████████████████████████████████████████████████████| 8/8 [05:05<00:00, 47.14s/it]\n"
     ]
    },
    {
     "name": "stdout",
     "output_type": "stream",
     "text": [
      "Memorization training (7, 9)\n"
     ]
    },
    {
     "name": "stderr",
     "output_type": "stream",
     "text": [
      "100%|████████████████████████████████████████████████████████████████████████████████████| 8/8 [04:47<00:00, 43.23s/it]\n"
     ]
    },
    {
     "name": "stdout",
     "output_type": "stream",
     "text": [
      "Memorization training (8, 9)\n"
     ]
    },
    {
     "name": "stderr",
     "output_type": "stream",
     "text": [
      "100%|████████████████████████████████████████████████████████████████████████████████████| 8/8 [04:24<00:00, 41.54s/it]\n"
     ]
    },
    {
     "name": "stdout",
     "output_type": "stream",
     "text": [
      "Total time spent : 17014.70s\n"
     ]
    }
   ],
   "source": [
    "n_luts = [784,1024,512,512,256,16,1] # number of luts per layer\n",
    "k_list = [2,4,6,8,10,12,14,16] # sampling input\n",
    "\n",
    "pairwise = [(i,j) for i in range(0,10) for j in range(i+1,10)]\n",
    "\n",
    "train_accuracy = np.zeros((len(k_list),len(pairwise)))\n",
    "test_accuracy = np.zeros((len(k_list), len(pairwise)))\n",
    "\n",
    "start = time.time()\n",
    "\n",
    "for p in range(len(pairwise)):\n",
    "    \n",
    "    sub_X_train,sub_y_train= get_pairwise(X_train,y_train,pairwise[p][0],pairwise[p][1])\n",
    "    sub_X_test,sub_y_test= get_pairwise(X_test,y_test,pairwise[p][0],pairwise[p][1])\n",
    "\n",
    "    nn_list = []\n",
    "    inputs = np.zeros((len(sub_y_train),k,int)\n",
    "\n",
    "    indexes_0 = np.where(sub_y_train == 0)\n",
    "    indexes_1 = np.where(sub_y_train == 1)\n",
    "\n",
    "    print(\"Memorization training {}\".format(pairwise[p]))\n",
    "    for n in tqdm(range(len(k_list))):\n",
    "        k = k_list[n]\n",
    "        layers = []\n",
    "        # input layer\n",
    "        l = 0\n",
    "        layer = []\n",
    "        inputs = sub_X_train\n",
    "        outputs = inputs\n",
    "        layers.append(layer)\n",
    "\n",
    "        # 5 hidden layers + 1 output layer\n",
    "        for l in range(1,7):\n",
    "            layer = []\n",
    "            inputs = outputs\n",
    "            outputs = np.zeros((len(sub_X_train),n_luts[l]),int)\n",
    "            for i in range(n_luts[l]):\n",
    "                lut = LUT(inputs, indexes_0, indexes_1, k)\n",
    "                outputs[:,i] = lut.look_array(inputs)\n",
    "                layer.append(lut)\n",
    "            layers.append(layer)\n",
    "\n",
    "        #print(\"k = {} accuracy : {:.3f}\".format(k,accuracy_score(sub_y_train, outputs)))\n",
    "        train_accuracy[n,p] = accuracy_score(sub_y_train, outputs)\n",
    "        nn_list.append(layers)\n",
    "\n",
    "\n",
    "    # Compute test accuracy\n",
    "    #print(\"Memorization testing {}\".format(pairwise[p]))\n",
    "    for n in range(len(nn_list)):\n",
    "\n",
    "        layers = nn_list[n]\n",
    "        k = k_list[n]\n",
    "        interm = time.time()\n",
    "\n",
    "        inputs = sub_X_test\n",
    "        outputs = inputs\n",
    "\n",
    "        for layer in layers[1:]:\n",
    "            inputs = outputs\n",
    "            outputs = np.zeros((len(sub_X_test),len(layer)),int)\n",
    "            for i in range(len(layer)):\n",
    "                outputs[:,i] = layer[i].look_array(inputs)\n",
    "\n",
    "        #print(\"k = {} accuracy : {:.3f}\".format(k,accuracy_score(sub_y_test, outputs)))\n",
    "        test_accuracy[n,p] = accuracy_score(sub_y_test, outputs)\n",
    "\n",
    "end = time.time() - start\n",
    "print(\"Total time spent : {:.2f}s\".format(end))"
   ]
  },
  {
   "cell_type": "markdown",
   "metadata": {},
   "source": [
    "with open('./data/exp5_train_accuracy.p', 'rb') as f:\n",
    "    train_accuracy=pickle.load(f)\n",
    "with open('./data/exp5_test_accuracy.p', 'rb') as f:\n",
    "    test_accuracy=pickle.load(f)"
   ]
  },
  {
   "cell_type": "code",
   "execution_count": 19,
   "metadata": {},
   "outputs": [
    {
     "name": "stdout",
     "output_type": "stream",
     "text": [
      "Pairwise-MNIST\n"
     ]
    },
    {
     "data": {
      "image/png": "[encoded data removed]",
      "text/plain": [
       "<Figure size 504x360 with 1 Axes>"
      ]
     },
     "metadata": {},
     "output_type": "display_data"
    }
   ],
   "source": [
    "print(\"Pairwise-MNIST\")\n",
    "plt.figure(figsize=(7,5))\n",
    "training = plt.plot(np.array(k_list)-0.3,train_accuracy,'o',color=\"lightgreen\",markersize=10,fillstyle='none')\n",
    "test = plt.plot(np.array(k_list)+0.3,test_accuracy,'o',color=\"steelblue\",markersize=10,fillstyle='none')\n",
    "plt.legend((training[0],test[0]),[\"training\",\"test\"],loc=3)\n",
    "plt.axhline(y=0.5,color=\"black\", linestyle=\"--\")\n",
    "plt.xlabel(\"k\")\n",
    "plt.ylabel(\"accuracy\")\n",
    "plt.show()"
   ]
  },
  {
   "cell_type": "markdown",
   "metadata": {},
   "source": [
    "## Experiment 6"
   ]
  },
  {
   "cell_type": "code",
   "execution_count": 9,
   "metadata": {},
   "outputs": [
    {
     "name": "stdout",
     "output_type": "stream",
     "text": [
      "Memorization training (0, 1)\n"
     ]
    },
    {
     "name": "stderr",
     "output_type": "stream",
     "text": [
      "100%|████████████████████████████████████████████████████████████████████████████████████| 6/6 [00:39<00:00,  9.29s/it]\n"
     ]
    },
    {
     "name": "stdout",
     "output_type": "stream",
     "text": [
      "Memorization training (0, 2)\n"
     ]
    },
    {
     "name": "stderr",
     "output_type": "stream",
     "text": [
      "100%|████████████████████████████████████████████████████████████████████████████████████| 6/6 [00:38<00:00,  8.59s/it]\n"
     ]
    },
    {
     "name": "stdout",
     "output_type": "stream",
     "text": [
      "Memorization training (0, 3)\n"
     ]
    },
    {
     "name": "stderr",
     "output_type": "stream",
     "text": [
      "100%|████████████████████████████████████████████████████████████████████████████████████| 6/6 [00:42<00:00, 10.15s/it]\n"
     ]
    },
    {
     "name": "stdout",
     "output_type": "stream",
     "text": [
      "Memorization training (0, 4)\n"
     ]
    },
    {
     "name": "stderr",
     "output_type": "stream",
     "text": [
      "100%|████████████████████████████████████████████████████████████████████████████████████| 6/6 [00:44<00:00,  9.83s/it]\n"
     ]
    },
    {
     "name": "stdout",
     "output_type": "stream",
     "text": [
      "Memorization training (0, 5)\n"
     ]
    },
    {
     "name": "stderr",
     "output_type": "stream",
     "text": [
      "100%|████████████████████████████████████████████████████████████████████████████████████| 6/6 [00:41<00:00,  9.59s/it]\n"
     ]
    },
    {
     "name": "stdout",
     "output_type": "stream",
     "text": [
      "Memorization training (0, 6)\n"
     ]
    },
    {
     "name": "stderr",
     "output_type": "stream",
     "text": [
      "100%|████████████████████████████████████████████████████████████████████████████████████| 6/6 [00:44<00:00, 10.67s/it]\n"
     ]
    },
    {
     "name": "stdout",
     "output_type": "stream",
     "text": [
      "Memorization training (0, 7)\n"
     ]
    },
    {
     "name": "stderr",
     "output_type": "stream",
     "text": [
      "100%|████████████████████████████████████████████████████████████████████████████████████| 6/6 [00:44<00:00, 10.50s/it]\n"
     ]
    },
    {
     "name": "stdout",
     "output_type": "stream",
     "text": [
      "Memorization training (0, 8)\n"
     ]
    },
    {
     "name": "stderr",
     "output_type": "stream",
     "text": [
      "100%|████████████████████████████████████████████████████████████████████████████████████| 6/6 [00:46<00:00, 11.16s/it]\n"
     ]
    },
    {
     "name": "stdout",
     "output_type": "stream",
     "text": [
      "Memorization training (0, 9)\n"
     ]
    },
    {
     "name": "stderr",
     "output_type": "stream",
     "text": [
      "100%|████████████████████████████████████████████████████████████████████████████████████| 6/6 [00:48<00:00, 11.55s/it]\n"
     ]
    },
    {
     "name": "stdout",
     "output_type": "stream",
     "text": [
      "Memorization training (1, 2)\n"
     ]
    },
    {
     "name": "stderr",
     "output_type": "stream",
     "text": [
      "100%|████████████████████████████████████████████████████████████████████████████████████| 6/6 [00:53<00:00, 12.46s/it]\n"
     ]
    },
    {
     "name": "stdout",
     "output_type": "stream",
     "text": [
      "Memorization training (1, 3)\n"
     ]
    },
    {
     "name": "stderr",
     "output_type": "stream",
     "text": [
      "100%|████████████████████████████████████████████████████████████████████████████████████| 6/6 [00:56<00:00, 12.70s/it]\n"
     ]
    },
    {
     "name": "stdout",
     "output_type": "stream",
     "text": [
      "Memorization training (1, 4)\n"
     ]
    },
    {
     "name": "stderr",
     "output_type": "stream",
     "text": [
      "100%|████████████████████████████████████████████████████████████████████████████████████| 6/6 [00:51<00:00, 11.74s/it]\n"
     ]
    },
    {
     "name": "stdout",
     "output_type": "stream",
     "text": [
      "Memorization training (1, 5)\n"
     ]
    },
    {
     "name": "stderr",
     "output_type": "stream",
     "text": [
      "100%|████████████████████████████████████████████████████████████████████████████████████| 6/6 [00:52<00:00, 12.35s/it]\n"
     ]
    },
    {
     "name": "stdout",
     "output_type": "stream",
     "text": [
      "Memorization training (1, 6)\n"
     ]
    },
    {
     "name": "stderr",
     "output_type": "stream",
     "text": [
      "100%|████████████████████████████████████████████████████████████████████████████████████| 6/6 [00:50<00:00, 11.80s/it]\n"
     ]
    },
    {
     "name": "stdout",
     "output_type": "stream",
     "text": [
      "Memorization training (1, 7)\n"
     ]
    },
    {
     "name": "stderr",
     "output_type": "stream",
     "text": [
      "100%|████████████████████████████████████████████████████████████████████████████████████| 6/6 [00:54<00:00, 12.93s/it]\n"
     ]
    },
    {
     "name": "stdout",
     "output_type": "stream",
     "text": [
      "Memorization training (1, 8)\n"
     ]
    },
    {
     "name": "stderr",
     "output_type": "stream",
     "text": [
      "100%|████████████████████████████████████████████████████████████████████████████████████| 6/6 [00:55<00:00, 13.21s/it]\n"
     ]
    },
    {
     "name": "stdout",
     "output_type": "stream",
     "text": [
      "Memorization training (1, 9)\n"
     ]
    },
    {
     "name": "stderr",
     "output_type": "stream",
     "text": [
      "100%|████████████████████████████████████████████████████████████████████████████████████| 6/6 [00:48<00:00, 11.50s/it]\n"
     ]
    },
    {
     "name": "stdout",
     "output_type": "stream",
     "text": [
      "Memorization training (2, 3)\n"
     ]
    },
    {
     "name": "stderr",
     "output_type": "stream",
     "text": [
      "100%|████████████████████████████████████████████████████████████████████████████████████| 6/6 [00:47<00:00, 11.00s/it]\n"
     ]
    },
    {
     "name": "stdout",
     "output_type": "stream",
     "text": [
      "Memorization training (2, 4)\n"
     ]
    },
    {
     "name": "stderr",
     "output_type": "stream",
     "text": [
      "100%|████████████████████████████████████████████████████████████████████████████████████| 6/6 [00:46<00:00, 10.80s/it]\n"
     ]
    },
    {
     "name": "stdout",
     "output_type": "stream",
     "text": [
      "Memorization training (2, 5)\n"
     ]
    },
    {
     "name": "stderr",
     "output_type": "stream",
     "text": [
      "100%|████████████████████████████████████████████████████████████████████████████████████| 6/6 [00:42<00:00,  9.96s/it]\n"
     ]
    },
    {
     "name": "stdout",
     "output_type": "stream",
     "text": [
      "Memorization training (2, 6)\n"
     ]
    },
    {
     "name": "stderr",
     "output_type": "stream",
     "text": [
      "100%|████████████████████████████████████████████████████████████████████████████████████| 6/6 [00:45<00:00, 10.75s/it]\n"
     ]
    },
    {
     "name": "stdout",
     "output_type": "stream",
     "text": [
      "Memorization training (2, 7)\n"
     ]
    },
    {
     "name": "stderr",
     "output_type": "stream",
     "text": [
      "100%|████████████████████████████████████████████████████████████████████████████████████| 6/6 [00:44<00:00, 10.36s/it]\n"
     ]
    },
    {
     "name": "stdout",
     "output_type": "stream",
     "text": [
      "Memorization training (2, 8)\n"
     ]
    },
    {
     "name": "stderr",
     "output_type": "stream",
     "text": [
      "100%|████████████████████████████████████████████████████████████████████████████████████| 6/6 [00:42<00:00,  9.92s/it]\n"
     ]
    },
    {
     "name": "stdout",
     "output_type": "stream",
     "text": [
      "Memorization training (2, 9)\n"
     ]
    },
    {
     "name": "stderr",
     "output_type": "stream",
     "text": [
      "100%|████████████████████████████████████████████████████████████████████████████████████| 6/6 [00:42<00:00,  9.98s/it]\n"
     ]
    },
    {
     "name": "stdout",
     "output_type": "stream",
     "text": [
      "Memorization training (3, 4)\n"
     ]
    },
    {
     "name": "stderr",
     "output_type": "stream",
     "text": [
      "100%|████████████████████████████████████████████████████████████████████████████████████| 6/6 [00:42<00:00, 10.08s/it]\n"
     ]
    },
    {
     "name": "stdout",
     "output_type": "stream",
     "text": [
      "Memorization training (3, 5)\n"
     ]
    },
    {
     "name": "stderr",
     "output_type": "stream",
     "text": [
      "100%|████████████████████████████████████████████████████████████████████████████████████| 6/6 [00:44<00:00, 10.52s/it]\n"
     ]
    },
    {
     "name": "stdout",
     "output_type": "stream",
     "text": [
      "Memorization training (3, 6)\n"
     ]
    },
    {
     "name": "stderr",
     "output_type": "stream",
     "text": [
      "100%|████████████████████████████████████████████████████████████████████████████████████| 6/6 [00:43<00:00, 10.16s/it]\n"
     ]
    },
    {
     "name": "stdout",
     "output_type": "stream",
     "text": [
      "Memorization training (3, 7)\n"
     ]
    },
    {
     "name": "stderr",
     "output_type": "stream",
     "text": [
      "100%|████████████████████████████████████████████████████████████████████████████████████| 6/6 [00:44<00:00, 10.39s/it]\n"
     ]
    },
    {
     "name": "stdout",
     "output_type": "stream",
     "text": [
      "Memorization training (3, 8)\n"
     ]
    },
    {
     "name": "stderr",
     "output_type": "stream",
     "text": [
      "100%|████████████████████████████████████████████████████████████████████████████████████| 6/6 [00:44<00:00, 10.39s/it]\n"
     ]
    },
    {
     "name": "stdout",
     "output_type": "stream",
     "text": [
      "Memorization training (3, 9)\n"
     ]
    },
    {
     "name": "stderr",
     "output_type": "stream",
     "text": [
      "100%|████████████████████████████████████████████████████████████████████████████████████| 6/6 [00:45<00:00, 10.75s/it]\n"
     ]
    },
    {
     "name": "stdout",
     "output_type": "stream",
     "text": [
      "Memorization training (4, 5)\n"
     ]
    },
    {
     "name": "stderr",
     "output_type": "stream",
     "text": [
      "100%|████████████████████████████████████████████████████████████████████████████████████| 6/6 [00:40<00:00,  9.51s/it]\n"
     ]
    },
    {
     "name": "stdout",
     "output_type": "stream",
     "text": [
      "Memorization training (4, 6)\n"
     ]
    },
    {
     "name": "stderr",
     "output_type": "stream",
     "text": [
      "100%|████████████████████████████████████████████████████████████████████████████████████| 6/6 [00:43<00:00, 10.38s/it]\n"
     ]
    },
    {
     "name": "stdout",
     "output_type": "stream",
     "text": [
      "Memorization training (4, 7)\n"
     ]
    },
    {
     "name": "stderr",
     "output_type": "stream",
     "text": [
      "100%|████████████████████████████████████████████████████████████████████████████████████| 6/6 [00:49<00:00, 11.68s/it]\n"
     ]
    },
    {
     "name": "stdout",
     "output_type": "stream",
     "text": [
      "Memorization training (4, 8)\n"
     ]
    },
    {
     "name": "stderr",
     "output_type": "stream",
     "text": [
      "100%|████████████████████████████████████████████████████████████████████████████████████| 6/6 [00:44<00:00, 10.38s/it]\n"
     ]
    },
    {
     "name": "stdout",
     "output_type": "stream",
     "text": [
      "Memorization training (4, 9)\n"
     ]
    },
    {
     "name": "stderr",
     "output_type": "stream",
     "text": [
      "100%|████████████████████████████████████████████████████████████████████████████████████| 6/6 [00:44<00:00, 10.55s/it]\n"
     ]
    },
    {
     "name": "stdout",
     "output_type": "stream",
     "text": [
      "Memorization training (5, 6)\n"
     ]
    },
    {
     "name": "stderr",
     "output_type": "stream",
     "text": [
      "100%|████████████████████████████████████████████████████████████████████████████████████| 6/6 [00:45<00:00, 10.79s/it]\n"
     ]
    },
    {
     "name": "stdout",
     "output_type": "stream",
     "text": [
      "Memorization training (5, 7)\n"
     ]
    },
    {
     "name": "stderr",
     "output_type": "stream",
     "text": [
      "100%|████████████████████████████████████████████████████████████████████████████████████| 6/6 [00:43<00:00, 10.19s/it]\n"
     ]
    },
    {
     "name": "stdout",
     "output_type": "stream",
     "text": [
      "Memorization training (5, 8)\n"
     ]
    },
    {
     "name": "stderr",
     "output_type": "stream",
     "text": [
      "100%|████████████████████████████████████████████████████████████████████████████████████| 6/6 [00:42<00:00,  9.87s/it]\n"
     ]
    },
    {
     "name": "stdout",
     "output_type": "stream",
     "text": [
      "Memorization training (5, 9)\n"
     ]
    },
    {
     "name": "stderr",
     "output_type": "stream",
     "text": [
      "100%|████████████████████████████████████████████████████████████████████████████████████| 6/6 [00:45<00:00, 11.03s/it]\n"
     ]
    },
    {
     "name": "stdout",
     "output_type": "stream",
     "text": [
      "Memorization training (6, 7)\n"
     ]
    },
    {
     "name": "stderr",
     "output_type": "stream",
     "text": [
      "100%|████████████████████████████████████████████████████████████████████████████████████| 6/6 [00:46<00:00, 10.72s/it]\n"
     ]
    },
    {
     "name": "stdout",
     "output_type": "stream",
     "text": [
      "Memorization training (6, 8)\n"
     ]
    },
    {
     "name": "stderr",
     "output_type": "stream",
     "text": [
      "100%|████████████████████████████████████████████████████████████████████████████████████| 6/6 [00:47<00:00, 11.27s/it]\n"
     ]
    },
    {
     "name": "stdout",
     "output_type": "stream",
     "text": [
      "Memorization training (6, 9)\n"
     ]
    },
    {
     "name": "stderr",
     "output_type": "stream",
     "text": [
      "100%|████████████████████████████████████████████████████████████████████████████████████| 6/6 [00:44<00:00, 10.40s/it]\n"
     ]
    },
    {
     "name": "stdout",
     "output_type": "stream",
     "text": [
      "Memorization training (7, 8)\n"
     ]
    },
    {
     "name": "stderr",
     "output_type": "stream",
     "text": [
      "100%|████████████████████████████████████████████████████████████████████████████████████| 6/6 [00:47<00:00, 11.21s/it]\n"
     ]
    },
    {
     "name": "stdout",
     "output_type": "stream",
     "text": [
      "Memorization training (7, 9)\n"
     ]
    },
    {
     "name": "stderr",
     "output_type": "stream",
     "text": [
      "100%|████████████████████████████████████████████████████████████████████████████████████| 6/6 [00:50<00:00, 11.71s/it]\n"
     ]
    },
    {
     "name": "stdout",
     "output_type": "stream",
     "text": [
      "Memorization training (8, 9)\n"
     ]
    },
    {
     "name": "stderr",
     "output_type": "stream",
     "text": [
      "100%|████████████████████████████████████████████████████████████████████████████████████| 6/6 [00:45<00:00, 10.70s/it]\n"
     ]
    },
    {
     "name": "stdout",
     "output_type": "stream",
     "text": [
      "Total time spent : 2075.97s\n"
     ]
    }
   ],
   "source": [
    "n_luts_list =[[64]*2**i+[1] for i in range(6)] # number of luts per layer\n",
    "k = 2 # sampling input\n",
    "n_layers = [2**i+1 for i in range(6)]\n",
    "\n",
    "pairwise = [(i,j) for i in range(0,10) for j in range(i+1,10)]\n",
    "\n",
    "train_accuracy = np.zeros((len(n_layers),len(pairwise)))\n",
    "test_accuracy = np.zeros((len(n_layers), len(pairwise)))\n",
    "\n",
    "start = time.time()\n",
    "\n",
    "for p in range(len(pairwise)):\n",
    "    \n",
    "    sub_X_train,sub_y_train= get_pairwise(X_train,y_train,pairwise[p][0],pairwise[p][1])\n",
    "    sub_X_test,sub_y_test= get_pairwise(X_test,y_test,pairwise[p][0],pairwise[p][1])\n",
    "\n",
    "    nn_list = []\n",
    "    inputs = np.zeros((len(sub_y_train),k),int)\n",
    "\n",
    "    indexes_0 = np.where(sub_y_train == 0)\n",
    "    indexes_1 = np.where(sub_y_train == 1)\n",
    "\n",
    "    print(\"Memorization training {}\".format(pairwise[p]))\n",
    "    for n in tqdm(range(len(n_layers))):\n",
    "        n_luts = n_luts_list[n]\n",
    "        nn = NLUTS(k,n_luts,n_layers[n])\n",
    "        outputs = nn.train(sub_X_train,sub_y_train, indexes_0, indexes_1)\n",
    "        nn_list.append(nn)\n",
    "        train_accuracy[n,p]= accuracy_score(sub_y_train, outputs)\n",
    "        test_accuracy[n,p]= nn.score(sub_X_test,sub_y_test)\n",
    "\n",
    "end = time.time() - start\n",
    "print(\"Total time spent : {:.2f}s\".format(end))"
   ]
  },
  {
   "cell_type": "code",
   "execution_count": 10,
   "metadata": {},
   "outputs": [],
   "source": [
    "\"\"\"\n",
    "with open('./data/exp6_train_accuracy_64.p', 'wb') as f:\n",
    "    pickle.dump(train_accuracy,f)\n",
    "with open('./data/exp6_test_accuracy_64.p', 'wb') as f:\n",
    "    pickle.dump(test_accuracy,f)\n",
    "\"\"\""
   ]
  },
  {
   "cell_type": "code",
   "execution_count": 12,
   "metadata": {},
   "outputs": [],
   "source": [
    "with open('./data/exp6_train_accuracy_64.p', 'rb') as f:\n",
    "    train_accuracy=pickle.load(f)\n",
    "with open('./data/exp6_test_accuracy_64.p', 'rb') as f:\n",
    "    test_accuracy=pickle.load(f)"
   ]
  },
  {
   "cell_type": "code",
   "execution_count": 11,
   "metadata": {},
   "outputs": [
    {
     "name": "stdout",
     "output_type": "stream",
     "text": [
      "Pairwise-MNIST\n"
     ]
    },
    {
     "data": {
      "image/png": "[encoded data removed]",
      "text/plain": [
       "<Figure size 504x360 with 1 Axes>"
      ]
     },
     "metadata": {},
     "output_type": "display_data"
    }
   ],
   "source": [
    "print(\"Pairwise-MNIST\")\n",
    "plt.figure(figsize=(7,5))\n",
    "training = plt.plot(np.array(range(6))-0.15,train_accuracy,'o',color=\"lightgreen\",markersize=10,fillstyle='none')\n",
    "test = plt.plot(np.array(range(6))+0.15,test_accuracy,'o',color=\"steelblue\",markersize=10,fillstyle='none')\n",
    "diff = plt.plot(np.array(range(6)),train_accuracy - test_accuracy,'o',color=\"gray\",markersize=10,fillstyle='none')\n",
    "plt.legend((training[0],test[0],diff[0]),[\"training\",\"test\",\"difference\"],loc=5)\n",
    "plt.axhline(y=0.5,color=\"black\", linestyle=\"--\")\n",
    "plt.xlabel(\"k\")\n",
    "plt.ylabel(\"accuracy\")\n",
    "plt.show()"
   ]
  },
  {
   "cell_type": "code",
   "execution_count": 13,
   "metadata": {},
   "outputs": [
    {
     "name": "stdout",
     "output_type": "stream",
     "text": [
      "Memorization training (0, 1)\n"
     ]
    },
    {
     "name": "stderr",
     "output_type": "stream",
     "text": [
      "100%|████████████████████████████████████████████████████████████████████████████████████| 6/6 [01:48<00:00, 25.64s/it]\n"
     ]
    },
    {
     "name": "stdout",
     "output_type": "stream",
     "text": [
      "Memorization training (0, 2)\n"
     ]
    },
    {
     "name": "stderr",
     "output_type": "stream",
     "text": [
      "100%|████████████████████████████████████████████████████████████████████████████████████| 6/6 [01:33<00:00, 21.55s/it]\n"
     ]
    },
    {
     "name": "stdout",
     "output_type": "stream",
     "text": [
      "Memorization training (0, 3)\n"
     ]
    },
    {
     "name": "stderr",
     "output_type": "stream",
     "text": [
      "100%|████████████████████████████████████████████████████████████████████████████████████| 6/6 [01:40<00:00, 23.58s/it]\n"
     ]
    },
    {
     "name": "stdout",
     "output_type": "stream",
     "text": [
      "Memorization training (0, 4)\n"
     ]
    },
    {
     "name": "stderr",
     "output_type": "stream",
     "text": [
      "100%|████████████████████████████████████████████████████████████████████████████████████| 6/6 [01:26<00:00, 20.28s/it]\n"
     ]
    },
    {
     "name": "stdout",
     "output_type": "stream",
     "text": [
      "Memorization training (0, 5)\n"
     ]
    },
    {
     "name": "stderr",
     "output_type": "stream",
     "text": [
      "100%|████████████████████████████████████████████████████████████████████████████████████| 6/6 [01:24<00:00, 20.15s/it]\n"
     ]
    },
    {
     "name": "stdout",
     "output_type": "stream",
     "text": [
      "Memorization training (0, 6)\n"
     ]
    },
    {
     "name": "stderr",
     "output_type": "stream",
     "text": [
      "100%|████████████████████████████████████████████████████████████████████████████████████| 6/6 [01:26<00:00, 20.28s/it]\n"
     ]
    },
    {
     "name": "stdout",
     "output_type": "stream",
     "text": [
      "Memorization training (0, 7)\n"
     ]
    },
    {
     "name": "stderr",
     "output_type": "stream",
     "text": [
      "100%|████████████████████████████████████████████████████████████████████████████████████| 6/6 [01:32<00:00, 21.47s/it]\n"
     ]
    },
    {
     "name": "stdout",
     "output_type": "stream",
     "text": [
      "Memorization training (0, 8)\n"
     ]
    },
    {
     "name": "stderr",
     "output_type": "stream",
     "text": [
      "100%|████████████████████████████████████████████████████████████████████████████████████| 6/6 [01:29<00:00, 20.99s/it]\n"
     ]
    },
    {
     "name": "stdout",
     "output_type": "stream",
     "text": [
      "Memorization training (0, 9)\n"
     ]
    },
    {
     "name": "stderr",
     "output_type": "stream",
     "text": [
      "100%|████████████████████████████████████████████████████████████████████████████████████| 6/6 [01:29<00:00, 21.27s/it]\n"
     ]
    },
    {
     "name": "stdout",
     "output_type": "stream",
     "text": [
      "Memorization training (1, 2)\n"
     ]
    },
    {
     "name": "stderr",
     "output_type": "stream",
     "text": [
      "100%|████████████████████████████████████████████████████████████████████████████████████| 6/6 [01:35<00:00, 22.43s/it]\n"
     ]
    },
    {
     "name": "stdout",
     "output_type": "stream",
     "text": [
      "Memorization training (1, 3)\n"
     ]
    },
    {
     "name": "stderr",
     "output_type": "stream",
     "text": [
      "100%|████████████████████████████████████████████████████████████████████████████████████| 6/6 [01:40<00:00, 23.53s/it]\n"
     ]
    },
    {
     "name": "stdout",
     "output_type": "stream",
     "text": [
      "Memorization training (1, 4)\n"
     ]
    },
    {
     "name": "stderr",
     "output_type": "stream",
     "text": [
      "100%|████████████████████████████████████████████████████████████████████████████████████| 6/6 [00:59<00:00, 13.89s/it]\n"
     ]
    },
    {
     "name": "stdout",
     "output_type": "stream",
     "text": [
      "Memorization training (1, 5)\n"
     ]
    },
    {
     "name": "stderr",
     "output_type": "stream",
     "text": [
      "100%|████████████████████████████████████████████████████████████████████████████████████| 6/6 [00:57<00:00, 13.65s/it]\n"
     ]
    },
    {
     "name": "stdout",
     "output_type": "stream",
     "text": [
      "Memorization training (1, 6)\n"
     ]
    },
    {
     "name": "stderr",
     "output_type": "stream",
     "text": [
      "100%|████████████████████████████████████████████████████████████████████████████████████| 6/6 [01:01<00:00, 14.61s/it]\n"
     ]
    },
    {
     "name": "stdout",
     "output_type": "stream",
     "text": [
      "Memorization training (1, 7)\n"
     ]
    },
    {
     "name": "stderr",
     "output_type": "stream",
     "text": [
      "100%|████████████████████████████████████████████████████████████████████████████████████| 6/6 [01:05<00:00, 15.44s/it]\n"
     ]
    },
    {
     "name": "stdout",
     "output_type": "stream",
     "text": [
      "Memorization training (1, 8)\n"
     ]
    },
    {
     "name": "stderr",
     "output_type": "stream",
     "text": [
      "100%|████████████████████████████████████████████████████████████████████████████████████| 6/6 [01:01<00:00, 14.09s/it]\n"
     ]
    },
    {
     "name": "stdout",
     "output_type": "stream",
     "text": [
      "Memorization training (1, 9)\n"
     ]
    },
    {
     "name": "stderr",
     "output_type": "stream",
     "text": [
      "100%|████████████████████████████████████████████████████████████████████████████████████| 6/6 [00:59<00:00, 13.88s/it]\n"
     ]
    },
    {
     "name": "stdout",
     "output_type": "stream",
     "text": [
      "Memorization training (2, 3)\n"
     ]
    },
    {
     "name": "stderr",
     "output_type": "stream",
     "text": [
      "100%|████████████████████████████████████████████████████████████████████████████████████| 6/6 [00:57<00:00, 13.68s/it]\n"
     ]
    },
    {
     "name": "stdout",
     "output_type": "stream",
     "text": [
      "Memorization training (2, 4)\n"
     ]
    },
    {
     "name": "stderr",
     "output_type": "stream",
     "text": [
      "100%|████████████████████████████████████████████████████████████████████████████████████| 6/6 [00:55<00:00, 13.00s/it]\n"
     ]
    },
    {
     "name": "stdout",
     "output_type": "stream",
     "text": [
      "Memorization training (2, 5)\n"
     ]
    },
    {
     "name": "stderr",
     "output_type": "stream",
     "text": [
      "100%|████████████████████████████████████████████████████████████████████████████████████| 6/6 [00:53<00:00, 12.62s/it]\n"
     ]
    },
    {
     "name": "stdout",
     "output_type": "stream",
     "text": [
      "Memorization training (2, 6)\n"
     ]
    },
    {
     "name": "stderr",
     "output_type": "stream",
     "text": [
      "100%|████████████████████████████████████████████████████████████████████████████████████| 6/6 [00:55<00:00, 13.00s/it]\n"
     ]
    },
    {
     "name": "stdout",
     "output_type": "stream",
     "text": [
      "Memorization training (2, 7)\n"
     ]
    },
    {
     "name": "stderr",
     "output_type": "stream",
     "text": [
      "100%|████████████████████████████████████████████████████████████████████████████████████| 6/6 [00:57<00:00, 13.42s/it]\n"
     ]
    },
    {
     "name": "stdout",
     "output_type": "stream",
     "text": [
      "Memorization training (2, 8)\n"
     ]
    },
    {
     "name": "stderr",
     "output_type": "stream",
     "text": [
      "100%|████████████████████████████████████████████████████████████████████████████████████| 6/6 [00:59<00:00, 14.22s/it]\n"
     ]
    },
    {
     "name": "stdout",
     "output_type": "stream",
     "text": [
      "Memorization training (2, 9)\n"
     ]
    },
    {
     "name": "stderr",
     "output_type": "stream",
     "text": [
      "100%|████████████████████████████████████████████████████████████████████████████████████| 6/6 [00:59<00:00, 14.25s/it]\n"
     ]
    },
    {
     "name": "stdout",
     "output_type": "stream",
     "text": [
      "Memorization training (3, 4)\n"
     ]
    },
    {
     "name": "stderr",
     "output_type": "stream",
     "text": [
      "100%|████████████████████████████████████████████████████████████████████████████████████| 6/6 [00:57<00:00, 13.27s/it]\n"
     ]
    },
    {
     "name": "stdout",
     "output_type": "stream",
     "text": [
      "Memorization training (3, 5)\n"
     ]
    },
    {
     "name": "stderr",
     "output_type": "stream",
     "text": [
      "100%|████████████████████████████████████████████████████████████████████████████████████| 6/6 [00:57<00:00, 13.45s/it]\n"
     ]
    },
    {
     "name": "stdout",
     "output_type": "stream",
     "text": [
      "Memorization training (3, 6)\n"
     ]
    },
    {
     "name": "stderr",
     "output_type": "stream",
     "text": [
      "100%|████████████████████████████████████████████████████████████████████████████████████| 6/6 [00:56<00:00, 13.21s/it]\n"
     ]
    },
    {
     "name": "stdout",
     "output_type": "stream",
     "text": [
      "Memorization training (3, 7)\n"
     ]
    },
    {
     "name": "stderr",
     "output_type": "stream",
     "text": [
      "100%|████████████████████████████████████████████████████████████████████████████████████| 6/6 [00:58<00:00, 13.85s/it]\n"
     ]
    },
    {
     "name": "stdout",
     "output_type": "stream",
     "text": [
      "Memorization training (3, 8)\n"
     ]
    },
    {
     "name": "stderr",
     "output_type": "stream",
     "text": [
      "100%|████████████████████████████████████████████████████████████████████████████████████| 6/6 [00:59<00:00, 13.64s/it]\n"
     ]
    },
    {
     "name": "stdout",
     "output_type": "stream",
     "text": [
      "Memorization training (3, 9)\n"
     ]
    },
    {
     "name": "stderr",
     "output_type": "stream",
     "text": [
      "100%|████████████████████████████████████████████████████████████████████████████████████| 6/6 [00:56<00:00, 13.31s/it]\n"
     ]
    },
    {
     "name": "stdout",
     "output_type": "stream",
     "text": [
      "Memorization training (4, 5)\n"
     ]
    },
    {
     "name": "stderr",
     "output_type": "stream",
     "text": [
      "100%|████████████████████████████████████████████████████████████████████████████████████| 6/6 [00:54<00:00, 12.68s/it]\n"
     ]
    },
    {
     "name": "stdout",
     "output_type": "stream",
     "text": [
      "Memorization training (4, 6)\n"
     ]
    },
    {
     "name": "stderr",
     "output_type": "stream",
     "text": [
      "100%|████████████████████████████████████████████████████████████████████████████████████| 6/6 [00:56<00:00, 13.41s/it]\n"
     ]
    },
    {
     "name": "stdout",
     "output_type": "stream",
     "text": [
      "Memorization training (4, 7)\n"
     ]
    },
    {
     "name": "stderr",
     "output_type": "stream",
     "text": [
      "100%|████████████████████████████████████████████████████████████████████████████████████| 6/6 [00:56<00:00, 13.40s/it]\n"
     ]
    },
    {
     "name": "stdout",
     "output_type": "stream",
     "text": [
      "Memorization training (4, 8)\n"
     ]
    },
    {
     "name": "stderr",
     "output_type": "stream",
     "text": [
      "100%|████████████████████████████████████████████████████████████████████████████████████| 6/6 [00:56<00:00, 13.04s/it]\n"
     ]
    },
    {
     "name": "stdout",
     "output_type": "stream",
     "text": [
      "Memorization training (4, 9)\n"
     ]
    },
    {
     "name": "stderr",
     "output_type": "stream",
     "text": [
      "100%|████████████████████████████████████████████████████████████████████████████████████| 6/6 [00:59<00:00, 14.09s/it]\n"
     ]
    },
    {
     "name": "stdout",
     "output_type": "stream",
     "text": [
      "Memorization training (5, 6)\n"
     ]
    },
    {
     "name": "stderr",
     "output_type": "stream",
     "text": [
      "100%|████████████████████████████████████████████████████████████████████████████████████| 6/6 [00:53<00:00, 12.61s/it]\n"
     ]
    },
    {
     "name": "stdout",
     "output_type": "stream",
     "text": [
      "Memorization training (5, 7)\n"
     ]
    },
    {
     "name": "stderr",
     "output_type": "stream",
     "text": [
      "100%|████████████████████████████████████████████████████████████████████████████████████| 6/6 [00:55<00:00, 12.93s/it]\n"
     ]
    },
    {
     "name": "stdout",
     "output_type": "stream",
     "text": [
      "Memorization training (5, 8)\n"
     ]
    },
    {
     "name": "stderr",
     "output_type": "stream",
     "text": [
      "100%|████████████████████████████████████████████████████████████████████████████████████| 6/6 [00:52<00:00, 12.40s/it]\n"
     ]
    },
    {
     "name": "stdout",
     "output_type": "stream",
     "text": [
      "Memorization training (5, 9)\n"
     ]
    },
    {
     "name": "stderr",
     "output_type": "stream",
     "text": [
      "100%|████████████████████████████████████████████████████████████████████████████████████| 6/6 [00:53<00:00, 12.55s/it]\n"
     ]
    },
    {
     "name": "stdout",
     "output_type": "stream",
     "text": [
      "Memorization training (6, 7)\n"
     ]
    },
    {
     "name": "stderr",
     "output_type": "stream",
     "text": [
      "100%|████████████████████████████████████████████████████████████████████████████████████| 6/6 [00:58<00:00, 13.68s/it]\n"
     ]
    },
    {
     "name": "stdout",
     "output_type": "stream",
     "text": [
      "Memorization training (6, 8)\n"
     ]
    },
    {
     "name": "stderr",
     "output_type": "stream",
     "text": [
      "100%|████████████████████████████████████████████████████████████████████████████████████| 6/6 [01:13<00:00, 18.05s/it]\n"
     ]
    },
    {
     "name": "stdout",
     "output_type": "stream",
     "text": [
      "Memorization training (6, 9)\n"
     ]
    },
    {
     "name": "stderr",
     "output_type": "stream",
     "text": [
      "100%|████████████████████████████████████████████████████████████████████████████████████| 6/6 [01:32<00:00, 21.51s/it]\n"
     ]
    },
    {
     "name": "stdout",
     "output_type": "stream",
     "text": [
      "Memorization training (7, 8)\n"
     ]
    },
    {
     "name": "stderr",
     "output_type": "stream",
     "text": [
      "100%|████████████████████████████████████████████████████████████████████████████████████| 6/6 [01:35<00:00, 22.44s/it]\n"
     ]
    },
    {
     "name": "stdout",
     "output_type": "stream",
     "text": [
      "Memorization training (7, 9)\n"
     ]
    },
    {
     "name": "stderr",
     "output_type": "stream",
     "text": [
      "100%|████████████████████████████████████████████████████████████████████████████████████| 6/6 [01:35<00:00, 22.21s/it]\n"
     ]
    },
    {
     "name": "stdout",
     "output_type": "stream",
     "text": [
      "Memorization training (8, 9)\n"
     ]
    },
    {
     "name": "stderr",
     "output_type": "stream",
     "text": [
      "100%|████████████████████████████████████████████████████████████████████████████████████| 6/6 [01:31<00:00, 21.73s/it]\n"
     ]
    },
    {
     "name": "stdout",
     "output_type": "stream",
     "text": [
      "Total time spent : 3144.26s\n"
     ]
    }
   ],
   "source": [
    "n_luts_list =[[128]*2**i+[1] for i in range(6)] # number of luts per layer\n",
    "k = 2 # sampling input\n",
    "n_layers = [2**i+1 for i in range(6)]\n",
    "\n",
    "pairwise = [(i,j) for i in range(0,10) for j in range(i+1,10)]\n",
    "\n",
    "train_accuracy = np.zeros((len(n_layers),len(pairwise)))\n",
    "test_accuracy = np.zeros((len(n_layers), len(pairwise)))\n",
    "\n",
    "start = time.time()\n",
    "\n",
    "for p in range(len(pairwise)):\n",
    "    \n",
    "    sub_X_train,sub_y_train= get_pairwise_MNIST(X_train,y_train,pairwise[p][0],pairwise[p][1])\n",
    "    sub_X_test,sub_y_test= get_pairwise_MNIST(X_test,y_test,pairwise[p][0],pairwise[p][1])\n",
    "\n",
    "    nn_list = []\n",
    "    inputs = np.zeros((len(sub_y_train),k),int)\n",
    "\n",
    "    indexes_0 = np.where(sub_y_train == 0)\n",
    "    indexes_1 = np.where(sub_y_train == 1)\n",
    "\n",
    "    print(\"Memorization training {}\".format(pairwise[p]))\n",
    "    for n in tqdm(range(len(n_layers))):\n",
    "        n_luts = n_luts_list[n]\n",
    "        nn = NLUTS(k,n_luts,n_layers[n])\n",
    "        outputs = nn.train(sub_X_train,sub_y_train, indexes_0, indexes_1)\n",
    "        nn_list.append(nn)\n",
    "        train_accuracy[n,p]= accuracy_score(sub_y_train, outputs)\n",
    "        test_accuracy[n,p]= nn.score(sub_X_test,sub_y_test)\n",
    "\n",
    "end = time.time() - start\n",
    "print(\"Total time spent : {:.2f}s\".format(end))"
   ]
  },
  {
   "cell_type": "code",
   "execution_count": 5,
   "metadata": {},
   "outputs": [
    {
     "data": {
      "text/plain": [
       "\"\\nwith open('./data/exp6_train_accuracy_128.p', 'wb') as f:\\n    pickle.dump(train_accuracy,f)\\nwith open('./data/exp6_test_accuracy_128.p', 'wb') as f:\\n    pickle.dump(test_accuracy,f)\\n\""
      ]
     },
     "execution_count": 5,
     "metadata": {},
     "output_type": "execute_result"
    }
   ],
   "source": [
    "\"\"\"\n",
    "with open('./data/exp6_train_accuracy_128.p', 'wb') as f:\n",
    "    pickle.dump(train_accuracy,f)\n",
    "with open('./data/exp6_test_accuracy_128.p', 'wb') as f:\n",
    "    pickle.dump(test_accuracy,f)\n",
    "\"\"\""
   ]
  },
  {
   "cell_type": "code",
   "execution_count": 4,
   "metadata": {},
   "outputs": [],
   "source": [
    "with open('./data/exp6_train_accuracy_64.p', 'rb') as f:\n",
    "    train_accuracy=pickle.load(f)\n",
    "with open('./data/exp6_test_accuracy_64.p', 'rb') as f:\n",
    "    test_accuracy=pickle.load(f)"
   ]
  },
  {
   "cell_type": "code",
   "execution_count": 15,
   "metadata": {},
   "outputs": [
    {
     "data": {
      "image/png": "[encoded data removed]",
      "text/plain": [
       "<Figure size 504x360 with 1 Axes>"
      ]
     },
     "metadata": {},
     "output_type": "display_data"
    }
   ],
   "source": [
    "plt.figure(figsize=(7,5))\n",
    "training = plt.plot(np.array(range(6))-0.15,train_accuracy,'o',color=\"lightgreen\",markersize=10,fillstyle='none')\n",
    "test = plt.plot(np.array(range(6))+0.15,test_accuracy,'o',color=\"steelblue\",markersize=10,fillstyle='none')\n",
    "diff = plt.plot(np.array(range(6)),train_accuracy - test_accuracy,'o',color=\"gray\",markersize=10,fillstyle='none')\n",
    "plt.legend((training[0],test[0],diff[0]),[\"training\",\"test\",\"difference\"],loc=5)\n",
    "plt.axhline(y=0.5,color=\"black\", linestyle=\"--\")\n",
    "plt.xlabel(\"k\")\n",
    "plt.ylabel(\"accuracy\")\n",
    "plt.show()"
   ]
  },
  {
   "cell_type": "markdown",
   "metadata": {},
   "source": [
    "## Experiment 7"
   ]
  },
  {
   "cell_type": "code",
   "execution_count": null,
   "metadata": {},
   "outputs": [],
   "source": [
    "\"\"\"\n",
    "def unpickle(file):\n",
    "    import pickle\n",
    "    with open(file, 'rb') as fo:\n",
    "        dict = pickle.load(fo, encoding='bytes')\n",
    "    return dict[b'data'], dict[b'labels']\n",
    "\n",
    "def loadCIFAR(folder):\n",
    "    X_batch_1,y_batch_1 = unpickle('./data/' + folder + '/data_batch_1')\n",
    "    X_batch_2,y_batch_2 = unpickle('./data/' + folder + '/data_batch_2')\n",
    "    X_batch_3,y_batch_3 = unpickle('./data/' + folder + '/data_batch_3')\n",
    "    X_batch_4,y_batch_4 = unpickle('./data/' + folder + '/data_batch_4')\n",
    "    X_batch_5,y_batch_5 = unpickle('./data/' + folder + '/data_batch_5')\n",
    "    \n",
    "    X_test,y_test = unpickle('./data/' + folder + '/test_batch')\n",
    "    X_train = np.concatenate((X_batch_1,X_batch_2,X_batch_3,X_batch_4,X_batch_5))\n",
    "    y_train = y_batch_1 + y_batch_2 + y_batch_3 + y_batch_4 + y_batch_5\n",
    "    return X_train,np.array(y_train),X_test,np.array(y_test)\n",
    "\n",
    "trainingImages, trainingLabels,testImages, testLabels = loadCIFAR(\"cifar\")\n",
    "\n",
    "from ipywidgets import FloatProgress\n",
    "from IPython.display import display\n",
    "\n",
    "X_train = np.zeros((50000,3072), int)\n",
    "y_train = np.zeros((50000),int)\n",
    "threshold=0.5 * 255\n",
    "f = FloatProgress(min=0, max=trainingImages.shape[0])\n",
    "display(f)\n",
    "for i in range(trainingImages.shape[0]): \n",
    "    f.value+=1\n",
    "    X_train[i,:]= 1.0*(trainingImages[i]>threshold)\n",
    "    \n",
    "y_train[trainingLabels>4] = 1\n",
    "print(X_train.shape)\n",
    "\n",
    "X_test = np.zeros((10000,3072), int)\n",
    "y_test = np.zeros((10000),int)\n",
    "threshold=0.5 * 255\n",
    "f = FloatProgress(min=0, max=testImages.shape[0])\n",
    "display(f)\n",
    "for i in range(testImages.shape[0]): \n",
    "    f.value+=1\n",
    "    X_test[i,:]= 1.0*(testImages[i]>threshold)\n",
    "\n",
    "y_test[testLabels>4] = 1\n",
    "print(X_test.shape)\n",
    "\n",
    "# dump data into pickle file\n",
    "with open('./data/cifar/cifar_X_train.p', 'wb') as f:\n",
    "    pickle.dump(X_train, f)\n",
    "with open('./data/cifar/cifar_y_train.p', 'wb') as f:\n",
    "    pickle.dump(trainingLabels, f)\n",
    "with open('./data/cifar/cifar_X_test.p', 'wb') as f:\n",
    "    pickle.dump(X_test, f)\n",
    "with open('./data/cifar/cifar_y_test.p', 'wb') as f:\n",
    "    pickle.dump(testLabels, f)\n",
    "\n",
    "# dump binarized labels\n",
    "with open('./data/cifar/binarized_cifar_y_train.p', 'wb') as f:\n",
    "    pickle.dump(y_train, f)\n",
    "with open('./data/cifar/binarized_cifar_y_test.p', 'wb') as f:\n",
    "    pickle.dump(y_test, f)\n",
    "\"\"\""
   ]
  },
  {
   "cell_type": "code",
   "execution_count": 13,
   "metadata": {},
   "outputs": [
    {
     "data": {
      "image/png": "[encoded data removed]",
      "text/plain": [
       "<Figure size 432x288 with 2 Axes>"
      ]
     },
     "metadata": {},
     "output_type": "display_data"
    },
    {
     "data": {
      "image/png": "[encoded data removed]",
      "text/plain": [
       "<Figure size 432x288 with 2 Axes>"
      ]
     },
     "metadata": {},
     "output_type": "display_data"
    },
    {
     "data": {
      "image/png": "[encoded data removed]",
      "text/plain": [
       "<Figure size 432x288 with 2 Axes>"
      ]
     },
     "metadata": {},
     "output_type": "display_data"
    },
    {
     "data": {
      "image/png": "[encoded data removed]",
      "text/plain": [
       "<Figure size 432x288 with 2 Axes>"
      ]
     },
     "metadata": {},
     "output_type": "display_data"
    },
    {
     "data": {
      "image/png": "[encoded data removed]",
      "text/plain": [
       "<Figure size 432x288 with 2 Axes>"
      ]
     },
     "metadata": {},
     "output_type": "display_data"
    },
    {
     "data": {
      "image/png": "[encoded data removed]",
      "text/plain": [
       "<Figure size 432x288 with 2 Axes>"
      ]
     },
     "metadata": {},
     "output_type": "display_data"
    },
    {
     "data": {
      "image/png": "[encoded data removed]",
      "text/plain": [
       "<Figure size 432x288 with 2 Axes>"
      ]
     },
     "metadata": {},
     "output_type": "display_data"
    },
    {
     "data": {
      "image/png": "[encoded data removed]",
      "text/plain": [
       "<Figure size 432x288 with 2 Axes>"
      ]
     },
     "metadata": {},
     "output_type": "display_data"
    },
    {
     "data": {
      "image/png": "[encoded data removed]",
      "text/plain": [
       "<Figure size 432x288 with 2 Axes>"
      ]
     },
     "metadata": {},
     "output_type": "display_data"
    }
   ],
   "source": [
    "for i in range(9):\n",
    "    threshold=0.5 * 255\n",
    "    test = 1.0*(trainingImages[i]>threshold)\n",
    "\n",
    "    R = test[0:1024].reshape(32,32)\n",
    "    G = test[1024:2048].reshape(32,32)\n",
    "    B = test[2048:].reshape(32,32)\n",
    "    bin_img = np.dstack((R,G,B))\n",
    "\n",
    "    plt.figure(i)\n",
    "    plt.subplot(121)\n",
    "    plt.imshow(bin_img , matplotlib.pyplot.cm.gray)\n",
    "    plt.subplot(122)\n",
    "    \n",
    "    R = trainingImages[i][0:1024].reshape(32,32)\n",
    "    G = trainingImages[i][1024:2048].reshape(32,32)\n",
    "    B = trainingImages[i][2048:].reshape(32,32)\n",
    "    img = np.dstack((R,G,B))\n",
    "    \n",
    "    plt.imshow(img , matplotlib.pyplot.cm.gray)\n",
    "    plt.show()"
   ]
  },
  {
   "cell_type": "code",
   "execution_count": 5,
   "metadata": {},
   "outputs": [],
   "source": [
    "with open('./data/cifar/cifar_X_train.p', 'rb') as f:\n",
    "    X_train = pickle.load(f)\n",
    "with open('./data/cifar/binarized_cifar_y_train.p', 'rb') as f:\n",
    "    y_train = pickle.load(f)\n",
    "with open('./data/cifar/cifar_X_test.p', 'rb') as f:\n",
    "    X_test = pickle.load(f)\n",
    "with open('./data/cifar/binarized_cifar_y_test.p', 'rb') as f:\n",
    "    y_test = pickle.load(f)"
   ]
  },
  {
   "cell_type": "code",
   "execution_count": 15,
   "metadata": {},
   "outputs": [
    {
     "name": "stdout",
     "output_type": "stream",
     "text": [
      "k = 8 training accuracy : 0.690\n",
      "k = 8 test accuracy : 0.622\n",
      "Time spent : 350.99s\n",
      "k = 10 training accuracy : 0.793\n",
      "k = 10 test accuracy : 0.625\n",
      "Time spent : 402.82s\n",
      "k = 12 training accuracy : 0.915\n",
      "k = 12 test accuracy : 0.627\n",
      "Time spent : 466.10s\n",
      "Total time spent : 1219.91s\n"
     ]
    }
   ],
   "source": [
    "n_luts = [1024,1024,1024,1024,1024,1] # number of luts per layer\n",
    "k_list = [8,10,12] # sampling input\n",
    "\n",
    "indexes_0 = np.where(y_train == 0)\n",
    "indexes_1 = np.where(y_train == 1)\n",
    "\n",
    "start = time.time()\n",
    "\n",
    "for k in k_list:\n",
    "    interm = time.time()\n",
    "    nn = NLUTS(k,n_luts,6)\n",
    "    outputs = nn.train(X_train,y_train, indexes_0, indexes_1)\n",
    "    print(\"k = {} training accuracy : {:.3f}\".format(k,accuracy_score(y_train, outputs)))\n",
    "    print(\"k = {} test accuracy : {:.3f}\".format(k,nn.score(X_test,y_test)))\n",
    "    end = time.time() - interm\n",
    "    print(\"Time spent : {:.2f}s\".format(end))\n",
    "    \n",
    "end = time.time() - start\n",
    "print(\"Total time spent : {:.2f}s\".format(end))"
   ]
  },
  {
   "cell_type": "markdown",
   "metadata": {},
   "source": [
    "### random guest"
   ]
  },
  {
   "cell_type": "code",
   "execution_count": 11,
   "metadata": {},
   "outputs": [
    {
     "name": "stdout",
     "output_type": "stream",
     "text": [
      "Training accuracy : 0.49968\n",
      "Test accuracy : 0.4996\n"
     ]
    }
   ],
   "source": [
    "y_predict = np.random.choice([0,1], len(y_train))\n",
    "print(\"Training accuracy : {}\".format(accuracy_score(y_train, y_predict)))\n",
    "\n",
    "y_predict = np.random.choice([0,1], len(y_test))\n",
    "print(\"Test accuracy : {}\".format(accuracy_score(y_test, y_predict)))"
   ]
  },
  {
   "cell_type": "markdown",
   "metadata": {},
   "source": [
    "### Naive Bayes"
   ]
  },
  {
   "cell_type": "code",
   "execution_count": 10,
   "metadata": {},
   "outputs": [
    {
     "name": "stdout",
     "output_type": "stream",
     "text": [
      "Training accuracy : 0.55238\n",
      "Test accuracy : 0.5558\n",
      "Time spent : 13.70s\n"
     ]
    }
   ],
   "source": [
    "from sklearn.naive_bayes import BernoulliNB\n",
    "\n",
    "start = time.time()\n",
    "\n",
    "clf = BernoulliNB()\n",
    "clf.fit(X_train, y_train)\n",
    "print(\"Training accuracy : {}\".format(clf.score(X_train, y_train)))\n",
    "print(\"Test accuracy : {}\".format(clf.score(X_test, y_test)))\n",
    "\n",
    "end = time.time() - start\n",
    "print(\"Time spent : {:.2f}s\".format(end))"
   ]
  },
  {
   "cell_type": "markdown",
   "metadata": {},
   "source": [
    "### Logistic regression"
   ]
  },
  {
   "cell_type": "code",
   "execution_count": 12,
   "metadata": {},
   "outputs": [
    {
     "name": "stderr",
     "output_type": "stream",
     "text": [
      "C:\\Users\\flore\\AppData\\Roaming\\Python\\Python36\\site-packages\\sklearn\\linear_model\\logistic.py:433: FutureWarning: Default solver will be changed to 'lbfgs' in 0.22. Specify a solver to silence this warning.\n",
      "  FutureWarning)\n"
     ]
    },
    {
     "name": "stdout",
     "output_type": "stream",
     "text": [
      "Training accuracy : 0.64026\n",
      "Test accuracy : 0.5611\n",
      "Time spent : 141.81s\n"
     ]
    }
   ],
   "source": [
    "from sklearn.linear_model import LogisticRegression\n",
    "\n",
    "start = time.time()\n",
    "\n",
    "clf = LogisticRegression()\n",
    "clf.fit(X_train, y_train)\n",
    "print(\"Training accuracy : {}\".format(clf.score(X_train, y_train)))\n",
    "print(\"Test accuracy : {}\".format(clf.score(X_test, y_test)))\n",
    "\n",
    "end = time.time() - start\n",
    "print(\"Time spent : {:.2f}s\".format(end))"
   ]
  },
  {
   "cell_type": "markdown",
   "metadata": {},
   "source": [
    "### Random Forest"
   ]
  },
  {
   "cell_type": "code",
   "execution_count": null,
   "metadata": {},
   "outputs": [
    {
     "name": "stdout",
     "output_type": "stream",
     "text": [
      "Training accuracy : 0.99986\n",
      "Test accuracy : 0.6612\n",
      "Time spent : 482.10s\n"
     ]
    }
   ],
   "source": [
    "from sklearn.ensemble import RandomForestClassifier\n",
    "\n",
    "start = time.time()\n",
    "\n",
    "clf = RandomForestClassifier(n_estimators=300)\n",
    "clf.fit(X_train, y_train)\n",
    "print(\"Training accuracy : {}\".format(clf.score(X_train, y_train)))\n",
    "print(\"Test accuracy : {}\".format(clf.score(X_test, y_test)))\n",
    "\n",
    "end = time.time() - start\n",
    "print(\"Time spent : {:.2f}s\".format(end))"
   ]
  },
  {
   "cell_type": "markdown",
   "metadata": {},
   "source": [
    "### 1-Nearest Neighbor"
   ]
  },
  {
   "cell_type": "code",
   "execution_count": 7,
   "metadata": {},
   "outputs": [
    {
     "name": "stdout",
     "output_type": "stream",
     "text": [
      "Training accuracy : 0.57192\n",
      "Test accuracy : 0.5736\n",
      "Time spent : 961.58s\n"
     ]
    }
   ],
   "source": [
    "from sklearn.neighbors import KNeighborsClassifier\n",
    "\n",
    "start = time.time()\n",
    "\n",
    "clf = KNeighborsClassifier(n_neighbors=1)\n",
    "clf.fit(X_train[:1000], y_train[:1000])\n",
    "print(\"Training accuracy : {}\".format(clf.score(X_train, y_train)))\n",
    "print(\"Test accuracy : {}\".format(clf.score(X_test, y_test)))\n",
    "\n",
    "end = time.time() - start\n",
    "print(\"Time spent : {:.2f}s\".format(end))"
   ]
  },
  {
   "cell_type": "markdown",
   "metadata": {},
   "source": [
    "### 5-Nearest Neighbor"
   ]
  },
  {
   "cell_type": "code",
   "execution_count": 8,
   "metadata": {},
   "outputs": [
    {
     "name": "stdout",
     "output_type": "stream",
     "text": [
      "Training accuracy : 0.57424\n",
      "Test accuracy : 0.5788\n",
      "Time spent : 780.04s\n"
     ]
    }
   ],
   "source": [
    "from sklearn.neighbors import KNeighborsClassifier\n",
    "\n",
    "start = time.time()\n",
    "\n",
    "clf = KNeighborsClassifier(n_neighbors=5)\n",
    "clf.fit(X_train[:1000], y_train[:1000])\n",
    "print(\"Training accuracy : {}\".format(clf.score(X_train, y_train)))\n",
    "print(\"Test accuracy : {}\".format(clf.score(X_test, y_test)))\n",
    "\n",
    "end = time.time() - start\n",
    "print(\"Time spent : {:.2f}s\".format(end))"
   ]
  },
  {
   "cell_type": "markdown",
   "metadata": {},
   "source": [
    "## Experiment 8"
   ]
  },
  {
   "cell_type": "code",
   "execution_count": 11,
   "metadata": {},
   "outputs": [],
   "source": [
    "with open('./data/cifar/cifar_X_train.p', 'rb') as f:\n",
    "    X_train = pickle.load(f)\n",
    "with open('./data/cifar/cifar_y_train.p', 'rb') as f:\n",
    "    y_train = pickle.load(f)\n",
    "with open('./data/cifar/cifar_X_test.p', 'rb') as f:\n",
    "    X_test = pickle.load(f)\n",
    "with open('./data/cifar/cifar_y_test.p', 'rb') as f:\n",
    "    y_test = pickle.load(f)"
   ]
  },
  {
   "cell_type": "code",
   "execution_count": 13,
   "metadata": {},
   "outputs": [
    {
     "name": "stderr",
     "output_type": "stream",
     "text": [
      "100%|██████████████████████████████████████████████████████████████████████████████████| 45/45 [48:41<00:00, 63.29s/it]\n"
     ]
    },
    {
     "name": "stdout",
     "output_type": "stream",
     "text": [
      "Total time spent : 2921.54s\n"
     ]
    }
   ],
   "source": [
    "n_luts = [1024,1024,1024,1024,1024,1] # number of luts per layer\n",
    "k = 10 # sampling input\n",
    "n_layer = 6\n",
    "\n",
    "pairwise = [(i,j) for i in range(0,10) for j in range(i+1,10)]\n",
    "\n",
    "train_accuracy = np.zeros((1,len(pairwise)))\n",
    "test_accuracy = np.zeros((1, len(pairwise)))\n",
    "\n",
    "start = time.time()\n",
    "\n",
    "for p in tqdm(range(len(pairwise))):\n",
    "    \n",
    "    sub_X_train,sub_y_train= get_pairwise(X_train,y_train,pairwise[p][0],pairwise[p][1])\n",
    "    sub_X_test,sub_y_test= get_pairwise(X_test,y_test,pairwise[p][0],pairwise[p][1])\n",
    "\n",
    "    inputs = np.zeros((len(sub_y_train),k),int)\n",
    "\n",
    "    indexes_0 = np.where(sub_y_train == 0)\n",
    "    indexes_1 = np.where(sub_y_train == 1)\n",
    "    \n",
    "    nn = NLUTS(k,n_luts,n_layer)\n",
    "    outputs = nn.train(sub_X_train,sub_y_train, indexes_0, indexes_1)\n",
    "    train_accuracy[0,p]= accuracy_score(sub_y_train, outputs)\n",
    "    test_accuracy[0,p]= nn.score(sub_X_test,sub_y_test)\n",
    "\n",
    "end = time.time() - start\n",
    "print(\"Total time spent : {:.2f}s\".format(end))"
   ]
  },
  {
   "cell_type": "code",
   "execution_count": 14,
   "metadata": {},
   "outputs": [],
   "source": [
    "with open('./data/exp8_train_accuracy.p', 'wb') as f:\n",
    "    pickle.dump(train_accuracy,f)\n",
    "with open('./data/exp8_test_accuracy.p', 'wb') as f:\n",
    "    pickle.dump(test_accuracy,f)"
   ]
  },
  {
   "cell_type": "code",
   "execution_count": 18,
   "metadata": {},
   "outputs": [
    {
     "data": {
      "text/plain": [
       "array([[0.9568, 0.9502, 0.9649, 0.9618, 0.9769, 0.9721, 0.9789, 0.9346,\n",
       "        0.9722, 0.985 , 0.9833, 0.9795, 0.9908, 0.9791, 0.9868, 0.959 ,\n",
       "        0.9454, 0.9588, 0.9492, 0.9668, 0.9448, 0.9627, 0.9784, 0.9746,\n",
       "        0.963 , 0.962 , 0.9464, 0.9719, 0.9796, 0.9728, 0.9726, 0.9664,\n",
       "        0.9581, 0.9777, 0.9722, 0.9626, 0.9779, 0.9827, 0.9789, 0.9648,\n",
       "        0.9877, 0.9798, 0.9845, 0.9699, 0.9759]])"
      ]
     },
     "execution_count": 18,
     "metadata": {},
     "output_type": "execute_result"
    }
   ],
   "source": [
    "train_accuracy"
   ]
  },
  {
   "cell_type": "code",
   "execution_count": 19,
   "metadata": {},
   "outputs": [
    {
     "data": {
      "text/plain": [
       "array([[0.775 , 0.775 , 0.8115, 0.8255, 0.8125, 0.841 , 0.8075, 0.72  ,\n",
       "        0.7825, 0.789 , 0.787 , 0.7805, 0.8035, 0.8035, 0.7655, 0.7635,\n",
       "        0.6725, 0.689 , 0.648 , 0.6905, 0.6675, 0.7255, 0.82  , 0.8125,\n",
       "        0.696 , 0.6135, 0.688 , 0.71  , 0.8135, 0.7665, 0.7245, 0.683 ,\n",
       "        0.6965, 0.8355, 0.8005, 0.719 , 0.7105, 0.8265, 0.7915, 0.7695,\n",
       "        0.8625, 0.8185, 0.818 , 0.754 , 0.7695]])"
      ]
     },
     "execution_count": 19,
     "metadata": {},
     "output_type": "execute_result"
    }
   ],
   "source": [
    "test_accuracy"
   ]
  },
  {
   "cell_type": "code",
   "execution_count": 48,
   "metadata": {},
   "outputs": [
    {
     "name": "stdout",
     "output_type": "stream",
     "text": [
      "Training accuracy\n",
      "PLANE,AUTO : 0.96 \n",
      "PLANE,BIRD : 0.95 \n",
      "PLANE,CAT : 0.96 \n",
      "PLANE,DEER : 0.96 \n",
      "PLANE,DOG : 0.98 \n",
      "PLANE,FROG : 0.97 \n",
      "PLANE,HORSE : 0.98 \n",
      "PLANE,SHIP : 0.93 \n",
      "PLANE,TRUCK : 0.97 \n",
      "AUTO,BIRD : 0.98 \n",
      "AUTO,CAT : 0.98 \n",
      "AUTO,DEER : 0.98 \n",
      "AUTO,DOG : 0.99 \n",
      "AUTO,FROG : 0.98 \n",
      "AUTO,HORSE : 0.99 \n",
      "AUTO,SHIP : 0.96 \n",
      "AUTO,TRUCK : 0.95 \n",
      "BIRD,CAT : 0.96 \n",
      "BIRD,DEER : 0.95 \n",
      "BIRD,DOG : 0.97 \n",
      "BIRD,FROG : 0.94 \n",
      "BIRD,HORSE : 0.96 \n",
      "BIRD,SHIP : 0.98 \n",
      "BIRD,TRUCK : 0.97 \n",
      "CAT,DEER : 0.96 \n",
      "CAT,DOG : 0.96 \n",
      "CAT,FROG : 0.95 \n",
      "CAT,HORSE : 0.97 \n",
      "CAT,SHIP : 0.98 \n",
      "CAT,TRUCK : 0.97 \n",
      "DEER,DOG : 0.97 \n",
      "DEER,FROG : 0.97 \n",
      "DEER,HORSE : 0.96 \n",
      "DEER,SHIP : 0.98 \n",
      "DEER,TRUCK : 0.97 \n",
      "DOG,FROG : 0.96 \n",
      "DOG,HORSE : 0.98 \n",
      "DOG,SHIP : 0.98 \n",
      "DOG,TRUCK : 0.98 \n",
      "FROG,HORSE : 0.96 \n",
      "FROG,SHIP : 0.99 \n",
      "FROG,TRUCK : 0.98 \n",
      "HORSE,SHIP : 0.98 \n",
      "HORSE,TRUCK : 0.97 \n",
      "SHIP,TRUCK : 0.98 \n"
     ]
    }
   ],
   "source": [
    "classes = [\"PLANE\", \"AUTO\", \"BIRD\", \"CAT\", \"DEER\", \"DOG\", \"FROG\", \"HORSE\", \"SHIP\", \"TRUCK\"]\n",
    "\n",
    "print(\"Training accuracy\")\n",
    "for i in range(0,10):\n",
    "    for j in range(i+1,10):\n",
    "        print(\"{},{} : {:.2f} \".format( classes[i], classes[j], train_accuracy[0,pairwise.index((i,j))]))"
   ]
  },
  {
   "cell_type": "code",
   "execution_count": 49,
   "metadata": {},
   "outputs": [
    {
     "name": "stdout",
     "output_type": "stream",
     "text": [
      "Test accuracy\n",
      "PLANE,AUTO : 0.78 \n",
      "PLANE,BIRD : 0.78 \n",
      "PLANE,CAT : 0.81 \n",
      "PLANE,DEER : 0.83 \n",
      "PLANE,DOG : 0.81 \n",
      "PLANE,FROG : 0.84 \n",
      "PLANE,HORSE : 0.81 \n",
      "PLANE,SHIP : 0.72 \n",
      "PLANE,TRUCK : 0.78 \n",
      "AUTO,BIRD : 0.79 \n",
      "AUTO,CAT : 0.79 \n",
      "AUTO,DEER : 0.78 \n",
      "AUTO,DOG : 0.80 \n",
      "AUTO,FROG : 0.80 \n",
      "AUTO,HORSE : 0.77 \n",
      "AUTO,SHIP : 0.76 \n",
      "AUTO,TRUCK : 0.67 \n",
      "BIRD,CAT : 0.69 \n",
      "BIRD,DEER : 0.65 \n",
      "BIRD,DOG : 0.69 \n",
      "BIRD,FROG : 0.67 \n",
      "BIRD,HORSE : 0.73 \n",
      "BIRD,SHIP : 0.82 \n",
      "BIRD,TRUCK : 0.81 \n",
      "CAT,DEER : 0.70 \n",
      "CAT,DOG : 0.61 \n",
      "CAT,FROG : 0.69 \n",
      "CAT,HORSE : 0.71 \n",
      "CAT,SHIP : 0.81 \n",
      "CAT,TRUCK : 0.77 \n",
      "DEER,DOG : 0.72 \n",
      "DEER,FROG : 0.68 \n",
      "DEER,HORSE : 0.70 \n",
      "DEER,SHIP : 0.84 \n",
      "DEER,TRUCK : 0.80 \n",
      "DOG,FROG : 0.72 \n",
      "DOG,HORSE : 0.71 \n",
      "DOG,SHIP : 0.83 \n",
      "DOG,TRUCK : 0.79 \n",
      "FROG,HORSE : 0.77 \n",
      "FROG,SHIP : 0.86 \n",
      "FROG,TRUCK : 0.82 \n",
      "HORSE,SHIP : 0.82 \n",
      "HORSE,TRUCK : 0.75 \n",
      "SHIP,TRUCK : 0.77 \n"
     ]
    }
   ],
   "source": [
    "classes = [\"PLANE\", \"AUTO\", \"BIRD\", \"CAT\", \"DEER\", \"DOG\", \"FROG\", \"HORSE\", \"SHIP\", \"TRUCK\"]\n",
    "\n",
    "print(\"Test accuracy\")\n",
    "for i in range(0,10):\n",
    "    for j in range(i+1,10):\n",
    "        print(\"{},{} : {:.2f} \".format( classes[i], classes[j], test_accuracy[0,pairwise.index((i,j))]))"
   ]
  },
  {
   "cell_type": "code",
   "execution_count": 50,
   "metadata": {},
   "outputs": [
    {
     "name": "stdout",
     "output_type": "stream",
     "text": [
      "Average training accuracy : 0.97\n",
      "Average test accuracy : 0.76\n"
     ]
    }
   ],
   "source": [
    "print(\"Average training accuracy : {:.2f}\".format(train_accuracy.mean()))\n",
    "print(\"Average test accuracy : {:.2f}\".format(test_accuracy.mean()))"
   ]
  },
  {
   "cell_type": "code",
   "execution_count": null,
   "metadata": {},
   "outputs": [],
   "source": []
  }
 ],
 "metadata": {
  "kernelspec": {
   "display_name": "Python 3",
   "language": "python",
   "name": "python3"
  },
  "language_info": {
   "codemirror_mode": {
    "name": "ipython",
    "version": 3
   },
   "file_extension": ".py",
   "mimetype": "text/x-python",
   "name": "python",
   "nbconvert_exporter": "python",
   "pygments_lexer": "ipython3",
   "version": "3.6.4"
  }
 },
 "nbformat": 4,
 "nbformat_minor": 2
}
